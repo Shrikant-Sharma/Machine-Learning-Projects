{
  "cells": [
    {
      "cell_type": "markdown",
      "metadata": {
        "id": "MhImLeFS_ScY"
      },
      "source": [
        "Section 1) Problem description"
      ]
    },
    {
      "cell_type": "markdown",
      "metadata": {
        "id": "x-ba9HEZ_VIs"
      },
      "source": [
        "In this assignment you will get to practice with a very simple neural network implementation from scratch. This neural network, will have to learn what the important features are in the data to produce the output. In particular, this neural net will be given an input matrix of zeros and ones. The output to each sample will be a single one or zero. The output will be determined by the number in the first feature column of the data samples."
      ]
    },
    {
      "cell_type": "markdown",
      "metadata": {
        "id": "HB6qLZ7d_vMp"
      },
      "source": [
        "Section 2) This is your starting code for this assignment"
      ]
    },
    {
      "cell_type": "code",
      "execution_count": 1,
      "metadata": {
        "colab": {
          "base_uri": "https://localhost:8080/",
          "height": 172
        },
        "id": "GLY0u-xo_4hn",
        "outputId": "386494d0-cfb2-4fe4-aba0-2d3c7dffd6ae"
      },
      "outputs": [
        {
          "data": {
            "text/html": [
              "<div>\n",
              "<style scoped>\n",
              "    .dataframe tbody tr th:only-of-type {\n",
              "        vertical-align: middle;\n",
              "    }\n",
              "\n",
              "    .dataframe tbody tr th {\n",
              "        vertical-align: top;\n",
              "    }\n",
              "\n",
              "    .dataframe thead th {\n",
              "        text-align: right;\n",
              "    }\n",
              "</style>\n",
              "<table border=\"1\" class=\"dataframe\">\n",
              "  <thead>\n",
              "    <tr style=\"text-align: right;\">\n",
              "      <th></th>\n",
              "      <th>input1</th>\n",
              "      <th>input2</th>\n",
              "      <th>input3</th>\n",
              "      <th>output</th>\n",
              "    </tr>\n",
              "  </thead>\n",
              "  <tbody>\n",
              "    <tr>\n",
              "      <th>0</th>\n",
              "      <td>0</td>\n",
              "      <td>0</td>\n",
              "      <td>1</td>\n",
              "      <td>0</td>\n",
              "    </tr>\n",
              "    <tr>\n",
              "      <th>1</th>\n",
              "      <td>0</td>\n",
              "      <td>1</td>\n",
              "      <td>1</td>\n",
              "      <td>0</td>\n",
              "    </tr>\n",
              "    <tr>\n",
              "      <th>2</th>\n",
              "      <td>1</td>\n",
              "      <td>0</td>\n",
              "      <td>1</td>\n",
              "      <td>1</td>\n",
              "    </tr>\n",
              "    <tr>\n",
              "      <th>3</th>\n",
              "      <td>1</td>\n",
              "      <td>0</td>\n",
              "      <td>0</td>\n",
              "      <td>1</td>\n",
              "    </tr>\n",
              "  </tbody>\n",
              "</table>\n",
              "</div>"
            ],
            "text/plain": [
              "   input1  input2  input3  output\n",
              "0       0       0       1       0\n",
              "1       0       1       1       0\n",
              "2       1       0       1       1\n",
              "3       1       0       0       1"
            ]
          },
          "execution_count": 1,
          "metadata": {},
          "output_type": "execute_result"
        }
      ],
      "source": [
        "import numpy as np \n",
        "import matplotlib.pyplot as plt\n",
        "import pandas as pd\n",
        "# Fetch Data\n",
        "url =\"https://github.com/barnysanchez/clarku-assignment4/raw/main/inputANDoutputs.csv\"\n",
        "df=pd.read_csv(url,encoding=\"unicode_escape\")\n",
        "df"
      ]
    },
    {
      "cell_type": "code",
      "execution_count": 2,
      "metadata": {
        "colab": {
          "base_uri": "https://localhost:8080/"
        },
        "id": "k-DZT3SyBTGe",
        "outputId": "3ab25131-46d2-4a3d-a8e7-14db60d26c3f"
      },
      "outputs": [
        {
          "data": {
            "text/plain": [
              "[[0, 0, 1], [0, 1, 1], [1, 0, 1], [1, 0, 0]]"
            ]
          },
          "execution_count": 2,
          "metadata": {},
          "output_type": "execute_result"
        }
      ],
      "source": [
        "# Input Funtion\n",
        "def ColumnToArray_Input(dataframe):\n",
        "      \n",
        "    global column_to_list_input\n",
        "    column_to_list_input=[]\n",
        "\n",
        "    for i in range(len(df)):\n",
        "        # appending data to new list \n",
        "        column_to_list_input.append(list(df.iloc[i][:3]))\n",
        "    return column_to_list_input\n",
        "\n",
        "# Output Function \n",
        "def ColumnToArray_Output(dataframe):\n",
        "      \n",
        "    global column_to_list_output\n",
        "    column_to_list_output=[]\n",
        "\n",
        "    for i in range(len(df)):\n",
        "        # appending data to new list \n",
        "        column_to_list_output.append(list(df.iloc[i][-1:]))\n",
        "    return column_to_list_output\n",
        "\n",
        "# Input Funtion\n",
        "ColumnToArray_Input(df)"
      ]
    },
    {
      "cell_type": "code",
      "execution_count": 3,
      "metadata": {
        "colab": {
          "base_uri": "https://localhost:8080/"
        },
        "id": "bfXrVrtcLX5a",
        "outputId": "6f550848-4ab4-448a-ef35-00f7f988aca3"
      },
      "outputs": [
        {
          "data": {
            "text/plain": [
              "[[0], [0], [1], [1]]"
            ]
          },
          "execution_count": 3,
          "metadata": {},
          "output_type": "execute_result"
        }
      ],
      "source": [
        "# Output Funtion\n",
        "ColumnToArray_Output(df)"
      ]
    },
    {
      "cell_type": "markdown",
      "metadata": {
        "id": "WOUCbp1dMlD4"
      },
      "source": [
        "Section 3) Determine the number of epochs needed to achieve 99% prediction accuracy. Manipulate the plot to clearly show this"
      ]
    },
    {
      "cell_type": "code",
      "execution_count": 9,
      "metadata": {
        "colab": {
          "base_uri": "https://localhost:8080/",
          "height": 368
        },
        "id": "lgfr5CJ0Mp8k",
        "outputId": "75ee163a-d9cf-480e-f953-5b62d804b727"
      },
      "outputs": [
        {
          "name": "stdout",
          "output_type": "stream",
          "text": [
            "[[0.35392403]]  - Correct:  0\n",
            "[[0.38816427]]  - Correct:  0\n"
          ]
        },
        {
          "data": {
            "image/png": "[encoded data removed]",
            "text/plain": [
              "<Figure size 1080x360 with 1 Axes>"
            ]
          },
          "metadata": {
            "needs_background": "light"
          },
          "output_type": "display_data"
        }
      ],
      "source": [
        "# input data\n",
        "input = np.array(ColumnToArray_Input(df))\n",
        "\n",
        "# output data\n",
        "output = np.array(ColumnToArray_Output(df))\n",
        "\n",
        "# create NeuralNetwork class\n",
        "class NeuralNetwork:\n",
        "\n",
        "    # intialize variables in class\n",
        "    def __init__(self, input, output):\n",
        "        self.input  = input\n",
        "        self.output = output\n",
        "        \n",
        "        # initialize weights as .50 for simplicity\n",
        "        self.weights = np.array([[.50], [.50], [.50]])\n",
        "        self.error_history = []\n",
        "        self.epoch_list = []\n",
        "\n",
        "    #activation function ==> S(x) = 1/1+e^(-x)\n",
        "    def sigmoid(self, x, deriv=False):\n",
        "        if deriv == True:\n",
        "            return x * (1 - x)\n",
        "        return 1 / (1 + np.exp(-x))\n",
        "\n",
        "    # data will flow through the neural network.\n",
        "    def feed_forward(self):\n",
        "        self.hidden = self.sigmoid(np.dot(self.input, self.weights))\n",
        "\n",
        "    # going backwards through the network to update weights\n",
        "    def backpropagation(self):\n",
        "        self.error  = self.output - self.hidden\n",
        "        delta = self.error * self.sigmoid(self.hidden, deriv=True)\n",
        "        self.weights += np.dot(self.input.T, delta)\n",
        "\n",
        "    # train the neural net for 5 iterations\n",
        "    def train(self, epochs=5):\n",
        "        for epoch in range(epochs):\n",
        "            # flow forward and produce an output\n",
        "            self.feed_forward()\n",
        "            # go back though the network to make corrections based on the output\n",
        "            self.backpropagation()    \n",
        "            # keep track of the error history over each epoch\n",
        "            self.error_history.append(np.average(np.abs(self.error)))\n",
        "            self.epoch_list.append(epoch)\n",
        "\n",
        "    # function to predict output on new and unseen input data                               \n",
        "    def predict(self, new_input):\n",
        "        prediction = self.sigmoid(np.dot(new_input, self.weights))\n",
        "        return prediction\n",
        "\n",
        "# create neural network   \n",
        "NN = NeuralNetwork(input, output)\n",
        "# train neural network\n",
        "NN.train()\n",
        "\n",
        "# create two new examples to predict                                   \n",
        "example = np.array([[0, 1, 1]])\n",
        "example_2 = np.array([[0, 0, 1]])\n",
        "\n",
        "# print the predictions for both examples                                   \n",
        "print(NN.predict(example), ' - Correct: ', example[0][0])\n",
        "print(NN.predict(example_2), ' - Correct: ', example_2[0][0])\n",
        "\n",
        "# plot the error over the entire training duration\n",
        "plt.figure(figsize=(15,5))\n",
        "plt.plot(NN.epoch_list,NN.error_history)\n",
        "plt.xlabel('Epoch')\n",
        "plt.ylabel('Error')\n",
        "plt.show()"
      ]
    },
    {
      "cell_type": "code",
      "execution_count": 10,
      "metadata": {
        "colab": {
          "base_uri": "https://localhost:8080/",
          "height": 368
        },
        "id": "S4LTYxEIWJNb",
        "outputId": "8a5e91fe-7ac5-457c-fd76-7c8720d09f3d"
      },
      "outputs": [
        {
          "name": "stdout",
          "output_type": "stream",
          "text": [
            "[[0.07339768]]  - Correct:  0\n",
            "[[0.17450879]]  - Correct:  0\n"
          ]
        },
        {
          "data": {
            "image/png": "[encoded data removed]",
            "text/plain": [
              "<Figure size 1080x360 with 1 Axes>"
            ]
          },
          "metadata": {
            "needs_background": "light"
          },
          "output_type": "display_data"
        }
      ],
      "source": [
        "# input data\n",
        "input = np.array(ColumnToArray_Input(df))\n",
        "\n",
        "# output data\n",
        "output = np.array(ColumnToArray_Output(df))\n",
        "\n",
        "# create NeuralNetwork class\n",
        "class NeuralNetwork:\n",
        "\n",
        "    # intialize variables in class\n",
        "    def __init__(self, input, output):\n",
        "        self.input  = input\n",
        "        self.output = output\n",
        "        \n",
        "        # initialize weights as .50 for simplicity\n",
        "        self.weights = np.array([[.50], [.50], [.50]])\n",
        "        self.error_history = []\n",
        "        self.epoch_list = []\n",
        "\n",
        "    #activation function ==> S(x) = 1/1+e^(-x)\n",
        "    def sigmoid(self, x, deriv=False):\n",
        "        if deriv == True:\n",
        "            return x * (1 - x)\n",
        "        return 1 / (1 + np.exp(-x))\n",
        "\n",
        "    # data will flow through the neural network.\n",
        "    def feed_forward(self):\n",
        "        self.hidden = self.sigmoid(np.dot(self.input, self.weights))\n",
        "\n",
        "    # going backwards through the network to update weights\n",
        "    def backpropagation(self):\n",
        "        self.error  = self.output - self.hidden\n",
        "        delta = self.error * self.sigmoid(self.hidden, deriv=True)\n",
        "        self.weights += np.dot(self.input.T, delta)\n",
        "\n",
        "    # train the neural net for 50 iterations\n",
        "    def train(self, epochs=50):\n",
        "        for epoch in range(epochs):\n",
        "            # flow forward and produce an output\n",
        "            self.feed_forward()\n",
        "            # go back though the network to make corrections based on the output\n",
        "            self.backpropagation()    \n",
        "            # keep track of the error history over each epoch\n",
        "            self.error_history.append(np.average(np.abs(self.error)))\n",
        "            self.epoch_list.append(epoch)\n",
        "\n",
        "    # function to predict output on new and unseen input data                               \n",
        "    def predict(self, new_input):\n",
        "        prediction = self.sigmoid(np.dot(new_input, self.weights))\n",
        "        return prediction\n",
        "\n",
        "# create neural network   \n",
        "NN = NeuralNetwork(input, output)\n",
        "# train neural network\n",
        "NN.train()\n",
        "\n",
        "# create two new examples to predict                                   \n",
        "example = np.array([[0, 1, 1]])\n",
        "example_2 = np.array([[0, 0, 1]])\n",
        "\n",
        "# print the predictions for both examples                                   \n",
        "print(NN.predict(example), ' - Correct: ', example[0][0])\n",
        "print(NN.predict(example_2), ' - Correct: ', example_2[0][0])\n",
        "\n",
        "# plot the error over the entire training duration\n",
        "plt.figure(figsize=(15,5))\n",
        "plt.plot(NN.epoch_list,NN.error_history)\n",
        "plt.xlabel('Epoch')\n",
        "plt.ylabel('Error')\n",
        "plt.show()"
      ]
    },
    {
      "cell_type": "code",
      "execution_count": 11,
      "metadata": {
        "colab": {
          "base_uri": "https://localhost:8080/",
          "height": 368
        },
        "id": "dG65KpagWx01",
        "outputId": "352e0fdc-00e1-44ef-bed2-2bd7b877682e"
      },
      "outputs": [
        {
          "name": "stdout",
          "output_type": "stream",
          "text": [
            "[[0.02380952]]  - Correct:  0\n",
            "[[0.08107413]]  - Correct:  0\n"
          ]
        },
        {
          "data": {
            "image/png": "[encoded data removed]",
            "text/plain": [
              "<Figure size 1080x360 with 1 Axes>"
            ]
          },
          "metadata": {
            "needs_background": "light"
          },
          "output_type": "display_data"
        }
      ],
      "source": [
        "# input data\n",
        "input = np.array(ColumnToArray_Input(df))\n",
        "\n",
        "# output data\n",
        "output = np.array(ColumnToArray_Output(df))\n",
        "\n",
        "# create NeuralNetwork class\n",
        "class NeuralNetwork:\n",
        "\n",
        "    # intialize variables in class\n",
        "    def __init__(self, input, output):\n",
        "        self.input  = input\n",
        "        self.output = output\n",
        "        \n",
        "        # initialize weights as .50 for simplicity\n",
        "        self.weights = np.array([[.50], [.50], [.50]])\n",
        "        self.error_history = []\n",
        "        self.epoch_list = []\n",
        "\n",
        "    #activation function ==> S(x) = 1/1+e^(-x)\n",
        "    def sigmoid(self, x, deriv=False):\n",
        "        if deriv == True:\n",
        "            return x * (1 - x)\n",
        "        return 1 / (1 + np.exp(-x))\n",
        "\n",
        "    # data will flow through the neural network.\n",
        "    def feed_forward(self):\n",
        "        self.hidden = self.sigmoid(np.dot(self.input, self.weights))\n",
        "\n",
        "    # going backwards through the network to update weights\n",
        "    def backpropagation(self):\n",
        "        self.error  = self.output - self.hidden\n",
        "        delta = self.error * self.sigmoid(self.hidden, deriv=True)\n",
        "        self.weights += np.dot(self.input.T, delta)\n",
        "\n",
        "    # train the neural net for 250 iterations\n",
        "    def train(self, epochs=250):\n",
        "        for epoch in range(epochs):\n",
        "            # flow forward and produce an output\n",
        "            self.feed_forward()\n",
        "            # go back though the network to make corrections based on the output\n",
        "            self.backpropagation()    \n",
        "            # keep track of the error history over each epoch\n",
        "            self.error_history.append(np.average(np.abs(self.error)))\n",
        "            self.epoch_list.append(epoch)\n",
        "\n",
        "    # function to predict output on new and unseen input data                               \n",
        "    def predict(self, new_input):\n",
        "        prediction = self.sigmoid(np.dot(new_input, self.weights))\n",
        "        return prediction\n",
        "\n",
        "# create neural network   \n",
        "NN = NeuralNetwork(input, output)\n",
        "# train neural network\n",
        "NN.train()\n",
        "\n",
        "# create two new examples to predict                                   \n",
        "example = np.array([[0, 1, 1]])\n",
        "example_2 = np.array([[0, 0, 1]])\n",
        "\n",
        "# print the predictions for both examples                                   \n",
        "print(NN.predict(example), ' - Correct: ', example[0][0])\n",
        "print(NN.predict(example_2), ' - Correct: ', example_2[0][0])\n",
        "\n",
        "# plot the error over the entire training duration\n",
        "plt.figure(figsize=(15,5))\n",
        "plt.plot(NN.epoch_list,NN.error_history)\n",
        "plt.xlabel('Epoch')\n",
        "plt.ylabel('Error')\n",
        "plt.show()"
      ]
    },
    {
      "cell_type": "markdown",
      "metadata": {
        "id": "R5XHDpt7Yr2a"
      },
      "source": [
        "the number of epochs needed to achieve 99% prediction accuracy is 250"
      ]
    },
    {
      "cell_type": "markdown",
      "metadata": {
        "id": "HTvcop8HTHUb"
      },
      "source": [
        "Section 4) Change the prediction function to use a softmax activation function instead of sigmoid and determine the number of epochs needed to achieve 99% prediction accuracy with the new prediction function. Manipulate the plot to clearly show this"
      ]
    },
    {
      "cell_type": "code",
      "execution_count": 12,
      "metadata": {
        "colab": {
          "base_uri": "https://localhost:8080/",
          "height": 368
        },
        "id": "f_J5orVjTLf_",
        "outputId": "4f5ae725-4752-404a-917c-ad1d77c14e7c"
      },
      "outputs": [
        {
          "name": "stdout",
          "output_type": "stream",
          "text": [
            "(0, array([[1.]]))  - Correct:  0\n",
            "(1, array([[1.]]))  - Correct:  1\n"
          ]
        },
        {
          "data": {
            "image/png": "[encoded data removed]",
            "text/plain": [
              "<Figure size 1080x360 with 1 Axes>"
            ]
          },
          "metadata": {
            "needs_background": "light"
          },
          "output_type": "display_data"
        }
      ],
      "source": [
        "# input data\n",
        "input = np.array(ColumnToArray_Input(df))\n",
        "\n",
        "# output data\n",
        "output = np.array(ColumnToArray_Output(df))\n",
        "\n",
        "# create NeuralNetwork class\n",
        "class NeuralNetwork:\n",
        "\n",
        "    # intialize variables in class\n",
        "    def __init__(self, input, output):\n",
        "        self.input  = input\n",
        "        self.output = output\n",
        "        \n",
        "        # initialize weights as .50 for simplicity\n",
        "        self.weights = np.array([[.50], [.50], [.50]])\n",
        "        self.error_history = []\n",
        "        self.epoch_list = []\n",
        "\n",
        "    #activation function ==> S(x) = e^/sum(e^x)\n",
        "    def softmax(self, x):\n",
        "      return np.exp(x)/np.sum(np.exp(x))\n",
        "\n",
        "    # data will flow through the neural network.\n",
        "    def feed_forward(self):\n",
        "        self.hidden = self.softmax(np.dot(self.input, self.weights))\n",
        "\n",
        "    # going backwards through the network to update weights\n",
        "    def backpropagation(self):\n",
        "        self.error  = self.output - self.hidden\n",
        "        delta = self.error * self.softmax(self.hidden)\n",
        "        self.weights += np.dot(self.input.T, delta)\n",
        "\n",
        "    # train the neural net for 50 iterations\n",
        "    def train(self, epochs=50):\n",
        "        for epoch in range(epochs):\n",
        "            # flow forward and produce an output\n",
        "            self.feed_forward()\n",
        "            # go back though the network to make corrections based on the output\n",
        "            self.backpropagation()    \n",
        "            # keep track of the error history over each epoch\n",
        "            self.error_history.append(np.average(np.abs(self.error)))\n",
        "            self.epoch_list.append(epoch)\n",
        "\n",
        "    # function to predict output on new and unseen input data                               \n",
        "    def predict(self, new_input):\n",
        "        probability = self.softmax(np.dot(new_input, self.weights))\n",
        "        if probability == 1.0:\n",
        "          prediction=new_input[0][0]\n",
        "        return prediction,probability\n",
        "\n",
        "# create neural network   \n",
        "NN = NeuralNetwork(input, output)\n",
        "# train neural network\n",
        "NN.train()\n",
        "\n",
        "# create two new examples to predict                                   \n",
        "example = np.array([[0, 0, 1]])\n",
        "example_2 = np.array([[1, 1, 1]])\n",
        "\n",
        "# print the predictions for both examples                                   \n",
        "print(NN.predict(example), ' - Correct: ', example[0][0])\n",
        "print(NN.predict(example_2), ' - Correct: ', example_2[0][0])\n",
        "\n",
        "# plot the error over the entire training duration\n",
        "plt.figure(figsize=(15,5))\n",
        "plt.plot(NN.epoch_list, NN.error_history)\n",
        "plt.xlabel('Epoch')\n",
        "plt.ylabel('Error')\n",
        "plt.show()"
      ]
    },
    {
      "cell_type": "code",
      "execution_count": 14,
      "metadata": {
        "colab": {
          "base_uri": "https://localhost:8080/",
          "height": 368
        },
        "id": "v7wiVaZkZX9J",
        "outputId": "67f7bc20-2a6a-4411-d0e7-3cec13a89b5d"
      },
      "outputs": [
        {
          "name": "stdout",
          "output_type": "stream",
          "text": [
            "(0, array([[1.]]))  - Correct:  0\n",
            "(1, array([[1.]]))  - Correct:  1\n"
          ]
        },
        {
          "data": {
            "image/png": "[encoded data removed]",
            "text/plain": [
              "<Figure size 1080x360 with 1 Axes>"
            ]
          },
          "metadata": {
            "needs_background": "light"
          },
          "output_type": "display_data"
        }
      ],
      "source": [
        "# input data\n",
        "input = np.array(ColumnToArray_Input(df))\n",
        "\n",
        "# output data\n",
        "output = np.array(ColumnToArray_Output(df))\n",
        "\n",
        "# create NeuralNetwork class\n",
        "class NeuralNetwork:\n",
        "\n",
        "    # intialize variables in class\n",
        "    def __init__(self, input, output):\n",
        "        self.input  = input\n",
        "        self.output = output\n",
        "        \n",
        "        # initialize weights as .50 for simplicity\n",
        "        self.weights = np.array([[.50], [.50], [.50]])\n",
        "        self.error_history = []\n",
        "        self.epoch_list = []\n",
        "\n",
        "    #activation function ==> S(x) = e^/sum(e^x)\n",
        "    def softmax(self, x):\n",
        "      return np.exp(x)/np.sum(np.exp(x))\n",
        "\n",
        "    # data will flow through the neural network.\n",
        "    def feed_forward(self):\n",
        "        self.hidden = self.softmax(np.dot(self.input, self.weights))\n",
        "\n",
        "    # going backwards through the network to update weights\n",
        "    def backpropagation(self):\n",
        "        self.error  = self.output - self.hidden\n",
        "        delta = self.error * self.softmax(self.hidden)\n",
        "        self.weights += np.dot(self.input.T, delta)\n",
        "\n",
        "    # train the neural net for 250 iterations\n",
        "    def train(self, epochs=250):\n",
        "        for epoch in range(epochs):\n",
        "            # flow forward and produce an output\n",
        "            self.feed_forward()\n",
        "            # go back though the network to make corrections based on the output\n",
        "            self.backpropagation()    \n",
        "            # keep track of the error history over each epoch\n",
        "            self.error_history.append(np.average(np.abs(self.error)))\n",
        "            self.epoch_list.append(epoch)\n",
        "\n",
        "    # function to predict output on new and unseen input data                               \n",
        "    def predict(self, new_input):\n",
        "        probability = self.softmax(np.dot(new_input, self.weights))\n",
        "        if probability == 1.0:\n",
        "          prediction=new_input[0][0]\n",
        "        return prediction,probability\n",
        "\n",
        "# create neural network   \n",
        "NN = NeuralNetwork(input, output)\n",
        "# train neural network\n",
        "NN.train()\n",
        "\n",
        "# create two new examples to predict                                   \n",
        "example = np.array([[0, 0, 1]])\n",
        "example_2 = np.array([[1, 1, 1]])\n",
        "\n",
        "# print the predictions for both examples                                   \n",
        "print(NN.predict(example), ' - Correct: ', example[0][0])\n",
        "print(NN.predict(example_2), ' - Correct: ', example_2[0][0])\n",
        "\n",
        "# plot the error over the entire training duration\n",
        "plt.figure(figsize=(15,5))\n",
        "plt.plot(NN.epoch_list, NN.error_history)\n",
        "plt.xlabel('Epoch')\n",
        "plt.ylabel('Error')\n",
        "plt.show()"
      ]
    },
    {
      "cell_type": "code",
      "execution_count": 15,
      "metadata": {
        "colab": {
          "base_uri": "https://localhost:8080/",
          "height": 368
        },
        "id": "HT98dWsxaRzP",
        "outputId": "ad91c17e-1dfb-4a1a-c91d-c10814928b19"
      },
      "outputs": [
        {
          "name": "stdout",
          "output_type": "stream",
          "text": [
            "(0, array([[1.]]))  - Correct:  0\n",
            "(1, array([[1.]]))  - Correct:  1\n"
          ]
        },
        {
          "data": {
            "image/png": "[encoded data removed]",
            "text/plain": [
              "<Figure size 1080x360 with 1 Axes>"
            ]
          },
          "metadata": {
            "needs_background": "light"
          },
          "output_type": "display_data"
        }
      ],
      "source": [
        "# input data\n",
        "input = np.array(ColumnToArray_Input(df))\n",
        "\n",
        "# output data\n",
        "output = np.array(ColumnToArray_Output(df))\n",
        "\n",
        "# create NeuralNetwork class\n",
        "class NeuralNetwork:\n",
        "\n",
        "    # intialize variables in class\n",
        "    def __init__(self, input, output):\n",
        "        self.input  = input\n",
        "        self.output = output\n",
        "        \n",
        "        # initialize weights as .50 for simplicity\n",
        "        self.weights = np.array([[.50], [.50], [.50]])\n",
        "        self.error_history = []\n",
        "        self.epoch_list = []\n",
        "\n",
        "    #activation function ==> S(x) = e^/sum(e^x)\n",
        "    def softmax(self, x):\n",
        "      return np.exp(x)/np.sum(np.exp(x))\n",
        "\n",
        "    # data will flow through the neural network.\n",
        "    def feed_forward(self):\n",
        "        self.hidden = self.softmax(np.dot(self.input, self.weights))\n",
        "\n",
        "    # going backwards through the network to update weights\n",
        "    def backpropagation(self):\n",
        "        self.error  = self.output - self.hidden\n",
        "        delta = self.error * self.softmax(self.hidden)\n",
        "        self.weights += np.dot(self.input.T, delta)\n",
        "\n",
        "    # train the neural net for 500 iterations\n",
        "    def train(self, epochs=500):\n",
        "        for epoch in range(epochs):\n",
        "            # flow forward and produce an output\n",
        "            self.feed_forward()\n",
        "            # go back though the network to make corrections based on the output\n",
        "            self.backpropagation()    \n",
        "            # keep track of the error history over each epoch\n",
        "            self.error_history.append(np.average(np.abs(self.error)))\n",
        "            self.epoch_list.append(epoch)\n",
        "\n",
        "    # function to predict output on new and unseen input data                               \n",
        "    def predict(self, new_input):\n",
        "        probability = self.softmax(np.dot(new_input, self.weights))\n",
        "        if probability == 1.0:\n",
        "          prediction=new_input[0][0]\n",
        "        return prediction,probability\n",
        "\n",
        "# create neural network   \n",
        "NN = NeuralNetwork(input, output)\n",
        "# train neural network\n",
        "NN.train()\n",
        "\n",
        "# create two new examples to predict                                   \n",
        "example = np.array([[0, 0, 1]])\n",
        "example_2 = np.array([[1, 1, 1]])\n",
        "\n",
        "# print the predictions for both examples                                   \n",
        "print(NN.predict(example), ' - Correct: ', example[0][0])\n",
        "print(NN.predict(example_2), ' - Correct: ', example_2[0][0])\n",
        "\n",
        "# plot the error over the entire training duration\n",
        "plt.figure(figsize=(15,5))\n",
        "plt.plot(NN.epoch_list, NN.error_history)\n",
        "plt.xlabel('Epoch')\n",
        "plt.ylabel('Error')\n",
        "plt.show()"
      ]
    },
    {
      "cell_type": "code",
      "execution_count": 16,
      "metadata": {
        "colab": {
          "base_uri": "https://localhost:8080/",
          "height": 368
        },
        "id": "bul0yV6SaaDl",
        "outputId": "7c030300-c44c-41cf-8820-d636c9fb3c53"
      },
      "outputs": [
        {
          "name": "stdout",
          "output_type": "stream",
          "text": [
            "(0, array([[1.]]))  - Correct:  0\n",
            "(1, array([[1.]]))  - Correct:  1\n"
          ]
        },
        {
          "data": {
            "image/png": "[encoded data removed]",
            "text/plain": [
              "<Figure size 1080x360 with 1 Axes>"
            ]
          },
          "metadata": {
            "needs_background": "light"
          },
          "output_type": "display_data"
        }
      ],
      "source": [
        "# input data\n",
        "input = np.array(ColumnToArray_Input(df))\n",
        "\n",
        "# output data\n",
        "output = np.array(ColumnToArray_Output(df))\n",
        "\n",
        "# create NeuralNetwork class\n",
        "class NeuralNetwork:\n",
        "\n",
        "    # intialize variables in class\n",
        "    def __init__(self, input, output):\n",
        "        self.input  = input\n",
        "        self.output = output\n",
        "        \n",
        "        # initialize weights as .50 for simplicity\n",
        "        self.weights = np.array([[.50], [.50], [.50]])\n",
        "        self.error_history = []\n",
        "        self.epoch_list = []\n",
        "\n",
        "    #activation function ==> S(x) = e^/sum(e^x)\n",
        "    def softmax(self, x):\n",
        "      return np.exp(x)/np.sum(np.exp(x))\n",
        "\n",
        "    # data will flow through the neural network.\n",
        "    def feed_forward(self):\n",
        "        self.hidden = self.softmax(np.dot(self.input, self.weights))\n",
        "\n",
        "    # going backwards through the network to update weights\n",
        "    def backpropagation(self):\n",
        "        self.error  = self.output - self.hidden\n",
        "        delta = self.error * self.softmax(self.hidden)\n",
        "        self.weights += np.dot(self.input.T, delta)\n",
        "\n",
        "    # train the neural net for 150 iterations\n",
        "    def train(self, epochs=150):\n",
        "        for epoch in range(epochs):\n",
        "            # flow forward and produce an output\n",
        "            self.feed_forward()\n",
        "            # go back though the network to make corrections based on the output\n",
        "            self.backpropagation()    \n",
        "            # keep track of the error history over each epoch\n",
        "            self.error_history.append(np.average(np.abs(self.error)))\n",
        "            self.epoch_list.append(epoch)\n",
        "\n",
        "    # function to predict output on new and unseen input data                               \n",
        "    def predict(self, new_input):\n",
        "        probability = self.softmax(np.dot(new_input, self.weights))\n",
        "        if probability == 1.0:\n",
        "          prediction=new_input[0][0]\n",
        "        return prediction,probability\n",
        "\n",
        "# create neural network   \n",
        "NN = NeuralNetwork(input, output)\n",
        "# train neural network\n",
        "NN.train()\n",
        "\n",
        "# create two new examples to predict                                   \n",
        "example = np.array([[0, 0, 1]])\n",
        "example_2 = np.array([[1, 1, 1]])\n",
        "\n",
        "# print the predictions for both examples                                   \n",
        "print(NN.predict(example), ' - Correct: ', example[0][0])\n",
        "print(NN.predict(example_2), ' - Correct: ', example_2[0][0])\n",
        "\n",
        "# plot the error over the entire training duration\n",
        "plt.figure(figsize=(15,5))\n",
        "plt.plot(NN.epoch_list, NN.error_history)\n",
        "plt.xlabel('Epoch')\n",
        "plt.ylabel('Error')\n",
        "plt.show()"
      ]
    },
    {
      "cell_type": "code",
      "execution_count": 17,
      "metadata": {
        "colab": {
          "base_uri": "https://localhost:8080/",
          "height": 368
        },
        "id": "lSVO2aj4afEP",
        "outputId": "c546e558-b2e3-4686-9a99-79b3ae672146"
      },
      "outputs": [
        {
          "name": "stdout",
          "output_type": "stream",
          "text": [
            "(0, array([[1.]]))  - Correct:  0\n",
            "(1, array([[1.]]))  - Correct:  1\n"
          ]
        },
        {
          "data": {
            "image/png": "[encoded data removed]",
            "text/plain": [
              "<Figure size 1080x360 with 1 Axes>"
            ]
          },
          "metadata": {
            "needs_background": "light"
          },
          "output_type": "display_data"
        }
      ],
      "source": [
        "# input data\n",
        "input = np.array(ColumnToArray_Input(df))\n",
        "\n",
        "# output data\n",
        "output = np.array(ColumnToArray_Output(df))\n",
        "\n",
        "# create NeuralNetwork class\n",
        "class NeuralNetwork:\n",
        "\n",
        "    # intialize variables in class\n",
        "    def __init__(self, input, output):\n",
        "        self.input  = input\n",
        "        self.output = output\n",
        "        \n",
        "        # initialize weights as .50 for simplicity\n",
        "        self.weights = np.array([[.50], [.50], [.50]])\n",
        "        self.error_history = []\n",
        "        self.epoch_list = []\n",
        "\n",
        "    #activation function ==> S(x) = e^/sum(e^x)\n",
        "    def softmax(self, x):\n",
        "      return np.exp(x)/np.sum(np.exp(x))\n",
        "\n",
        "    # data will flow through the neural network.\n",
        "    def feed_forward(self):\n",
        "        self.hidden = self.softmax(np.dot(self.input, self.weights))\n",
        "\n",
        "    # going backwards through the network to update weights\n",
        "    def backpropagation(self):\n",
        "        self.error  = self.output - self.hidden\n",
        "        delta = self.error * self.softmax(self.hidden)\n",
        "        self.weights += np.dot(self.input.T, delta)\n",
        "\n",
        "    # train the neural net for 10 iterations\n",
        "    def train(self, epochs=10):\n",
        "        for epoch in range(epochs):\n",
        "            # flow forward and produce an output\n",
        "            self.feed_forward()\n",
        "            # go back though the network to make corrections based on the output\n",
        "            self.backpropagation()    \n",
        "            # keep track of the error history over each epoch\n",
        "            self.error_history.append(np.average(np.abs(self.error)))\n",
        "            self.epoch_list.append(epoch)\n",
        "\n",
        "    # function to predict output on new and unseen input data                               \n",
        "    def predict(self, new_input):\n",
        "        probability = self.softmax(np.dot(new_input, self.weights))\n",
        "        if probability == 1.0:\n",
        "          prediction=new_input[0][0]\n",
        "        return prediction,probability\n",
        "\n",
        "# create neural network   \n",
        "NN = NeuralNetwork(input, output)\n",
        "# train neural network\n",
        "NN.train()\n",
        "\n",
        "# create two new examples to predict                                   \n",
        "example = np.array([[0, 0, 1]])\n",
        "example_2 = np.array([[1, 1, 1]])\n",
        "\n",
        "# print the predictions for both examples                                   \n",
        "print(NN.predict(example), ' - Correct: ', example[0][0])\n",
        "print(NN.predict(example_2), ' - Correct: ', example_2[0][0])\n",
        "\n",
        "# plot the error over the entire training duration\n",
        "plt.figure(figsize=(15,5))\n",
        "plt.plot(NN.epoch_list, NN.error_history)\n",
        "plt.xlabel('Epoch')\n",
        "plt.ylabel('Error')\n",
        "plt.show()"
      ]
    },
    {
      "cell_type": "code",
      "execution_count": 18,
      "metadata": {
        "colab": {
          "base_uri": "https://localhost:8080/",
          "height": 368
        },
        "id": "ZWhS-4BKam4U",
        "outputId": "808343e7-ee3e-4cb8-a5b5-b05600104d0d"
      },
      "outputs": [
        {
          "name": "stdout",
          "output_type": "stream",
          "text": [
            "(0, array([[1.]]))  - Correct:  0\n",
            "(1, array([[1.]]))  - Correct:  1\n"
          ]
        },
        {
          "data": {
            "image/png": "[encoded data removed]",
            "text/plain": [
              "<Figure size 1080x360 with 1 Axes>"
            ]
          },
          "metadata": {
            "needs_background": "light"
          },
          "output_type": "display_data"
        }
      ],
      "source": [
        "# input data\n",
        "input = np.array(ColumnToArray_Input(df))\n",
        "\n",
        "# output data\n",
        "output = np.array(ColumnToArray_Output(df))\n",
        "\n",
        "# create NeuralNetwork class\n",
        "class NeuralNetwork:\n",
        "\n",
        "    # intialize variables in class\n",
        "    def __init__(self, input, output):\n",
        "        self.input  = input\n",
        "        self.output = output\n",
        "        \n",
        "        # initialize weights as .50 for simplicity\n",
        "        self.weights = np.array([[.50], [.50], [.50]])\n",
        "        self.error_history = []\n",
        "        self.epoch_list = []\n",
        "\n",
        "    #activation function ==> S(x) = e^/sum(e^x)\n",
        "    def softmax(self, x):\n",
        "      return np.exp(x)/np.sum(np.exp(x))\n",
        "\n",
        "    # data will flow through the neural network.\n",
        "    def feed_forward(self):\n",
        "        self.hidden = self.softmax(np.dot(self.input, self.weights))\n",
        "\n",
        "    # going backwards through the network to update weights\n",
        "    def backpropagation(self):\n",
        "        self.error  = self.output - self.hidden\n",
        "        delta = self.error * self.softmax(self.hidden)\n",
        "        self.weights += np.dot(self.input.T, delta)\n",
        "\n",
        "    # train the neural net for 550 iterations\n",
        "    def train(self, epochs=550):\n",
        "        for epoch in range(epochs):\n",
        "            # flow forward and produce an output\n",
        "            self.feed_forward()\n",
        "            # go back though the network to make corrections based on the output\n",
        "            self.backpropagation()    \n",
        "            # keep track of the error history over each epoch\n",
        "            self.error_history.append(np.average(np.abs(self.error)))\n",
        "            self.epoch_list.append(epoch)\n",
        "\n",
        "    # function to predict output on new and unseen input data                               \n",
        "    def predict(self, new_input):\n",
        "        probability = self.softmax(np.dot(new_input, self.weights))\n",
        "        if probability == 1.0:\n",
        "          prediction=new_input[0][0]\n",
        "        return prediction,probability\n",
        "\n",
        "# create neural network   \n",
        "NN = NeuralNetwork(input, output)\n",
        "# train neural network\n",
        "NN.train()\n",
        "\n",
        "# create two new examples to predict                                   \n",
        "example = np.array([[0, 0, 1]])\n",
        "example_2 = np.array([[1, 1, 1]])\n",
        "\n",
        "# print the predictions for both examples                                   \n",
        "print(NN.predict(example), ' - Correct: ', example[0][0])\n",
        "print(NN.predict(example_2), ' - Correct: ', example_2[0][0])\n",
        "\n",
        "# plot the error over the entire training duration\n",
        "plt.figure(figsize=(15,5))\n",
        "plt.plot(NN.epoch_list, NN.error_history)\n",
        "plt.xlabel('Epoch')\n",
        "plt.ylabel('Error')\n",
        "plt.show()"
      ]
    },
    {
      "cell_type": "code",
      "execution_count": 19,
      "metadata": {
        "colab": {
          "base_uri": "https://localhost:8080/",
          "height": 368
        },
        "id": "tdX5-CjyarsN",
        "outputId": "3f3255fc-2694-4171-aa8f-042f92a431f3"
      },
      "outputs": [
        {
          "name": "stdout",
          "output_type": "stream",
          "text": [
            "(0, array([[1.]]))  - Correct:  0\n",
            "(1, array([[1.]]))  - Correct:  1\n"
          ]
        },
        {
          "data": {
            "image/png": "[encoded data removed]",
            "text/plain": [
              "<Figure size 1080x360 with 1 Axes>"
            ]
          },
          "metadata": {
            "needs_background": "light"
          },
          "output_type": "display_data"
        }
      ],
      "source": [
        "# input data\n",
        "input = np.array(ColumnToArray_Input(df))\n",
        "\n",
        "# output data\n",
        "output = np.array(ColumnToArray_Output(df))\n",
        "\n",
        "# create NeuralNetwork class\n",
        "class NeuralNetwork:\n",
        "\n",
        "    # intialize variables in class\n",
        "    def __init__(self, input, output):\n",
        "        self.input  = input\n",
        "        self.output = output\n",
        "        \n",
        "        # initialize weights as .50 for simplicity\n",
        "        self.weights = np.array([[.50], [.50], [.50]])\n",
        "        self.error_history = []\n",
        "        self.epoch_list = []\n",
        "\n",
        "    #activation function ==> S(x) = e^/sum(e^x)\n",
        "    def softmax(self, x):\n",
        "      return np.exp(x)/np.sum(np.exp(x))\n",
        "\n",
        "    # data will flow through the neural network.\n",
        "    def feed_forward(self):\n",
        "        self.hidden = self.softmax(np.dot(self.input, self.weights))\n",
        "\n",
        "    # going backwards through the network to update weights\n",
        "    def backpropagation(self):\n",
        "        self.error  = self.output - self.hidden\n",
        "        delta = self.error * self.softmax(self.hidden)\n",
        "        self.weights += np.dot(self.input.T, delta)\n",
        "\n",
        "    # train the neural net for 300 iterations\n",
        "    def train(self, epochs=300):\n",
        "        for epoch in range(epochs):\n",
        "            # flow forward and produce an output\n",
        "            self.feed_forward()\n",
        "            # go back though the network to make corrections based on the output\n",
        "            self.backpropagation()    \n",
        "            # keep track of the error history over each epoch\n",
        "            self.error_history.append(np.average(np.abs(self.error)))\n",
        "            self.epoch_list.append(epoch)\n",
        "\n",
        "    # function to predict output on new and unseen input data                               \n",
        "    def predict(self, new_input):\n",
        "        probability = self.softmax(np.dot(new_input, self.weights))\n",
        "        if probability == 1.0:\n",
        "          prediction=new_input[0][0]\n",
        "        return prediction,probability\n",
        "\n",
        "# create neural network   \n",
        "NN = NeuralNetwork(input, output)\n",
        "# train neural network\n",
        "NN.train()\n",
        "\n",
        "# create two new examples to predict                                   \n",
        "example = np.array([[0, 0, 1]])\n",
        "example_2 = np.array([[1, 1, 1]])\n",
        "\n",
        "# print the predictions for both examples                                   \n",
        "print(NN.predict(example), ' - Correct: ', example[0][0])\n",
        "print(NN.predict(example_2), ' - Correct: ', example_2[0][0])\n",
        "\n",
        "# plot the error over the entire training duration\n",
        "plt.figure(figsize=(15,5))\n",
        "plt.plot(NN.epoch_list, NN.error_history)\n",
        "plt.xlabel('Epoch')\n",
        "plt.ylabel('Error')\n",
        "plt.show()"
      ]
    },
    {
      "cell_type": "code",
      "execution_count": 20,
      "metadata": {
        "colab": {
          "base_uri": "https://localhost:8080/",
          "height": 368
        },
        "id": "ajXq4B5HbzpV",
        "outputId": "391981de-54be-4d51-f1b6-f37493a46729"
      },
      "outputs": [
        {
          "name": "stdout",
          "output_type": "stream",
          "text": [
            "(0, array([[1.]]))  - Correct:  0\n",
            "(1, array([[1.]]))  - Correct:  1\n"
          ]
        },
        {
          "data": {
            "image/png": "[encoded data removed]",
            "text/plain": [
              "<Figure size 1080x360 with 1 Axes>"
            ]
          },
          "metadata": {
            "needs_background": "light"
          },
          "output_type": "display_data"
        }
      ],
      "source": [
        "# input data\n",
        "input = np.array(ColumnToArray_Input(df))\n",
        "\n",
        "# output data\n",
        "output = np.array(ColumnToArray_Output(df))\n",
        "\n",
        "# create NeuralNetwork class\n",
        "class NeuralNetwork:\n",
        "\n",
        "    # intialize variables in class\n",
        "    def __init__(self, input, output):\n",
        "        self.input  = input\n",
        "        self.output = output\n",
        "        \n",
        "        # initialize weights as .50 for simplicity\n",
        "        self.weights = np.array([[.50], [.50], [.50]])\n",
        "        self.error_history = []\n",
        "        self.epoch_list = []\n",
        "\n",
        "    #activation function ==> S(x) = e^/sum(e^x)\n",
        "    def softmax(self, x):\n",
        "      return np.exp(x)/np.sum(np.exp(x))\n",
        "\n",
        "    # data will flow through the neural network.\n",
        "    def feed_forward(self):\n",
        "        self.hidden = self.softmax(np.dot(self.input, self.weights))\n",
        "\n",
        "    # going backwards through the network to update weights\n",
        "    def backpropagation(self):\n",
        "        self.error  = self.output - self.hidden\n",
        "        delta = self.error * self.softmax(self.hidden)\n",
        "        self.weights += np.dot(self.input.T, delta)\n",
        "\n",
        "    # train the neural net for 5 iterations\n",
        "    def train(self, epochs=5):\n",
        "        for epoch in range(epochs):\n",
        "            # flow forward and produce an output\n",
        "            self.feed_forward()\n",
        "            # go back though the network to make corrections based on the output\n",
        "            self.backpropagation()    \n",
        "            # keep track of the error history over each epoch\n",
        "            self.error_history.append(np.average(np.abs(self.error)))\n",
        "            self.epoch_list.append(epoch)\n",
        "\n",
        "    # function to predict output on new and unseen input data                               \n",
        "    def predict(self, new_input):\n",
        "        probability = self.softmax(np.dot(new_input, self.weights))\n",
        "        if probability == 1.0:\n",
        "          prediction=new_input[0][0]\n",
        "        return prediction,probability\n",
        "\n",
        "# create neural network   \n",
        "NN = NeuralNetwork(input, output)\n",
        "# train neural network\n",
        "NN.train()\n",
        "\n",
        "# create two new examples to predict                                   \n",
        "example = np.array([[0, 0, 1]])\n",
        "example_2 = np.array([[1, 1, 1]])\n",
        "\n",
        "# print the predictions for both examples                                   \n",
        "print(NN.predict(example), ' - Correct: ', example[0][0])\n",
        "print(NN.predict(example_2), ' - Correct: ', example_2[0][0])\n",
        "\n",
        "# plot the error over the entire training duration\n",
        "plt.figure(figsize=(15,5))\n",
        "plt.plot(NN.epoch_list, NN.error_history)\n",
        "plt.xlabel('Epoch')\n",
        "plt.ylabel('Error')\n",
        "plt.show()"
      ]
    },
    {
      "cell_type": "code",
      "execution_count": 21,
      "metadata": {
        "colab": {
          "base_uri": "https://localhost:8080/",
          "height": 368
        },
        "id": "IxTWZWSbb31A",
        "outputId": "1755ed47-87b5-4c86-ace6-31a535f2def6"
      },
      "outputs": [
        {
          "name": "stdout",
          "output_type": "stream",
          "text": [
            "(0, array([[1.]]))  - Correct:  0\n",
            "(1, array([[1.]]))  - Correct:  1\n"
          ]
        },
        {
          "data": {
            "image/png": "[encoded data removed]",
            "text/plain": [
              "<Figure size 1080x360 with 1 Axes>"
            ]
          },
          "metadata": {
            "needs_background": "light"
          },
          "output_type": "display_data"
        }
      ],
      "source": [
        "# input data\n",
        "input = np.array(ColumnToArray_Input(df))\n",
        "\n",
        "# output data\n",
        "output = np.array(ColumnToArray_Output(df))\n",
        "\n",
        "# create NeuralNetwork class\n",
        "class NeuralNetwork:\n",
        "\n",
        "    # intialize variables in class\n",
        "    def __init__(self, input, output):\n",
        "        self.input  = input\n",
        "        self.output = output\n",
        "        \n",
        "        # initialize weights as .50 for simplicity\n",
        "        self.weights = np.array([[.50], [.50], [.50]])\n",
        "        self.error_history = []\n",
        "        self.epoch_list = []\n",
        "\n",
        "    #activation function ==> S(x) = e^/sum(e^x)\n",
        "    def softmax(self, x):\n",
        "      return np.exp(x)/np.sum(np.exp(x))\n",
        "\n",
        "    # data will flow through the neural network.\n",
        "    def feed_forward(self):\n",
        "        self.hidden = self.softmax(np.dot(self.input, self.weights))\n",
        "\n",
        "    # going backwards through the network to update weights\n",
        "    def backpropagation(self):\n",
        "        self.error  = self.output - self.hidden\n",
        "        delta = self.error * self.softmax(self.hidden)\n",
        "        self.weights += np.dot(self.input.T, delta)\n",
        "\n",
        "    # train the neural net for 20 iterations\n",
        "    def train(self, epochs=20):\n",
        "        for epoch in range(epochs):\n",
        "            # flow forward and produce an output\n",
        "            self.feed_forward()\n",
        "            # go back though the network to make corrections based on the output\n",
        "            self.backpropagation()    \n",
        "            # keep track of the error history over each epoch\n",
        "            self.error_history.append(np.average(np.abs(self.error)))\n",
        "            self.epoch_list.append(epoch)\n",
        "\n",
        "    # function to predict output on new and unseen input data                               \n",
        "    def predict(self, new_input):\n",
        "        probability = self.softmax(np.dot(new_input, self.weights))\n",
        "        if probability == 1.0:\n",
        "          prediction=new_input[0][0]\n",
        "        return prediction,probability\n",
        "\n",
        "# create neural network   \n",
        "NN = NeuralNetwork(input, output)\n",
        "# train neural network\n",
        "NN.train()\n",
        "\n",
        "# create two new examples to predict                                   \n",
        "example = np.array([[0, 0, 1]])\n",
        "example_2 = np.array([[1, 1, 1]])\n",
        "\n",
        "# print the predictions for both examples                                   \n",
        "print(NN.predict(example), ' - Correct: ', example[0][0])\n",
        "print(NN.predict(example_2), ' - Correct: ', example_2[0][0])\n",
        "\n",
        "# plot the error over the entire training duration\n",
        "plt.figure(figsize=(15,5))\n",
        "plt.plot(NN.epoch_list, NN.error_history)\n",
        "plt.xlabel('Epoch')\n",
        "plt.ylabel('Error')\n",
        "plt.show()"
      ]
    },
    {
      "cell_type": "code",
      "execution_count": 22,
      "metadata": {
        "colab": {
          "base_uri": "https://localhost:8080/",
          "height": 368
        },
        "id": "s7rgKO9Hb7kp",
        "outputId": "ceb5878b-fab7-40e6-9a12-54d76169df24"
      },
      "outputs": [
        {
          "name": "stdout",
          "output_type": "stream",
          "text": [
            "(0, array([[1.]]))  - Correct:  0\n",
            "(1, array([[1.]]))  - Correct:  1\n"
          ]
        },
        {
          "data": {
            "image/png": "[encoded data removed]",
            "text/plain": [
              "<Figure size 1080x360 with 1 Axes>"
            ]
          },
          "metadata": {
            "needs_background": "light"
          },
          "output_type": "display_data"
        }
      ],
      "source": [
        "# input data\n",
        "input = np.array(ColumnToArray_Input(df))\n",
        "\n",
        "# output data\n",
        "output = np.array(ColumnToArray_Output(df))\n",
        "\n",
        "# create NeuralNetwork class\n",
        "class NeuralNetwork:\n",
        "\n",
        "    # intialize variables in class\n",
        "    def __init__(self, input, output):\n",
        "        self.input  = input\n",
        "        self.output = output\n",
        "        \n",
        "        # initialize weights as .50 for simplicity\n",
        "        self.weights = np.array([[.50], [.50], [.50]])\n",
        "        self.error_history = []\n",
        "        self.epoch_list = []\n",
        "\n",
        "    #activation function ==> S(x) = e^/sum(e^x)\n",
        "    def softmax(self, x):\n",
        "      return np.exp(x)/np.sum(np.exp(x))\n",
        "\n",
        "    # data will flow through the neural network.\n",
        "    def feed_forward(self):\n",
        "        self.hidden = self.softmax(np.dot(self.input, self.weights))\n",
        "\n",
        "    # going backwards through the network to update weights\n",
        "    def backpropagation(self):\n",
        "        self.error  = self.output - self.hidden\n",
        "        delta = self.error * self.softmax(self.hidden)\n",
        "        self.weights += np.dot(self.input.T, delta)\n",
        "\n",
        "    # train the neural net for 80 iterations\n",
        "    def train(self, epochs=80):\n",
        "        for epoch in range(epochs):\n",
        "            # flow forward and produce an output\n",
        "            self.feed_forward()\n",
        "            # go back though the network to make corrections based on the output\n",
        "            self.backpropagation()    \n",
        "            # keep track of the error history over each epoch\n",
        "            self.error_history.append(np.average(np.abs(self.error)))\n",
        "            self.epoch_list.append(epoch)\n",
        "\n",
        "    # function to predict output on new and unseen input data                               \n",
        "    def predict(self, new_input):\n",
        "        probability = self.softmax(np.dot(new_input, self.weights))\n",
        "        if probability == 1.0:\n",
        "          prediction=new_input[0][0]\n",
        "        return prediction,probability\n",
        "\n",
        "# create neural network   \n",
        "NN = NeuralNetwork(input, output)\n",
        "# train neural network\n",
        "NN.train()\n",
        "\n",
        "# create two new examples to predict                                   \n",
        "example = np.array([[0, 0, 1]])\n",
        "example_2 = np.array([[1, 1, 1]])\n",
        "\n",
        "# print the predictions for both examples                                   \n",
        "print(NN.predict(example), ' - Correct: ', example[0][0])\n",
        "print(NN.predict(example_2), ' - Correct: ', example_2[0][0])\n",
        "\n",
        "# plot the error over the entire training duration\n",
        "plt.figure(figsize=(15,5))\n",
        "plt.plot(NN.epoch_list, NN.error_history)\n",
        "plt.xlabel('Epoch')\n",
        "plt.ylabel('Error')\n",
        "plt.show()"
      ]
    },
    {
      "cell_type": "code",
      "execution_count": 23,
      "metadata": {
        "colab": {
          "base_uri": "https://localhost:8080/",
          "height": 368
        },
        "id": "3CTuoFAecDqs",
        "outputId": "6c8df35c-cc5b-4777-be57-2c55f7ea31fc"
      },
      "outputs": [
        {
          "name": "stdout",
          "output_type": "stream",
          "text": [
            "(0, array([[1.]]))  - Correct:  0\n",
            "(1, array([[1.]]))  - Correct:  1\n"
          ]
        },
        {
          "data": {
            "image/png": "[encoded data removed]",
            "text/plain": [
              "<Figure size 1080x360 with 1 Axes>"
            ]
          },
          "metadata": {
            "needs_background": "light"
          },
          "output_type": "display_data"
        }
      ],
      "source": [
        "# input data\n",
        "input = np.array(ColumnToArray_Input(df))\n",
        "\n",
        "# output data\n",
        "output = np.array(ColumnToArray_Output(df))\n",
        "\n",
        "# create NeuralNetwork class\n",
        "class NeuralNetwork:\n",
        "\n",
        "    # intialize variables in class\n",
        "    def __init__(self, input, output):\n",
        "        self.input  = input\n",
        "        self.output = output\n",
        "        \n",
        "        # initialize weights as .50 for simplicity\n",
        "        self.weights = np.array([[.50], [.50], [.50]])\n",
        "        self.error_history = []\n",
        "        self.epoch_list = []\n",
        "\n",
        "    #activation function ==> S(x) = e^/sum(e^x)\n",
        "    def softmax(self, x):\n",
        "      return np.exp(x)/np.sum(np.exp(x))\n",
        "\n",
        "    # data will flow through the neural network.\n",
        "    def feed_forward(self):\n",
        "        self.hidden = self.softmax(np.dot(self.input, self.weights))\n",
        "\n",
        "    # going backwards through the network to update weights\n",
        "    def backpropagation(self):\n",
        "        self.error  = self.output - self.hidden\n",
        "        delta = self.error * self.softmax(self.hidden)\n",
        "        self.weights += np.dot(self.input.T, delta)\n",
        "\n",
        "    # train the neural net for 700 iterations\n",
        "    def train(self, epochs=700):\n",
        "        for epoch in range(epochs):\n",
        "            # flow forward and produce an output\n",
        "            self.feed_forward()\n",
        "            # go back though the network to make corrections based on the output\n",
        "            self.backpropagation()    \n",
        "            # keep track of the error history over each epoch\n",
        "            self.error_history.append(np.average(np.abs(self.error)))\n",
        "            self.epoch_list.append(epoch)\n",
        "\n",
        "    # function to predict output on new and unseen input data                               \n",
        "    def predict(self, new_input):\n",
        "        probability = self.softmax(np.dot(new_input, self.weights))\n",
        "        if probability == 1.0:\n",
        "          prediction=new_input[0][0]\n",
        "        return prediction,probability\n",
        "\n",
        "# create neural network   \n",
        "NN = NeuralNetwork(input, output)\n",
        "# train neural network\n",
        "NN.train()\n",
        "\n",
        "# create two new examples to predict                                   \n",
        "example = np.array([[0, 0, 1]])\n",
        "example_2 = np.array([[1, 1, 1]])\n",
        "\n",
        "# print the predictions for both examples                                   \n",
        "print(NN.predict(example), ' - Correct: ', example[0][0])\n",
        "print(NN.predict(example_2), ' - Correct: ', example_2[0][0])\n",
        "\n",
        "# plot the error over the entire training duration\n",
        "plt.figure(figsize=(15,5))\n",
        "plt.plot(NN.epoch_list, NN.error_history)\n",
        "plt.xlabel('Epoch')\n",
        "plt.ylabel('Error')\n",
        "plt.show()"
      ]
    },
    {
      "cell_type": "code",
      "execution_count": 24,
      "metadata": {
        "colab": {
          "base_uri": "https://localhost:8080/",
          "height": 368
        },
        "id": "CK2CjqDhcIKU",
        "outputId": "e6f2b648-93a4-4326-d3d3-0c12bd55f005"
      },
      "outputs": [
        {
          "name": "stdout",
          "output_type": "stream",
          "text": [
            "(0, array([[1.]]))  - Correct:  0\n",
            "(1, array([[1.]]))  - Correct:  1\n"
          ]
        },
        {
          "data": {
            "image/png": "[encoded data removed]",
            "text/plain": [
              "<Figure size 1080x360 with 1 Axes>"
            ]
          },
          "metadata": {
            "needs_background": "light"
          },
          "output_type": "display_data"
        }
      ],
      "source": [
        "# input data\n",
        "input = np.array(ColumnToArray_Input(df))\n",
        "\n",
        "# output data\n",
        "output = np.array(ColumnToArray_Output(df))\n",
        "\n",
        "# create NeuralNetwork class\n",
        "class NeuralNetwork:\n",
        "\n",
        "    # intialize variables in class\n",
        "    def __init__(self, input, output):\n",
        "        self.input  = input\n",
        "        self.output = output\n",
        "        \n",
        "        # initialize weights as .50 for simplicity\n",
        "        self.weights = np.array([[.50], [.50], [.50]])\n",
        "        self.error_history = []\n",
        "        self.epoch_list = []\n",
        "\n",
        "    #activation function ==> S(x) = e^/sum(e^x)\n",
        "    def softmax(self, x):\n",
        "      return np.exp(x)/np.sum(np.exp(x))\n",
        "\n",
        "    # data will flow through the neural network.\n",
        "    def feed_forward(self):\n",
        "        self.hidden = self.softmax(np.dot(self.input, self.weights))\n",
        "\n",
        "    # going backwards through the network to update weights\n",
        "    def backpropagation(self):\n",
        "        self.error  = self.output - self.hidden\n",
        "        delta = self.error * self.softmax(self.hidden)\n",
        "        self.weights += np.dot(self.input.T, delta)\n",
        "\n",
        "    # train the neural net for 1000 iterations\n",
        "    def train(self, epochs=1000):\n",
        "        for epoch in range(epochs):\n",
        "            # flow forward and produce an output\n",
        "            self.feed_forward()\n",
        "            # go back though the network to make corrections based on the output\n",
        "            self.backpropagation()    \n",
        "            # keep track of the error history over each epoch\n",
        "            self.error_history.append(np.average(np.abs(self.error)))\n",
        "            self.epoch_list.append(epoch)\n",
        "\n",
        "    # function to predict output on new and unseen input data                               \n",
        "    def predict(self, new_input):\n",
        "        probability = self.softmax(np.dot(new_input, self.weights))\n",
        "        if probability == 1.0:\n",
        "          prediction=new_input[0][0]\n",
        "        return prediction,probability\n",
        "\n",
        "# create neural network   \n",
        "NN = NeuralNetwork(input, output)\n",
        "# train neural network\n",
        "NN.train()\n",
        "\n",
        "# create two new examples to predict                                   \n",
        "example = np.array([[0, 0, 1]])\n",
        "example_2 = np.array([[1, 1, 1]])\n",
        "\n",
        "# print the predictions for both examples                                   \n",
        "print(NN.predict(example), ' - Correct: ', example[0][0])\n",
        "print(NN.predict(example_2), ' - Correct: ', example_2[0][0])\n",
        "\n",
        "# plot the error over the entire training duration\n",
        "plt.figure(figsize=(15,5))\n",
        "plt.plot(NN.epoch_list, NN.error_history)\n",
        "plt.xlabel('Epoch')\n",
        "plt.ylabel('Error')\n",
        "plt.show()"
      ]
    },
    {
      "cell_type": "code",
      "execution_count": 25,
      "metadata": {
        "colab": {
          "base_uri": "https://localhost:8080/",
          "height": 402
        },
        "id": "8op11PyYcNQG",
        "outputId": "dc30be56-c401-4450-be3c-eb826997f758"
      },
      "outputs": [
        {
          "name": "stdout",
          "output_type": "stream",
          "text": [
            "(0, array([[1.]]))  - Correct:  0\n",
            "(1, array([[1.]]))  - Correct:  1\n",
            "(1, array([[1.]]))  - Correct:  1\n",
            "(1, array([[1.]]))  - Correct:  1\n"
          ]
        },
        {
          "data": {
            "image/png": "[encoded data removed]",
            "text/plain": [
              "<Figure size 1080x360 with 1 Axes>"
            ]
          },
          "metadata": {
            "needs_background": "light"
          },
          "output_type": "display_data"
        }
      ],
      "source": [
        "# input data\n",
        "input = np.array(ColumnToArray_Input(df))\n",
        "\n",
        "# output data\n",
        "output = np.array(ColumnToArray_Output(df))\n",
        "\n",
        "# create NeuralNetwork class\n",
        "class NeuralNetwork:\n",
        "\n",
        "    # intialize variables in class\n",
        "    def __init__(self, input, output):\n",
        "        self.input  = input\n",
        "        self.output = output\n",
        "        \n",
        "        # initialize weights as .50 for simplicity\n",
        "        self.weights = np.array([[.50], [.50], [.50]])\n",
        "        self.error_history = []\n",
        "        self.epoch_list = []\n",
        "\n",
        "    #activation function ==> S(x) = e^/sum(e^x)\n",
        "    def softmax(self, x):\n",
        "      return np.exp(x)/np.sum(np.exp(x))\n",
        "\n",
        "    # data will flow through the neural network.\n",
        "    def feed_forward(self):\n",
        "        self.hidden = self.softmax(np.dot(self.input, self.weights))\n",
        "\n",
        "    # going backwards through the network to update weights\n",
        "    def backpropagation(self):\n",
        "        self.error  = self.output - self.hidden\n",
        "        delta = self.error * self.softmax(self.hidden)\n",
        "        self.weights += np.dot(self.input.T, delta)\n",
        "\n",
        "    # train the neural net for 50 iterations\n",
        "    def train(self, epochs=50):\n",
        "        for epoch in range(epochs):\n",
        "            # flow forward and produce an output\n",
        "            self.feed_forward()\n",
        "            # go back though the network to make corrections based on the output\n",
        "            self.backpropagation()    \n",
        "            # keep track of the error history over each epoch\n",
        "            self.error_history.append(np.average(np.abs(self.error)))\n",
        "            self.epoch_list.append(epoch)\n",
        "\n",
        "    # function to predict output on new and unseen input data                               \n",
        "    def predict(self, new_input):\n",
        "        probability = self.softmax(np.dot(new_input, self.weights))\n",
        "        if probability == 1.0:\n",
        "          prediction=new_input[0][0]\n",
        "        return prediction,probability\n",
        "\n",
        "# create neural network   \n",
        "NN = NeuralNetwork(input, output)\n",
        "# train neural network\n",
        "NN.train()\n",
        "\n",
        "# create two new examples to predict                                   \n",
        "example = np.array([[0, 0, 1]])\n",
        "example_2 = np.array([[1, 1, 1]])\n",
        "example_3 = np.array([[1, 0, 1]])\n",
        "example_4 = np.array([[1, 0, 0]])\n",
        "\n",
        "# print the predictions for both examples                                   \n",
        "print(NN.predict(example), ' - Correct: ', example[0][0])\n",
        "print(NN.predict(example_2), ' - Correct: ', example_2[0][0])\n",
        "print(NN.predict(example_3), ' - Correct: ', example_3[0][0])\n",
        "print(NN.predict(example_4), ' - Correct: ', example_4[0][0])\n",
        "\n",
        "# plot the error over the entire training duration\n",
        "plt.figure(figsize=(15,5))\n",
        "plt.plot(NN.epoch_list, NN.error_history)\n",
        "plt.xlabel('Epoch')\n",
        "plt.ylabel('Error')\n",
        "plt.show()"
      ]
    },
    {
      "cell_type": "code",
      "execution_count": 26,
      "metadata": {
        "colab": {
          "base_uri": "https://localhost:8080/",
          "height": 402
        },
        "id": "0Gf3wY2vcZoT",
        "outputId": "ceb3f2d9-7ddf-445a-8b3d-587438ca4d61"
      },
      "outputs": [
        {
          "name": "stdout",
          "output_type": "stream",
          "text": [
            "(0, array([[1.]]))  - Correct:  0\n",
            "(1, array([[1.]]))  - Correct:  1\n",
            "(1, array([[1.]]))  - Correct:  1\n",
            "(1, array([[1.]]))  - Correct:  1\n"
          ]
        },
        {
          "data": {
            "image/png": "[encoded data removed]",
            "text/plain": [
              "<Figure size 1080x360 with 1 Axes>"
            ]
          },
          "metadata": {
            "needs_background": "light"
          },
          "output_type": "display_data"
        }
      ],
      "source": [
        "# input data\n",
        "input = np.array(ColumnToArray_Input(df))\n",
        "\n",
        "# output data\n",
        "output = np.array(ColumnToArray_Output(df))\n",
        "\n",
        "# create NeuralNetwork class\n",
        "class NeuralNetwork:\n",
        "\n",
        "    # intialize variables in class\n",
        "    def __init__(self, input, output):\n",
        "        self.input  = input\n",
        "        self.output = output\n",
        "        \n",
        "        # initialize weights as .50 for simplicity\n",
        "        self.weights = np.array([[.50], [.50], [.50]])\n",
        "        self.error_history = []\n",
        "        self.epoch_list = []\n",
        "\n",
        "    #activation function ==> S(x) = e^/sum(e^x)\n",
        "    def softmax(self, x):\n",
        "      return np.exp(x)/np.sum(np.exp(x))\n",
        "\n",
        "    # data will flow through the neural network.\n",
        "    def feed_forward(self):\n",
        "        self.hidden = self.softmax(np.dot(self.input, self.weights))\n",
        "\n",
        "    # going backwards through the network to update weights\n",
        "    def backpropagation(self):\n",
        "        self.error  = self.output - self.hidden\n",
        "        delta = self.error * self.softmax(self.hidden)\n",
        "        self.weights += np.dot(self.input.T, delta)\n",
        "\n",
        "    # train the neural net for 100 iterations\n",
        "    def train(self, epochs=100):\n",
        "        for epoch in range(epochs):\n",
        "            # flow forward and produce an output\n",
        "            self.feed_forward()\n",
        "            # go back though the network to make corrections based on the output\n",
        "            self.backpropagation()    \n",
        "            # keep track of the error history over each epoch\n",
        "            self.error_history.append(np.average(np.abs(self.error)))\n",
        "            self.epoch_list.append(epoch)\n",
        "\n",
        "    # function to predict output on new and unseen input data                               \n",
        "    def predict(self, new_input):\n",
        "        probability = self.softmax(np.dot(new_input, self.weights))\n",
        "        if probability == 1.0:\n",
        "          prediction=new_input[0][0]\n",
        "        return prediction,probability\n",
        "\n",
        "# create neural network   \n",
        "NN = NeuralNetwork(input, output)\n",
        "# train neural network\n",
        "NN.train()\n",
        "\n",
        "# create two new examples to predict                                   \n",
        "example = np.array([[0, 0, 1]])\n",
        "example_2 = np.array([[1, 1, 1]])\n",
        "example_3 = np.array([[1, 0, 1]])\n",
        "example_4 = np.array([[1, 0, 0]])\n",
        "\n",
        "# print the predictions for both examples                                   \n",
        "print(NN.predict(example), ' - Correct: ', example[0][0])\n",
        "print(NN.predict(example_2), ' - Correct: ', example_2[0][0])\n",
        "print(NN.predict(example_3), ' - Correct: ', example_3[0][0])\n",
        "print(NN.predict(example_4), ' - Correct: ', example_4[0][0])\n",
        "\n",
        "# plot the error over the entire training duration\n",
        "plt.figure(figsize=(15,5))\n",
        "plt.plot(NN.epoch_list, NN.error_history)\n",
        "plt.xlabel('Epoch')\n",
        "plt.ylabel('Error')\n",
        "plt.show()"
      ]
    },
    {
      "cell_type": "code",
      "execution_count": 27,
      "metadata": {
        "colab": {
          "base_uri": "https://localhost:8080/",
          "height": 402
        },
        "id": "TMYuHHhbcekS",
        "outputId": "b6d73f26-8f23-403a-d37f-7ded17aa561d"
      },
      "outputs": [
        {
          "name": "stdout",
          "output_type": "stream",
          "text": [
            "(0, array([[1.]]))  - Correct:  0\n",
            "(1, array([[1.]]))  - Correct:  1\n",
            "(1, array([[1.]]))  - Correct:  1\n",
            "(1, array([[1.]]))  - Correct:  1\n"
          ]
        },
        {
          "data": {
            "image/png": "[encoded data removed]",
            "text/plain": [
              "<Figure size 1080x360 with 1 Axes>"
            ]
          },
          "metadata": {
            "needs_background": "light"
          },
          "output_type": "display_data"
        }
      ],
      "source": [
        "# input data\n",
        "input = np.array(ColumnToArray_Input(df))\n",
        "\n",
        "# output data\n",
        "output = np.array(ColumnToArray_Output(df))\n",
        "\n",
        "# create NeuralNetwork class\n",
        "class NeuralNetwork:\n",
        "\n",
        "    # intialize variables in class\n",
        "    def __init__(self, input, output):\n",
        "        self.input  = input\n",
        "        self.output = output\n",
        "        \n",
        "        # initialize weights as .50 for simplicity\n",
        "        self.weights = np.array([[.50], [.50], [.50]])\n",
        "        self.error_history = []\n",
        "        self.epoch_list = []\n",
        "\n",
        "    #activation function ==> S(x) = e^/sum(e^x)\n",
        "    def softmax(self, x):\n",
        "      return np.exp(x)/np.sum(np.exp(x))\n",
        "\n",
        "    # data will flow through the neural network.\n",
        "    def feed_forward(self):\n",
        "        self.hidden = self.softmax(np.dot(self.input, self.weights))\n",
        "\n",
        "    # going backwards through the network to update weights\n",
        "    def backpropagation(self):\n",
        "        self.error  = self.output - self.hidden\n",
        "        delta = self.error * self.softmax(self.hidden)\n",
        "        self.weights += np.dot(self.input.T, delta)\n",
        "\n",
        "    # train the neural net for 25 iterations\n",
        "    def train(self, epochs=25):\n",
        "        for epoch in range(epochs):\n",
        "            # flow forward and produce an output\n",
        "            self.feed_forward()\n",
        "            # go back though the network to make corrections based on the output\n",
        "            self.backpropagation()    \n",
        "            # keep track of the error history over each epoch\n",
        "            self.error_history.append(np.average(np.abs(self.error)))\n",
        "            self.epoch_list.append(epoch)\n",
        "\n",
        "    # function to predict output on new and unseen input data                               \n",
        "    def predict(self, new_input):\n",
        "        probability = self.softmax(np.dot(new_input, self.weights))\n",
        "        if probability == 1.0:\n",
        "          prediction=new_input[0][0]\n",
        "        return prediction,probability\n",
        "\n",
        "# create neural network   \n",
        "NN = NeuralNetwork(input, output)\n",
        "# train neural network\n",
        "NN.train()\n",
        "\n",
        "# create two new examples to predict                                   \n",
        "example = np.array([[0, 0, 1]])\n",
        "example_2 = np.array([[1, 1, 1]])\n",
        "example_3 = np.array([[1, 0, 1]])\n",
        "example_4 = np.array([[1, 0, 0]])\n",
        "\n",
        "# print the predictions for both examples                                   \n",
        "print(NN.predict(example), ' - Correct: ', example[0][0])\n",
        "print(NN.predict(example_2), ' - Correct: ', example_2[0][0])\n",
        "print(NN.predict(example_3), ' - Correct: ', example_3[0][0])\n",
        "print(NN.predict(example_4), ' - Correct: ', example_4[0][0])\n",
        "\n",
        "# plot the error over the entire training duration\n",
        "plt.figure(figsize=(15,5))\n",
        "plt.plot(NN.epoch_list, NN.error_history)\n",
        "plt.xlabel('Epoch')\n",
        "plt.ylabel('Error')\n",
        "plt.show()"
      ]
    },
    {
      "cell_type": "code",
      "execution_count": 28,
      "metadata": {
        "colab": {
          "base_uri": "https://localhost:8080/",
          "height": 402
        },
        "id": "a5rtcrpvchXz",
        "outputId": "8724b2d2-8b10-44e8-dcb4-6d07c76e722c"
      },
      "outputs": [
        {
          "name": "stdout",
          "output_type": "stream",
          "text": [
            "(0, array([[1.]]))  - Correct:  0\n",
            "(1, array([[1.]]))  - Correct:  1\n",
            "(1, array([[1.]]))  - Correct:  1\n",
            "(1, array([[1.]]))  - Correct:  1\n"
          ]
        },
        {
          "data": {
            "image/png": "[encoded data removed]",
            "text/plain": [
              "<Figure size 1080x360 with 1 Axes>"
            ]
          },
          "metadata": {
            "needs_background": "light"
          },
          "output_type": "display_data"
        }
      ],
      "source": [
        "# input data\n",
        "input = np.array(ColumnToArray_Input(df))\n",
        "\n",
        "# output data\n",
        "output = np.array(ColumnToArray_Output(df))\n",
        "\n",
        "# create NeuralNetwork class\n",
        "class NeuralNetwork:\n",
        "\n",
        "    # intialize variables in class\n",
        "    def __init__(self, input, output):\n",
        "        self.input  = input\n",
        "        self.output = output\n",
        "        \n",
        "        # initialize weights as .50 for simplicity\n",
        "        self.weights = np.array([[.50], [.50], [.50]])\n",
        "        self.error_history = []\n",
        "        self.epoch_list = []\n",
        "\n",
        "    #activation function ==> S(x) = e^/sum(e^x)\n",
        "    def softmax(self, x):\n",
        "      return np.exp(x)/np.sum(np.exp(x))\n",
        "\n",
        "    # data will flow through the neural network.\n",
        "    def feed_forward(self):\n",
        "        self.hidden = self.softmax(np.dot(self.input, self.weights))\n",
        "\n",
        "    # going backwards through the network to update weights\n",
        "    def backpropagation(self):\n",
        "        self.error  = self.output - self.hidden\n",
        "        delta = self.error * self.softmax(self.hidden)\n",
        "        self.weights += np.dot(self.input.T, delta)\n",
        "\n",
        "    # train the neural net for 500 iterations\n",
        "    def train(self, epochs=500):\n",
        "        for epoch in range(epochs):\n",
        "            # flow forward and produce an output\n",
        "            self.feed_forward()\n",
        "            # go back though the network to make corrections based on the output\n",
        "            self.backpropagation()    \n",
        "            # keep track of the error history over each epoch\n",
        "            self.error_history.append(np.average(np.abs(self.error)))\n",
        "            self.epoch_list.append(epoch)\n",
        "\n",
        "    # function to predict output on new and unseen input data                               \n",
        "    def predict(self, new_input):\n",
        "        probability = self.softmax(np.dot(new_input, self.weights))\n",
        "        if probability == 1.0:\n",
        "          prediction=new_input[0][0]\n",
        "        return prediction,probability\n",
        "\n",
        "# create neural network   \n",
        "NN = NeuralNetwork(input, output)\n",
        "# train neural network\n",
        "NN.train()\n",
        "\n",
        "# create two new examples to predict                                   \n",
        "example = np.array([[0, 0, 1]])\n",
        "example_2 = np.array([[1, 1, 1]])\n",
        "example_3 = np.array([[1, 0, 1]])\n",
        "example_4 = np.array([[1, 0, 0]])\n",
        "\n",
        "# print the predictions for both examples                                   \n",
        "print(NN.predict(example), ' - Correct: ', example[0][0])\n",
        "print(NN.predict(example_2), ' - Correct: ', example_2[0][0])\n",
        "print(NN.predict(example_3), ' - Correct: ', example_3[0][0])\n",
        "print(NN.predict(example_4), ' - Correct: ', example_4[0][0])\n",
        "\n",
        "# plot the error over the entire training duration\n",
        "plt.figure(figsize=(15,5))\n",
        "plt.plot(NN.epoch_list, NN.error_history)\n",
        "plt.xlabel('Epoch')\n",
        "plt.ylabel('Error')\n",
        "plt.show()"
      ]
    },
    {
      "cell_type": "code",
      "execution_count": 29,
      "metadata": {
        "colab": {
          "base_uri": "https://localhost:8080/",
          "height": 402
        },
        "id": "TYgJZ2HsdYh3",
        "outputId": "3041b2bf-0dd3-461b-d152-06afebc28133"
      },
      "outputs": [
        {
          "name": "stdout",
          "output_type": "stream",
          "text": [
            "(0, array([[1.]]))  - Correct:  0\n",
            "(1, array([[1.]]))  - Correct:  1\n",
            "(1, array([[1.]]))  - Correct:  1\n",
            "(1, array([[1.]]))  - Correct:  1\n"
          ]
        },
        {
          "data": {
            "image/png": "[encoded data removed]",
            "text/plain": [
              "<Figure size 1080x360 with 1 Axes>"
            ]
          },
          "metadata": {
            "needs_background": "light"
          },
          "output_type": "display_data"
        }
      ],
      "source": [
        "# input data\n",
        "input = np.array(ColumnToArray_Input(df))\n",
        "\n",
        "# output data\n",
        "output = np.array(ColumnToArray_Output(df))\n",
        "\n",
        "# create NeuralNetwork class\n",
        "class NeuralNetwork:\n",
        "\n",
        "    # intialize variables in class\n",
        "    def __init__(self, input, output):\n",
        "        self.input  = input\n",
        "        self.output = output\n",
        "        \n",
        "        # initialize weights as .50 for simplicity\n",
        "        self.weights = np.array([[.50], [.50], [.50]])\n",
        "        self.error_history = []\n",
        "        self.epoch_list = []\n",
        "\n",
        "    #activation function ==> S(x) = e^/sum(e^x)\n",
        "    def softmax(self, x):\n",
        "      return np.exp(x)/np.sum(np.exp(x))\n",
        "\n",
        "    # data will flow through the neural network.\n",
        "    def feed_forward(self):\n",
        "        self.hidden = self.softmax(np.dot(self.input, self.weights))\n",
        "\n",
        "    # going backwards through the network to update weights\n",
        "    def backpropagation(self):\n",
        "        self.error  = self.output - self.hidden\n",
        "        delta = self.error * self.softmax(self.hidden)\n",
        "        self.weights += np.dot(self.input.T, delta)\n",
        "\n",
        "    # train the neural net for 1000 iterations\n",
        "    def train(self, epochs=1000):\n",
        "        for epoch in range(epochs):\n",
        "            # flow forward and produce an output\n",
        "            self.feed_forward()\n",
        "            # go back though the network to make corrections based on the output\n",
        "            self.backpropagation()    \n",
        "            # keep track of the error history over each epoch\n",
        "            self.error_history.append(np.average(np.abs(self.error)))\n",
        "            self.epoch_list.append(epoch)\n",
        "\n",
        "    # function to predict output on new and unseen input data                               \n",
        "    def predict(self, new_input):\n",
        "        probability = self.softmax(np.dot(new_input, self.weights))\n",
        "        if probability == 1.0:\n",
        "          prediction=new_input[0][0]\n",
        "        return prediction,probability\n",
        "\n",
        "# create neural network   \n",
        "NN = NeuralNetwork(input, output)\n",
        "# train neural network\n",
        "NN.train()\n",
        "\n",
        "# create two new examples to predict                                   \n",
        "example = np.array([[0, 0, 1]])\n",
        "example_2 = np.array([[1, 1, 1]])\n",
        "example_3 = np.array([[1, 0, 1]])\n",
        "example_4 = np.array([[1, 0, 0]])\n",
        "\n",
        "# print the predictions for both examples                                   \n",
        "print(NN.predict(example), ' - Correct: ', example[0][0])\n",
        "print(NN.predict(example_2), ' - Correct: ', example_2[0][0])\n",
        "print(NN.predict(example_3), ' - Correct: ', example_3[0][0])\n",
        "print(NN.predict(example_4), ' - Correct: ', example_4[0][0])\n",
        "\n",
        "# plot the error over the entire training duration\n",
        "plt.figure(figsize=(15,5))\n",
        "plt.plot(NN.epoch_list, NN.error_history)\n",
        "plt.xlabel('Epoch')\n",
        "plt.ylabel('Error')\n",
        "plt.show()"
      ]
    },
    {
      "cell_type": "code",
      "execution_count": 30,
      "metadata": {
        "colab": {
          "base_uri": "https://localhost:8080/",
          "height": 402
        },
        "id": "lRYYhiGadcsb",
        "outputId": "2d8ed32f-c9a9-412f-e143-a1b8a515ad31"
      },
      "outputs": [
        {
          "name": "stdout",
          "output_type": "stream",
          "text": [
            "(0, array([[1.]]))  - Correct:  0\n",
            "(1, array([[1.]]))  - Correct:  1\n",
            "(1, array([[1.]]))  - Correct:  1\n",
            "(1, array([[1.]]))  - Correct:  1\n"
          ]
        },
        {
          "data": {
            "image/png": "[encoded data removed]",
            "text/plain": [
              "<Figure size 1080x360 with 1 Axes>"
            ]
          },
          "metadata": {
            "needs_background": "light"
          },
          "output_type": "display_data"
        }
      ],
      "source": [
        "# input data\n",
        "input = np.array(ColumnToArray_Input(df))\n",
        "\n",
        "# output data\n",
        "output = np.array(ColumnToArray_Output(df))\n",
        "\n",
        "# create NeuralNetwork class\n",
        "class NeuralNetwork:\n",
        "\n",
        "    # intialize variables in class\n",
        "    def __init__(self, input, output):\n",
        "        self.input  = input\n",
        "        self.output = output\n",
        "        \n",
        "        # initialize weights as .50 for simplicity\n",
        "        self.weights = np.array([[.50], [.50], [.50]])\n",
        "        self.error_history = []\n",
        "        self.epoch_list = []\n",
        "\n",
        "    #activation function ==> S(x) = e^/sum(e^x)\n",
        "    def softmax(self, x):\n",
        "      return np.exp(x)/np.sum(np.exp(x))\n",
        "\n",
        "    # data will flow through the neural network.\n",
        "    def feed_forward(self):\n",
        "        self.hidden = self.softmax(np.dot(self.input, self.weights))\n",
        "\n",
        "    # going backwards through the network to update weights\n",
        "    def backpropagation(self):\n",
        "        self.error  = self.output - self.hidden\n",
        "        delta = self.error * self.softmax(self.hidden)\n",
        "        self.weights += np.dot(self.input.T, delta)\n",
        "\n",
        "    # train the neural net for 750 iterations\n",
        "    def train(self, epochs=750):\n",
        "        for epoch in range(epochs):\n",
        "            # flow forward and produce an output\n",
        "            self.feed_forward()\n",
        "            # go back though the network to make corrections based on the output\n",
        "            self.backpropagation()    \n",
        "            # keep track of the error history over each epoch\n",
        "            self.error_history.append(np.average(np.abs(self.error)))\n",
        "            self.epoch_list.append(epoch)\n",
        "\n",
        "    # function to predict output on new and unseen input data                               \n",
        "    def predict(self, new_input):\n",
        "        probability = self.softmax(np.dot(new_input, self.weights))\n",
        "        if probability == 1.0:\n",
        "          prediction=new_input[0][0]\n",
        "        return prediction,probability\n",
        "\n",
        "# create neural network   \n",
        "NN = NeuralNetwork(input, output)\n",
        "# train neural network\n",
        "NN.train()\n",
        "\n",
        "# create two new examples to predict                                   \n",
        "example = np.array([[0, 0, 1]])\n",
        "example_2 = np.array([[1, 1, 1]])\n",
        "example_3 = np.array([[1, 0, 1]])\n",
        "example_4 = np.array([[1, 0, 0]])\n",
        "\n",
        "# print the predictions for both examples                                   \n",
        "print(NN.predict(example), ' - Correct: ', example[0][0])\n",
        "print(NN.predict(example_2), ' - Correct: ', example_2[0][0])\n",
        "print(NN.predict(example_3), ' - Correct: ', example_3[0][0])\n",
        "print(NN.predict(example_4), ' - Correct: ', example_4[0][0])\n",
        "\n",
        "# plot the error over the entire training duration\n",
        "plt.figure(figsize=(15,5))\n",
        "plt.plot(NN.epoch_list, NN.error_history)\n",
        "plt.xlabel('Epoch')\n",
        "plt.ylabel('Error')\n",
        "plt.show()"
      ]
    },
    {
      "cell_type": "code",
      "execution_count": 31,
      "metadata": {
        "colab": {
          "base_uri": "https://localhost:8080/",
          "height": 402
        },
        "id": "CGERBPTxdhjk",
        "outputId": "ebbb4381-4d44-4535-ed6f-6e4341258360"
      },
      "outputs": [
        {
          "name": "stdout",
          "output_type": "stream",
          "text": [
            "(0, array([[1.]]))  - Correct:  0\n",
            "(1, array([[1.]]))  - Correct:  1\n",
            "(1, array([[1.]]))  - Correct:  1\n",
            "(1, array([[1.]]))  - Correct:  1\n"
          ]
        },
        {
          "data": {
            "image/png": "[encoded data removed]",
            "text/plain": [
              "<Figure size 1080x360 with 1 Axes>"
            ]
          },
          "metadata": {
            "needs_background": "light"
          },
          "output_type": "display_data"
        }
      ],
      "source": [
        "# input data\n",
        "input = np.array(ColumnToArray_Input(df))\n",
        "\n",
        "# output data\n",
        "output = np.array(ColumnToArray_Output(df))\n",
        "\n",
        "# create NeuralNetwork class\n",
        "class NeuralNetwork:\n",
        "\n",
        "    # intialize variables in class\n",
        "    def __init__(self, input, output):\n",
        "        self.input  = input\n",
        "        self.output = output\n",
        "        \n",
        "        # initialize weights as .50 for simplicity\n",
        "        self.weights = np.array([[.50], [.50], [.50]])\n",
        "        self.error_history = []\n",
        "        self.epoch_list = []\n",
        "\n",
        "    #activation function ==> S(x) = e^/sum(e^x)\n",
        "    def softmax(self, x):\n",
        "      return np.exp(x)/np.sum(np.exp(x))\n",
        "\n",
        "    # data will flow through the neural network.\n",
        "    def feed_forward(self):\n",
        "        self.hidden = self.softmax(np.dot(self.input, self.weights))\n",
        "\n",
        "    # going backwards through the network to update weights\n",
        "    def backpropagation(self):\n",
        "        self.error  = self.output - self.hidden\n",
        "        delta = self.error * self.softmax(self.hidden)\n",
        "        self.weights += np.dot(self.input.T, delta)\n",
        "\n",
        "    # train the neural net for 75 iterations\n",
        "    def train(self, epochs=75):\n",
        "        for epoch in range(epochs):\n",
        "            # flow forward and produce an output\n",
        "            self.feed_forward()\n",
        "            # go back though the network to make corrections based on the output\n",
        "            self.backpropagation()    \n",
        "            # keep track of the error history over each epoch\n",
        "            self.error_history.append(np.average(np.abs(self.error)))\n",
        "            self.epoch_list.append(epoch)\n",
        "\n",
        "    # function to predict output on new and unseen input data                               \n",
        "    def predict(self, new_input):\n",
        "        probability = self.softmax(np.dot(new_input, self.weights))\n",
        "        if probability == 1.0:\n",
        "          prediction=new_input[0][0]\n",
        "        return prediction,probability\n",
        "\n",
        "# create neural network   \n",
        "NN = NeuralNetwork(input, output)\n",
        "# train neural network\n",
        "NN.train()\n",
        "\n",
        "# create two new examples to predict                                   \n",
        "example = np.array([[0, 0, 1]])\n",
        "example_2 = np.array([[1, 1, 1]])\n",
        "example_3 = np.array([[1, 0, 1]])\n",
        "example_4 = np.array([[1, 0, 0]])\n",
        "\n",
        "# print the predictions for both examples                                   \n",
        "print(NN.predict(example), ' - Correct: ', example[0][0])\n",
        "print(NN.predict(example_2), ' - Correct: ', example_2[0][0])\n",
        "print(NN.predict(example_3), ' - Correct: ', example_3[0][0])\n",
        "print(NN.predict(example_4), ' - Correct: ', example_4[0][0])\n",
        "\n",
        "# plot the error over the entire training duration\n",
        "plt.figure(figsize=(15,5))\n",
        "plt.plot(NN.epoch_list, NN.error_history)\n",
        "plt.xlabel('Epoch')\n",
        "plt.ylabel('Error')\n",
        "plt.show()"
      ]
    },
    {
      "cell_type": "code",
      "execution_count": 32,
      "metadata": {
        "colab": {
          "base_uri": "https://localhost:8080/",
          "height": 402
        },
        "id": "N7DRWGREdlrC",
        "outputId": "abb62031-1cc8-4c43-ca94-5779a906b097"
      },
      "outputs": [
        {
          "name": "stdout",
          "output_type": "stream",
          "text": [
            "(0, array([[1.]]))  - Correct:  0\n",
            "(1, array([[1.]]))  - Correct:  1\n",
            "(1, array([[1.]]))  - Correct:  1\n",
            "(1, array([[1.]]))  - Correct:  1\n"
          ]
        },
        {
          "data": {
            "image/png": "[encoded data removed]",
            "text/plain": [
              "<Figure size 1080x360 with 1 Axes>"
            ]
          },
          "metadata": {
            "needs_background": "light"
          },
          "output_type": "display_data"
        }
      ],
      "source": [
        "# input data\n",
        "input = np.array(ColumnToArray_Input(df))\n",
        "\n",
        "# output data\n",
        "output = np.array(ColumnToArray_Output(df))\n",
        "\n",
        "# create NeuralNetwork class\n",
        "class NeuralNetwork:\n",
        "\n",
        "    # intialize variables in class\n",
        "    def __init__(self, input, output):\n",
        "        self.input  = input\n",
        "        self.output = output\n",
        "        \n",
        "        # initialize weights as .50 for simplicity\n",
        "        self.weights = np.array([[.50], [.50], [.50]])\n",
        "        self.error_history = []\n",
        "        self.epoch_list = []\n",
        "\n",
        "    #activation function ==> S(x) = e^/sum(e^x)\n",
        "    def softmax(self, x):\n",
        "      return np.exp(x)/np.sum(np.exp(x))\n",
        "\n",
        "    # data will flow through the neural network.\n",
        "    def feed_forward(self):\n",
        "        self.hidden = self.softmax(np.dot(self.input, self.weights))\n",
        "\n",
        "    # going backwards through the network to update weights\n",
        "    def backpropagation(self):\n",
        "        self.error  = self.output - self.hidden\n",
        "        delta = self.error * self.softmax(self.hidden)\n",
        "        self.weights += np.dot(self.input.T, delta)\n",
        "\n",
        "    # train the neural net for 40 iterations\n",
        "    def train(self, epochs=40):\n",
        "        for epoch in range(epochs):\n",
        "            # flow forward and produce an output\n",
        "            self.feed_forward()\n",
        "            # go back though the network to make corrections based on the output\n",
        "            self.backpropagation()    \n",
        "            # keep track of the error history over each epoch\n",
        "            self.error_history.append(np.average(np.abs(self.error)))\n",
        "            self.epoch_list.append(epoch)\n",
        "\n",
        "    # function to predict output on new and unseen input data                               \n",
        "    def predict(self, new_input):\n",
        "        probability = self.softmax(np.dot(new_input, self.weights))\n",
        "        if probability == 1.0:\n",
        "          prediction=new_input[0][0]\n",
        "        return prediction,probability\n",
        "\n",
        "# create neural network   \n",
        "NN = NeuralNetwork(input, output)\n",
        "# train neural network\n",
        "NN.train()\n",
        "\n",
        "# create two new examples to predict                                   \n",
        "example = np.array([[0, 0, 1]])\n",
        "example_2 = np.array([[1, 1, 1]])\n",
        "example_3 = np.array([[1, 0, 1]])\n",
        "example_4 = np.array([[1, 0, 0]])\n",
        "\n",
        "# print the predictions for both examples                                   \n",
        "print(NN.predict(example), ' - Correct: ', example[0][0])\n",
        "print(NN.predict(example_2), ' - Correct: ', example_2[0][0])\n",
        "print(NN.predict(example_3), ' - Correct: ', example_3[0][0])\n",
        "print(NN.predict(example_4), ' - Correct: ', example_4[0][0])\n",
        "\n",
        "# plot the error over the entire training duration\n",
        "plt.figure(figsize=(15,5))\n",
        "plt.plot(NN.epoch_list, NN.error_history)\n",
        "plt.xlabel('Epoch')\n",
        "plt.ylabel('Error')\n",
        "plt.show()"
      ]
    },
    {
      "cell_type": "code",
      "execution_count": 33,
      "metadata": {
        "colab": {
          "base_uri": "https://localhost:8080/",
          "height": 402
        },
        "id": "uz4fUXEWdpij",
        "outputId": "fb9487a1-a51b-4639-d7d3-b837a3cf71ee"
      },
      "outputs": [
        {
          "name": "stdout",
          "output_type": "stream",
          "text": [
            "(0, array([[1.]]))  - Correct:  0\n",
            "(1, array([[1.]]))  - Correct:  1\n",
            "(1, array([[1.]]))  - Correct:  1\n",
            "(1, array([[1.]]))  - Correct:  1\n"
          ]
        },
        {
          "data": {
            "image/png": "[encoded data removed]",
            "text/plain": [
              "<Figure size 1080x360 with 1 Axes>"
            ]
          },
          "metadata": {
            "needs_background": "light"
          },
          "output_type": "display_data"
        }
      ],
      "source": [
        "# input data\n",
        "input = np.array(ColumnToArray_Input(df))\n",
        "\n",
        "# output data\n",
        "output = np.array(ColumnToArray_Output(df))\n",
        "\n",
        "# create NeuralNetwork class\n",
        "class NeuralNetwork:\n",
        "\n",
        "    # intialize variables in class\n",
        "    def __init__(self, input, output):\n",
        "        self.input  = input\n",
        "        self.output = output\n",
        "        \n",
        "        # initialize weights as .50 for simplicity\n",
        "        self.weights = np.array([[.50], [.50], [.50]])\n",
        "        self.error_history = []\n",
        "        self.epoch_list = []\n",
        "\n",
        "    #activation function ==> S(x) = e^/sum(e^x)\n",
        "    def softmax(self, x):\n",
        "      return np.exp(x)/np.sum(np.exp(x))\n",
        "\n",
        "    # data will flow through the neural network.\n",
        "    def feed_forward(self):\n",
        "        self.hidden = self.softmax(np.dot(self.input, self.weights))\n",
        "\n",
        "    # going backwards through the network to update weights\n",
        "    def backpropagation(self):\n",
        "        self.error  = self.output - self.hidden\n",
        "        delta = self.error * self.softmax(self.hidden)\n",
        "        self.weights += np.dot(self.input.T, delta)\n",
        "\n",
        "    # train the neural net for 25 iterations\n",
        "    def train(self, epochs=25):\n",
        "        for epoch in range(epochs):\n",
        "            # flow forward and produce an output\n",
        "            self.feed_forward()\n",
        "            # go back though the network to make corrections based on the output\n",
        "            self.backpropagation()    \n",
        "            # keep track of the error history over each epoch\n",
        "            self.error_history.append(np.average(np.abs(self.error)))\n",
        "            self.epoch_list.append(epoch)\n",
        "\n",
        "    # function to predict output on new and unseen input data                               \n",
        "    def predict(self, new_input):\n",
        "        probability = self.softmax(np.dot(new_input, self.weights))\n",
        "        if probability == 1.0:\n",
        "          prediction=new_input[0][0]\n",
        "        return prediction,probability\n",
        "\n",
        "# create neural network   \n",
        "NN = NeuralNetwork(input, output)\n",
        "# train neural network\n",
        "NN.train()\n",
        "\n",
        "# create two new examples to predict                                   \n",
        "example = np.array([[0, 0, 1]])\n",
        "example_2 = np.array([[1, 1, 1]])\n",
        "example_3 = np.array([[1, 0, 1]])\n",
        "example_4 = np.array([[1, 0, 0]])\n",
        "\n",
        "# print the predictions for both examples                                   \n",
        "print(NN.predict(example), ' - Correct: ', example[0][0])\n",
        "print(NN.predict(example_2), ' - Correct: ', example_2[0][0])\n",
        "print(NN.predict(example_3), ' - Correct: ', example_3[0][0])\n",
        "print(NN.predict(example_4), ' - Correct: ', example_4[0][0])\n",
        "\n",
        "# plot the error over the entire training duration\n",
        "plt.figure(figsize=(15,5))\n",
        "plt.plot(NN.epoch_list, NN.error_history)\n",
        "plt.xlabel('Epoch')\n",
        "plt.ylabel('Error')\n",
        "plt.show()"
      ]
    },
    {
      "cell_type": "code",
      "execution_count": 34,
      "metadata": {
        "colab": {
          "base_uri": "https://localhost:8080/",
          "height": 402
        },
        "id": "_d5JvOawdsnP",
        "outputId": "c92a0ca1-1ab2-4d2a-e733-9672ff53c7d2"
      },
      "outputs": [
        {
          "name": "stdout",
          "output_type": "stream",
          "text": [
            "(0, array([[1.]]))  - Correct:  0\n",
            "(1, array([[1.]]))  - Correct:  1\n",
            "(1, array([[1.]]))  - Correct:  1\n",
            "(1, array([[1.]]))  - Correct:  1\n"
          ]
        },
        {
          "data": {
            "image/png": "[encoded data removed]",
            "text/plain": [
              "<Figure size 1080x360 with 1 Axes>"
            ]
          },
          "metadata": {
            "needs_background": "light"
          },
          "output_type": "display_data"
        }
      ],
      "source": [
        "# input data\n",
        "input = np.array(ColumnToArray_Input(df))\n",
        "\n",
        "# output data\n",
        "output = np.array(ColumnToArray_Output(df))\n",
        "\n",
        "# create NeuralNetwork class\n",
        "class NeuralNetwork:\n",
        "\n",
        "    # intialize variables in class\n",
        "    def __init__(self, input, output):\n",
        "        self.input  = input\n",
        "        self.output = output\n",
        "        \n",
        "        # initialize weights as .50 for simplicity\n",
        "        self.weights = np.array([[.50], [.50], [.50]])\n",
        "        self.error_history = []\n",
        "        self.epoch_list = []\n",
        "\n",
        "    #activation function ==> S(x) = e^/sum(e^x)\n",
        "    def softmax(self, x):\n",
        "      return np.exp(x)/np.sum(np.exp(x))\n",
        "\n",
        "    # data will flow through the neural network.\n",
        "    def feed_forward(self):\n",
        "        self.hidden = self.softmax(np.dot(self.input, self.weights))\n",
        "\n",
        "    # going backwards through the network to update weights\n",
        "    def backpropagation(self):\n",
        "        self.error  = self.output - self.hidden\n",
        "        delta = self.error * self.softmax(self.hidden)\n",
        "        self.weights += np.dot(self.input.T, delta)\n",
        "\n",
        "    # train the neural net for 5 iterations\n",
        "    def train(self, epochs=5):\n",
        "        for epoch in range(epochs):\n",
        "            # flow forward and produce an output\n",
        "            self.feed_forward()\n",
        "            # go back though the network to make corrections based on the output\n",
        "            self.backpropagation()    \n",
        "            # keep track of the error history over each epoch\n",
        "            self.error_history.append(np.average(np.abs(self.error)))\n",
        "            self.epoch_list.append(epoch)\n",
        "\n",
        "    # function to predict output on new and unseen input data                               \n",
        "    def predict(self, new_input):\n",
        "        probability = self.softmax(np.dot(new_input, self.weights))\n",
        "        if probability == 1.0:\n",
        "          prediction=new_input[0][0]\n",
        "        return prediction,probability\n",
        "\n",
        "# create neural network   \n",
        "NN = NeuralNetwork(input, output)\n",
        "# train neural network\n",
        "NN.train()\n",
        "\n",
        "# create two new examples to predict                                   \n",
        "example = np.array([[0, 0, 1]])\n",
        "example_2 = np.array([[1, 1, 1]])\n",
        "example_3 = np.array([[1, 0, 1]])\n",
        "example_4 = np.array([[1, 0, 0]])\n",
        "\n",
        "# print the predictions for both examples                                   \n",
        "print(NN.predict(example), ' - Correct: ', example[0][0])\n",
        "print(NN.predict(example_2), ' - Correct: ', example_2[0][0])\n",
        "print(NN.predict(example_3), ' - Correct: ', example_3[0][0])\n",
        "print(NN.predict(example_4), ' - Correct: ', example_4[0][0])\n",
        "\n",
        "# plot the error over the entire training duration\n",
        "plt.figure(figsize=(15,5))\n",
        "plt.plot(NN.epoch_list, NN.error_history)\n",
        "plt.xlabel('Epoch')\n",
        "plt.ylabel('Error')\n",
        "plt.show()"
      ]
    },
    {
      "cell_type": "code",
      "execution_count": 35,
      "metadata": {
        "colab": {
          "base_uri": "https://localhost:8080/",
          "height": 402
        },
        "id": "0mZpB6kZdvPP",
        "outputId": "f0018bf1-4b86-483f-f2ab-921875c88ba6"
      },
      "outputs": [
        {
          "name": "stdout",
          "output_type": "stream",
          "text": [
            "(0, array([[1.]]))  - Correct:  0\n",
            "(1, array([[1.]]))  - Correct:  1\n",
            "(1, array([[1.]]))  - Correct:  1\n",
            "(1, array([[1.]]))  - Correct:  1\n"
          ]
        },
        {
          "data": {
            "image/png": "[encoded data removed]",
            "text/plain": [
              "<Figure size 1080x360 with 1 Axes>"
            ]
          },
          "metadata": {
            "needs_background": "light"
          },
          "output_type": "display_data"
        }
      ],
      "source": [
        "# input data\n",
        "input = np.array(ColumnToArray_Input(df))\n",
        "\n",
        "# output data\n",
        "output = np.array(ColumnToArray_Output(df))\n",
        "\n",
        "# create NeuralNetwork class\n",
        "class NeuralNetwork:\n",
        "\n",
        "    # intialize variables in class\n",
        "    def __init__(self, input, output):\n",
        "        self.input  = input\n",
        "        self.output = output\n",
        "        \n",
        "        # initialize weights as .50 for simplicity\n",
        "        self.weights = np.array([[.50], [.50], [.50]])\n",
        "        self.error_history = []\n",
        "        self.epoch_list = []\n",
        "\n",
        "    #activation function ==> S(x) = e^/sum(e^x)\n",
        "    def softmax(self, x):\n",
        "      return np.exp(x)/np.sum(np.exp(x))\n",
        "\n",
        "    # data will flow through the neural network.\n",
        "    def feed_forward(self):\n",
        "        self.hidden = self.softmax(np.dot(self.input, self.weights))\n",
        "\n",
        "    # going backwards through the network to update weights\n",
        "    def backpropagation(self):\n",
        "        self.error  = self.output - self.hidden\n",
        "        delta = self.error * self.softmax(self.hidden)\n",
        "        self.weights += np.dot(self.input.T, delta)\n",
        "\n",
        "    # train the neural net for 10 iterations\n",
        "    def train(self, epochs=10):\n",
        "        for epoch in range(epochs):\n",
        "            # flow forward and produce an output\n",
        "            self.feed_forward()\n",
        "            # go back though the network to make corrections based on the output\n",
        "            self.backpropagation()    \n",
        "            # keep track of the error history over each epoch\n",
        "            self.error_history.append(np.average(np.abs(self.error)))\n",
        "            self.epoch_list.append(epoch)\n",
        "\n",
        "    # function to predict output on new and unseen input data                               \n",
        "    def predict(self, new_input):\n",
        "        probability = self.softmax(np.dot(new_input, self.weights))\n",
        "        if probability == 1.0:\n",
        "          prediction=new_input[0][0]\n",
        "        return prediction,probability\n",
        "\n",
        "# create neural network   \n",
        "NN = NeuralNetwork(input, output)\n",
        "# train neural network\n",
        "NN.train()\n",
        "\n",
        "# create two new examples to predict                                   \n",
        "example = np.array([[0, 0, 1]])\n",
        "example_2 = np.array([[1, 1, 1]])\n",
        "example_3 = np.array([[1, 0, 1]])\n",
        "example_4 = np.array([[1, 0, 0]])\n",
        "\n",
        "# print the predictions for both examples                                   \n",
        "print(NN.predict(example), ' - Correct: ', example[0][0])\n",
        "print(NN.predict(example_2), ' - Correct: ', example_2[0][0])\n",
        "print(NN.predict(example_3), ' - Correct: ', example_3[0][0])\n",
        "print(NN.predict(example_4), ' - Correct: ', example_4[0][0])\n",
        "\n",
        "# plot the error over the entire training duration\n",
        "plt.figure(figsize=(15,5))\n",
        "plt.plot(NN.epoch_list, NN.error_history)\n",
        "plt.xlabel('Epoch')\n",
        "plt.ylabel('Error')\n",
        "plt.show()"
      ]
    },
    {
      "cell_type": "code",
      "execution_count": 36,
      "metadata": {
        "colab": {
          "base_uri": "https://localhost:8080/",
          "height": 402
        },
        "id": "MZ0KgG7GdzUD",
        "outputId": "16b41fcf-99c7-4f8f-ce9f-cdec2b998a44"
      },
      "outputs": [
        {
          "name": "stdout",
          "output_type": "stream",
          "text": [
            "(0, array([[1.]]))  - Correct:  0\n",
            "(1, array([[1.]]))  - Correct:  1\n",
            "(1, array([[1.]]))  - Correct:  1\n",
            "(1, array([[1.]]))  - Correct:  1\n"
          ]
        },
        {
          "data": {
            "image/png": "[encoded data removed]",
            "text/plain": [
              "<Figure size 1080x360 with 1 Axes>"
            ]
          },
          "metadata": {
            "needs_background": "light"
          },
          "output_type": "display_data"
        }
      ],
      "source": [
        "# input data\n",
        "input = np.array(ColumnToArray_Input(df))\n",
        "\n",
        "# output data\n",
        "output = np.array(ColumnToArray_Output(df))\n",
        "\n",
        "# create NeuralNetwork class\n",
        "class NeuralNetwork:\n",
        "\n",
        "    # intialize variables in class\n",
        "    def __init__(self, input, output):\n",
        "        self.input  = input\n",
        "        self.output = output\n",
        "        \n",
        "        # initialize weights as .50 for simplicity\n",
        "        self.weights = np.array([[.50], [.50], [.50]])\n",
        "        self.error_history = []\n",
        "        self.epoch_list = []\n",
        "\n",
        "    #activation function ==> S(x) = e^/sum(e^x)\n",
        "    def softmax(self, x):\n",
        "      return np.exp(x)/np.sum(np.exp(x))\n",
        "\n",
        "    # data will flow through the neural network.\n",
        "    def feed_forward(self):\n",
        "        self.hidden = self.softmax(np.dot(self.input, self.weights))\n",
        "\n",
        "    # going backwards through the network to update weights\n",
        "    def backpropagation(self):\n",
        "        self.error  = self.output - self.hidden\n",
        "        delta = self.error * self.softmax(self.hidden)\n",
        "        self.weights += np.dot(self.input.T, delta)\n",
        "\n",
        "    # train the neural net for 13 iterations\n",
        "    def train(self, epochs=13):\n",
        "        for epoch in range(epochs):\n",
        "            # flow forward and produce an output\n",
        "            self.feed_forward()\n",
        "            # go back though the network to make corrections based on the output\n",
        "            self.backpropagation()    \n",
        "            # keep track of the error history over each epoch\n",
        "            self.error_history.append(np.average(np.abs(self.error)))\n",
        "            self.epoch_list.append(epoch)\n",
        "\n",
        "    # function to predict output on new and unseen input data                               \n",
        "    def predict(self, new_input):\n",
        "        probability = self.softmax(np.dot(new_input, self.weights))\n",
        "        if probability == 1.0:\n",
        "          prediction=new_input[0][0]\n",
        "        return prediction,probability\n",
        "\n",
        "# create neural network   \n",
        "NN = NeuralNetwork(input, output)\n",
        "# train neural network\n",
        "NN.train()\n",
        "\n",
        "# create two new examples to predict                                   \n",
        "example = np.array([[0, 0, 1]])\n",
        "example_2 = np.array([[1, 1, 1]])\n",
        "example_3 = np.array([[1, 0, 1]])\n",
        "example_4 = np.array([[1, 0, 0]])\n",
        "\n",
        "# print the predictions for both examples                                   \n",
        "print(NN.predict(example), ' - Correct: ', example[0][0])\n",
        "print(NN.predict(example_2), ' - Correct: ', example_2[0][0])\n",
        "print(NN.predict(example_3), ' - Correct: ', example_3[0][0])\n",
        "print(NN.predict(example_4), ' - Correct: ', example_4[0][0])\n",
        "\n",
        "# plot the error over the entire training duration\n",
        "plt.figure(figsize=(15,5))\n",
        "plt.plot(NN.epoch_list, NN.error_history)\n",
        "plt.xlabel('Epoch')\n",
        "plt.ylabel('Error')\n",
        "plt.show()"
      ]
    },
    {
      "cell_type": "code",
      "execution_count": 37,
      "metadata": {
        "colab": {
          "base_uri": "https://localhost:8080/",
          "height": 402
        },
        "id": "sbLyq2cOd2jM",
        "outputId": "f6a55ba3-f10a-4ac5-d71f-db48e05843cd"
      },
      "outputs": [
        {
          "name": "stdout",
          "output_type": "stream",
          "text": [
            "(0, array([[1.]]))  - Correct:  0\n",
            "(1, array([[1.]]))  - Correct:  1\n",
            "(1, array([[1.]]))  - Correct:  1\n",
            "(1, array([[1.]]))  - Correct:  1\n"
          ]
        },
        {
          "data": {
            "image/png": "[encoded data removed]",
            "text/plain": [
              "<Figure size 1080x360 with 1 Axes>"
            ]
          },
          "metadata": {
            "needs_background": "light"
          },
          "output_type": "display_data"
        }
      ],
      "source": [
        "# input data\n",
        "input = np.array(ColumnToArray_Input(df))\n",
        "\n",
        "# output data\n",
        "output = np.array(ColumnToArray_Output(df))\n",
        "\n",
        "# create NeuralNetwork class\n",
        "class NeuralNetwork:\n",
        "\n",
        "    # intialize variables in class\n",
        "    def __init__(self, input, output):\n",
        "        self.input  = input\n",
        "        self.output = output\n",
        "        \n",
        "        # initialize weights as .50 for simplicity\n",
        "        self.weights = np.array([[.50], [.50], [.50]])\n",
        "        self.error_history = []\n",
        "        self.epoch_list = []\n",
        "\n",
        "    #activation function ==> S(x) = e^/sum(e^x)\n",
        "    def softmax(self, x):\n",
        "      return np.exp(x)/np.sum(np.exp(x))\n",
        "\n",
        "    # data will flow through the neural network.\n",
        "    def feed_forward(self):\n",
        "        self.hidden = self.softmax(np.dot(self.input, self.weights))\n",
        "\n",
        "    # going backwards through the network to update weights\n",
        "    def backpropagation(self):\n",
        "        self.error  = self.output - self.hidden\n",
        "        delta = self.error * self.softmax(self.hidden)\n",
        "        self.weights += np.dot(self.input.T, delta)\n",
        "\n",
        "    # train the neural net for 18 iterations\n",
        "    def train(self, epochs=18):\n",
        "        for epoch in range(epochs):\n",
        "            # flow forward and produce an output\n",
        "            self.feed_forward()\n",
        "            # go back though the network to make corrections based on the output\n",
        "            self.backpropagation()    \n",
        "            # keep track of the error history over each epoch\n",
        "            self.error_history.append(np.average(np.abs(self.error)))\n",
        "            self.epoch_list.append(epoch)\n",
        "\n",
        "    # function to predict output on new and unseen input data                               \n",
        "    def predict(self, new_input):\n",
        "        probability = self.softmax(np.dot(new_input, self.weights))\n",
        "        if probability == 1.0:\n",
        "          prediction=new_input[0][0]\n",
        "        return prediction,probability\n",
        "\n",
        "# create neural network   \n",
        "NN = NeuralNetwork(input, output)\n",
        "# train neural network\n",
        "NN.train()\n",
        "\n",
        "# create two new examples to predict                                   \n",
        "example = np.array([[0, 0, 1]])\n",
        "example_2 = np.array([[1, 1, 1]])\n",
        "example_3 = np.array([[1, 0, 1]])\n",
        "example_4 = np.array([[1, 0, 0]])\n",
        "\n",
        "# print the predictions for both examples                                   \n",
        "print(NN.predict(example), ' - Correct: ', example[0][0])\n",
        "print(NN.predict(example_2), ' - Correct: ', example_2[0][0])\n",
        "print(NN.predict(example_3), ' - Correct: ', example_3[0][0])\n",
        "print(NN.predict(example_4), ' - Correct: ', example_4[0][0])\n",
        "\n",
        "# plot the error over the entire training duration\n",
        "plt.figure(figsize=(15,5))\n",
        "plt.plot(NN.epoch_list, NN.error_history)\n",
        "plt.xlabel('Epoch')\n",
        "plt.ylabel('Error')\n",
        "plt.show()"
      ]
    },
    {
      "cell_type": "code",
      "execution_count": 38,
      "metadata": {
        "colab": {
          "base_uri": "https://localhost:8080/",
          "height": 402
        },
        "id": "MYZj9-BbeLWn",
        "outputId": "942e64f0-31db-4158-f97d-8dfbf1577d80"
      },
      "outputs": [
        {
          "name": "stdout",
          "output_type": "stream",
          "text": [
            "(0, array([[1.]]))  - Correct:  0\n",
            "(1, array([[1.]]))  - Correct:  1\n",
            "(1, array([[1.]]))  - Correct:  1\n",
            "(1, array([[1.]]))  - Correct:  1\n"
          ]
        },
        {
          "data": {
            "image/png": "[encoded data removed]",
            "text/plain": [
              "<Figure size 1080x360 with 1 Axes>"
            ]
          },
          "metadata": {
            "needs_background": "light"
          },
          "output_type": "display_data"
        }
      ],
      "source": [
        "# input data\n",
        "input = np.array(ColumnToArray_Input(df))\n",
        "\n",
        "# output data\n",
        "output = np.array(ColumnToArray_Output(df))\n",
        "\n",
        "# create NeuralNetwork class\n",
        "class NeuralNetwork:\n",
        "\n",
        "    # intialize variables in class\n",
        "    def __init__(self, input, output):\n",
        "        self.input  = input\n",
        "        self.output = output\n",
        "        \n",
        "        # initialize weights as .50 for simplicity\n",
        "        self.weights = np.array([[.50], [.50], [.50]])\n",
        "        self.error_history = []\n",
        "        self.epoch_list = []\n",
        "\n",
        "    #activation function ==> S(x) = e^/sum(e^x)\n",
        "    def softmax(self, x):\n",
        "      return np.exp(x)/np.sum(np.exp(x))\n",
        "\n",
        "    # data will flow through the neural network.\n",
        "    def feed_forward(self):\n",
        "        self.hidden = self.softmax(np.dot(self.input, self.weights))\n",
        "\n",
        "    # going backwards through the network to update weights\n",
        "    def backpropagation(self):\n",
        "        self.error  = self.output - self.hidden\n",
        "        delta = self.error * self.softmax(self.hidden)\n",
        "        self.weights += np.dot(self.input.T, delta)\n",
        "\n",
        "    # train the neural net for 20 iterations\n",
        "    def train(self, epochs=20):\n",
        "        for epoch in range(epochs):\n",
        "            # flow forward and produce an output\n",
        "            self.feed_forward()\n",
        "            # go back though the network to make corrections based on the output\n",
        "            self.backpropagation()    \n",
        "            # keep track of the error history over each epoch\n",
        "            self.error_history.append(np.average(np.abs(self.error)))\n",
        "            self.epoch_list.append(epoch)\n",
        "\n",
        "    # function to predict output on new and unseen input data                               \n",
        "    def predict(self, new_input):\n",
        "        probability = self.softmax(np.dot(new_input, self.weights))\n",
        "        if probability == 1.0:\n",
        "          prediction=new_input[0][0]\n",
        "        return prediction,probability\n",
        "\n",
        "# create neural network   \n",
        "NN = NeuralNetwork(input, output)\n",
        "# train neural network\n",
        "NN.train()\n",
        "\n",
        "# create two new examples to predict                                   \n",
        "example = np.array([[0, 0, 1]])\n",
        "example_2 = np.array([[1, 1, 1]])\n",
        "example_3 = np.array([[1, 0, 1]])\n",
        "example_4 = np.array([[1, 0, 0]])\n",
        "\n",
        "# print the predictions for both examples                                   \n",
        "print(NN.predict(example), ' - Correct: ', example[0][0])\n",
        "print(NN.predict(example_2), ' - Correct: ', example_2[0][0])\n",
        "print(NN.predict(example_3), ' - Correct: ', example_3[0][0])\n",
        "print(NN.predict(example_4), ' - Correct: ', example_4[0][0])\n",
        "\n",
        "# plot the error over the entire training duration\n",
        "plt.figure(figsize=(15,5))\n",
        "plt.plot(NN.epoch_list, NN.error_history)\n",
        "plt.xlabel('Epoch')\n",
        "plt.ylabel('Error')\n",
        "plt.show()"
      ]
    },
    {
      "cell_type": "code",
      "execution_count": 39,
      "metadata": {
        "colab": {
          "base_uri": "https://localhost:8080/",
          "height": 402
        },
        "id": "87XtBfWKeQ-2",
        "outputId": "ba96d28e-17e1-45ae-c66e-ddae70dfe001"
      },
      "outputs": [
        {
          "name": "stdout",
          "output_type": "stream",
          "text": [
            "(0, array([[1.]]))  - Correct:  0\n",
            "(1, array([[1.]]))  - Correct:  1\n",
            "(1, array([[1.]]))  - Correct:  1\n",
            "(1, array([[1.]]))  - Correct:  1\n"
          ]
        },
        {
          "data": {
            "image/png": "[encoded data removed]",
            "text/plain": [
              "<Figure size 1080x360 with 1 Axes>"
            ]
          },
          "metadata": {
            "needs_background": "light"
          },
          "output_type": "display_data"
        }
      ],
      "source": [
        "# input data\n",
        "input = np.array(ColumnToArray_Input(df))\n",
        "\n",
        "# output data\n",
        "output = np.array(ColumnToArray_Output(df))\n",
        "\n",
        "# create NeuralNetwork class\n",
        "class NeuralNetwork:\n",
        "\n",
        "    # intialize variables in class\n",
        "    def __init__(self, input, output):\n",
        "        self.input  = input\n",
        "        self.output = output\n",
        "        \n",
        "        # initialize weights as .50 for simplicity\n",
        "        self.weights = np.array([[.50], [.50], [.50]])\n",
        "        self.error_history = []\n",
        "        self.epoch_list = []\n",
        "\n",
        "    #activation function ==> S(x) = e^/sum(e^x)\n",
        "    def softmax(self, x):\n",
        "      return np.exp(x)/np.sum(np.exp(x))\n",
        "\n",
        "    # data will flow through the neural network.\n",
        "    def feed_forward(self):\n",
        "        self.hidden = self.softmax(np.dot(self.input, self.weights))\n",
        "\n",
        "    # going backwards through the network to update weights\n",
        "    def backpropagation(self):\n",
        "        self.error  = self.output - self.hidden\n",
        "        delta = self.error * self.softmax(self.hidden)\n",
        "        self.weights += np.dot(self.input.T, delta)\n",
        "\n",
        "    # train the neural net for 23 iterations\n",
        "    def train(self, epochs=23):\n",
        "        for epoch in range(epochs):\n",
        "            # flow forward and produce an output\n",
        "            self.feed_forward()\n",
        "            # go back though the network to make corrections based on the output\n",
        "            self.backpropagation()    \n",
        "            # keep track of the error history over each epoch\n",
        "            self.error_history.append(np.average(np.abs(self.error)))\n",
        "            self.epoch_list.append(epoch)\n",
        "\n",
        "    # function to predict output on new and unseen input data                               \n",
        "    def predict(self, new_input):\n",
        "        probability = self.softmax(np.dot(new_input, self.weights))\n",
        "        if probability == 1.0:\n",
        "          prediction=new_input[0][0]\n",
        "        return prediction,probability\n",
        "\n",
        "# create neural network   \n",
        "NN = NeuralNetwork(input, output)\n",
        "# train neural network\n",
        "NN.train()\n",
        "\n",
        "# create two new examples to predict                                   \n",
        "example = np.array([[0, 0, 1]])\n",
        "example_2 = np.array([[1, 1, 1]])\n",
        "example_3 = np.array([[1, 0, 1]])\n",
        "example_4 = np.array([[1, 0, 0]])\n",
        "\n",
        "# print the predictions for both examples                                   \n",
        "print(NN.predict(example), ' - Correct: ', example[0][0])\n",
        "print(NN.predict(example_2), ' - Correct: ', example_2[0][0])\n",
        "print(NN.predict(example_3), ' - Correct: ', example_3[0][0])\n",
        "print(NN.predict(example_4), ' - Correct: ', example_4[0][0])\n",
        "\n",
        "# plot the error over the entire training duration\n",
        "plt.figure(figsize=(15,5))\n",
        "plt.plot(NN.epoch_list, NN.error_history)\n",
        "plt.xlabel('Epoch')\n",
        "plt.ylabel('Error')\n",
        "plt.show()"
      ]
    },
    {
      "cell_type": "code",
      "execution_count": 40,
      "metadata": {
        "colab": {
          "base_uri": "https://localhost:8080/",
          "height": 402
        },
        "id": "eQkc_MCUeUvm",
        "outputId": "60644184-8a96-484c-a82c-25c14f207b9a"
      },
      "outputs": [
        {
          "name": "stdout",
          "output_type": "stream",
          "text": [
            "(0, array([[1.]]))  - Correct:  0\n",
            "(1, array([[1.]]))  - Correct:  1\n",
            "(1, array([[1.]]))  - Correct:  1\n",
            "(1, array([[1.]]))  - Correct:  1\n"
          ]
        },
        {
          "data": {
            "image/png": "[encoded data removed]",
            "text/plain": [
              "<Figure size 1080x360 with 1 Axes>"
            ]
          },
          "metadata": {
            "needs_background": "light"
          },
          "output_type": "display_data"
        }
      ],
      "source": [
        "# input data\n",
        "input = np.array(ColumnToArray_Input(df))\n",
        "\n",
        "# output data\n",
        "output = np.array(ColumnToArray_Output(df))\n",
        "\n",
        "# create NeuralNetwork class\n",
        "class NeuralNetwork:\n",
        "\n",
        "    # intialize variables in class\n",
        "    def __init__(self, input, output):\n",
        "        self.input  = input\n",
        "        self.output = output\n",
        "        \n",
        "        # initialize weights as .50 for simplicity\n",
        "        self.weights = np.array([[.50], [.50], [.50]])\n",
        "        self.error_history = []\n",
        "        self.epoch_list = []\n",
        "\n",
        "    #activation function ==> S(x) = e^/sum(e^x)\n",
        "    def softmax(self, x):\n",
        "      return np.exp(x)/np.sum(np.exp(x))\n",
        "\n",
        "    # data will flow through the neural network.\n",
        "    def feed_forward(self):\n",
        "        self.hidden = self.softmax(np.dot(self.input, self.weights))\n",
        "\n",
        "    # going backwards through the network to update weights\n",
        "    def backpropagation(self):\n",
        "        self.error  = self.output - self.hidden\n",
        "        delta = self.error * self.softmax(self.hidden)\n",
        "        self.weights += np.dot(self.input.T, delta)\n",
        "\n",
        "    # train the neural net for 28 iterations\n",
        "    def train(self, epochs=28):\n",
        "        for epoch in range(epochs):\n",
        "            # flow forward and produce an output\n",
        "            self.feed_forward()\n",
        "            # go back though the network to make corrections based on the output\n",
        "            self.backpropagation()    \n",
        "            # keep track of the error history over each epoch\n",
        "            self.error_history.append(np.average(np.abs(self.error)))\n",
        "            self.epoch_list.append(epoch)\n",
        "\n",
        "    # function to predict output on new and unseen input data                               \n",
        "    def predict(self, new_input):\n",
        "        probability = self.softmax(np.dot(new_input, self.weights))\n",
        "        if probability == 1.0:\n",
        "          prediction=new_input[0][0]\n",
        "        return prediction,probability\n",
        "\n",
        "# create neural network   \n",
        "NN = NeuralNetwork(input, output)\n",
        "# train neural network\n",
        "NN.train()\n",
        "\n",
        "# create two new examples to predict                                   \n",
        "example = np.array([[0, 0, 1]])\n",
        "example_2 = np.array([[1, 1, 1]])\n",
        "example_3 = np.array([[1, 0, 1]])\n",
        "example_4 = np.array([[1, 0, 0]])\n",
        "\n",
        "# print the predictions for both examples                                   \n",
        "print(NN.predict(example), ' - Correct: ', example[0][0])\n",
        "print(NN.predict(example_2), ' - Correct: ', example_2[0][0])\n",
        "print(NN.predict(example_3), ' - Correct: ', example_3[0][0])\n",
        "print(NN.predict(example_4), ' - Correct: ', example_4[0][0])\n",
        "\n",
        "# plot the error over the entire training duration\n",
        "plt.figure(figsize=(15,5))\n",
        "plt.plot(NN.epoch_list, NN.error_history)\n",
        "plt.xlabel('Epoch')\n",
        "plt.ylabel('Error')\n",
        "plt.show()"
      ]
    },
    {
      "cell_type": "code",
      "execution_count": 41,
      "metadata": {
        "colab": {
          "base_uri": "https://localhost:8080/",
          "height": 402
        },
        "id": "cw6Ax3ABeYKD",
        "outputId": "eb147fa7-8f51-4ef5-8dee-5d2f7a02d6a2"
      },
      "outputs": [
        {
          "name": "stdout",
          "output_type": "stream",
          "text": [
            "(0, array([[1.]]))  - Correct:  0\n",
            "(1, array([[1.]]))  - Correct:  1\n",
            "(1, array([[1.]]))  - Correct:  1\n",
            "(1, array([[1.]]))  - Correct:  1\n"
          ]
        },
        {
          "data": {
            "image/png": "[encoded data removed]",
            "text/plain": [
              "<Figure size 1080x360 with 1 Axes>"
            ]
          },
          "metadata": {
            "needs_background": "light"
          },
          "output_type": "display_data"
        }
      ],
      "source": [
        "# input data\n",
        "input = np.array(ColumnToArray_Input(df))\n",
        "\n",
        "# output data\n",
        "output = np.array(ColumnToArray_Output(df))\n",
        "\n",
        "# create NeuralNetwork class\n",
        "class NeuralNetwork:\n",
        "\n",
        "    # intialize variables in class\n",
        "    def __init__(self, input, output):\n",
        "        self.input  = input\n",
        "        self.output = output\n",
        "        \n",
        "        # initialize weights as .50 for simplicity\n",
        "        self.weights = np.array([[.50], [.50], [.50]])\n",
        "        self.error_history = []\n",
        "        self.epoch_list = []\n",
        "\n",
        "    #activation function ==> S(x) = e^/sum(e^x)\n",
        "    def softmax(self, x):\n",
        "      return np.exp(x)/np.sum(np.exp(x))\n",
        "\n",
        "    # data will flow through the neural network.\n",
        "    def feed_forward(self):\n",
        "        self.hidden = self.softmax(np.dot(self.input, self.weights))\n",
        "\n",
        "    # going backwards through the network to update weights\n",
        "    def backpropagation(self):\n",
        "        self.error  = self.output - self.hidden\n",
        "        delta = self.error * self.softmax(self.hidden)\n",
        "        self.weights += np.dot(self.input.T, delta)\n",
        "\n",
        "    # train the neural net for 30 iterations\n",
        "    def train(self, epochs=30):\n",
        "        for epoch in range(epochs):\n",
        "            # flow forward and produce an output\n",
        "            self.feed_forward()\n",
        "            # go back though the network to make corrections based on the output\n",
        "            self.backpropagation()    \n",
        "            # keep track of the error history over each epoch\n",
        "            self.error_history.append(np.average(np.abs(self.error)))\n",
        "            self.epoch_list.append(epoch)\n",
        "\n",
        "    # function to predict output on new and unseen input data                               \n",
        "    def predict(self, new_input):\n",
        "        probability = self.softmax(np.dot(new_input, self.weights))\n",
        "        if probability == 1.0:\n",
        "          prediction=new_input[0][0]\n",
        "        return prediction,probability\n",
        "\n",
        "# create neural network   \n",
        "NN = NeuralNetwork(input, output)\n",
        "# train neural network\n",
        "NN.train()\n",
        "\n",
        "# create two new examples to predict                                   \n",
        "example = np.array([[0, 0, 1]])\n",
        "example_2 = np.array([[1, 1, 1]])\n",
        "example_3 = np.array([[1, 0, 1]])\n",
        "example_4 = np.array([[1, 0, 0]])\n",
        "\n",
        "# print the predictions for both examples                                   \n",
        "print(NN.predict(example), ' - Correct: ', example[0][0])\n",
        "print(NN.predict(example_2), ' - Correct: ', example_2[0][0])\n",
        "print(NN.predict(example_3), ' - Correct: ', example_3[0][0])\n",
        "print(NN.predict(example_4), ' - Correct: ', example_4[0][0])\n",
        "\n",
        "# plot the error over the entire training duration\n",
        "plt.figure(figsize=(15,5))\n",
        "plt.plot(NN.epoch_list, NN.error_history)\n",
        "plt.xlabel('Epoch')\n",
        "plt.ylabel('Error')\n",
        "plt.show()"
      ]
    },
    {
      "cell_type": "code",
      "execution_count": 42,
      "metadata": {
        "colab": {
          "base_uri": "https://localhost:8080/",
          "height": 402
        },
        "id": "XWRyFikjecJF",
        "outputId": "7b59b0a4-1cdb-4c5b-f65a-01458de46fde"
      },
      "outputs": [
        {
          "name": "stdout",
          "output_type": "stream",
          "text": [
            "(0, array([[1.]]))  - Correct:  0\n",
            "(1, array([[1.]]))  - Correct:  1\n",
            "(1, array([[1.]]))  - Correct:  1\n",
            "(1, array([[1.]]))  - Correct:  1\n"
          ]
        },
        {
          "data": {
            "image/png": "[encoded data removed]",
            "text/plain": [
              "<Figure size 1080x360 with 1 Axes>"
            ]
          },
          "metadata": {
            "needs_background": "light"
          },
          "output_type": "display_data"
        }
      ],
      "source": [
        "# input data\n",
        "input = np.array(ColumnToArray_Input(df))\n",
        "\n",
        "# output data\n",
        "output = np.array(ColumnToArray_Output(df))\n",
        "\n",
        "# create NeuralNetwork class\n",
        "class NeuralNetwork:\n",
        "\n",
        "    # intialize variables in class\n",
        "    def __init__(self, input, output):\n",
        "        self.input  = input\n",
        "        self.output = output\n",
        "        \n",
        "        # initialize weights as .50 for simplicity\n",
        "        self.weights = np.array([[.50], [.50], [.50]])\n",
        "        self.error_history = []\n",
        "        self.epoch_list = []\n",
        "\n",
        "    #activation function ==> S(x) = e^/sum(e^x)\n",
        "    def softmax(self, x):\n",
        "      return np.exp(x)/np.sum(np.exp(x))\n",
        "\n",
        "    # data will flow through the neural network.\n",
        "    def feed_forward(self):\n",
        "        self.hidden = self.softmax(np.dot(self.input, self.weights))\n",
        "\n",
        "    # going backwards through the network to update weights\n",
        "    def backpropagation(self):\n",
        "        self.error  = self.output - self.hidden\n",
        "        delta = self.error * self.softmax(self.hidden)\n",
        "        self.weights += np.dot(self.input.T, delta)\n",
        "\n",
        "    # train the neural net for 38 iterations\n",
        "    def train(self, epochs=38):\n",
        "        for epoch in range(epochs):\n",
        "            # flow forward and produce an output\n",
        "            self.feed_forward()\n",
        "            # go back though the network to make corrections based on the output\n",
        "            self.backpropagation()    \n",
        "            # keep track of the error history over each epoch\n",
        "            self.error_history.append(np.average(np.abs(self.error)))\n",
        "            self.epoch_list.append(epoch)\n",
        "\n",
        "    # function to predict output on new and unseen input data                               \n",
        "    def predict(self, new_input):\n",
        "        probability = self.softmax(np.dot(new_input, self.weights))\n",
        "        if probability == 1.0:\n",
        "          prediction=new_input[0][0]\n",
        "        return prediction,probability\n",
        "\n",
        "# create neural network   \n",
        "NN = NeuralNetwork(input, output)\n",
        "# train neural network\n",
        "NN.train()\n",
        "\n",
        "# create two new examples to predict                                   \n",
        "example = np.array([[0, 0, 1]])\n",
        "example_2 = np.array([[1, 1, 1]])\n",
        "example_3 = np.array([[1, 0, 1]])\n",
        "example_4 = np.array([[1, 0, 0]])\n",
        "\n",
        "# print the predictions for both examples                                   \n",
        "print(NN.predict(example), ' - Correct: ', example[0][0])\n",
        "print(NN.predict(example_2), ' - Correct: ', example_2[0][0])\n",
        "print(NN.predict(example_3), ' - Correct: ', example_3[0][0])\n",
        "print(NN.predict(example_4), ' - Correct: ', example_4[0][0])\n",
        "\n",
        "# plot the error over the entire training duration\n",
        "plt.figure(figsize=(15,5))\n",
        "plt.plot(NN.epoch_list, NN.error_history)\n",
        "plt.xlabel('Epoch')\n",
        "plt.ylabel('Error')\n",
        "plt.show()"
      ]
    },
    {
      "cell_type": "code",
      "execution_count": null,
      "metadata": {
        "id": "9n5UNiRCd5nd"
      },
      "outputs": [],
      "source": []
    },
    {
      "cell_type": "code",
      "execution_count": 43,
      "metadata": {
        "colab": {
          "base_uri": "https://localhost:8080/",
          "height": 402
        },
        "id": "cGPYqqL1efS2",
        "outputId": "605200c7-6e7e-43aa-ecf1-9d3c55564d33"
      },
      "outputs": [
        {
          "name": "stdout",
          "output_type": "stream",
          "text": [
            "(0, array([[1.]]))  - Correct:  0\n",
            "(1, array([[1.]]))  - Correct:  1\n",
            "(1, array([[1.]]))  - Correct:  1\n",
            "(1, array([[1.]]))  - Correct:  1\n"
          ]
        },
        {
          "data": {
            "image/png": "[encoded data removed]",
            "text/plain": [
              "<Figure size 1080x360 with 1 Axes>"
            ]
          },
          "metadata": {
            "needs_background": "light"
          },
          "output_type": "display_data"
        }
      ],
      "source": [
        "# input data\n",
        "input = np.array(ColumnToArray_Input(df))\n",
        "\n",
        "# output data\n",
        "output = np.array(ColumnToArray_Output(df))\n",
        "\n",
        "# create NeuralNetwork class\n",
        "class NeuralNetwork:\n",
        "\n",
        "    # intialize variables in class\n",
        "    def __init__(self, input, output):\n",
        "        self.input  = input\n",
        "        self.output = output\n",
        "        \n",
        "        # initialize weights as .50 for simplicity\n",
        "        self.weights = np.array([[.50], [.50], [.50]])\n",
        "        self.error_history = []\n",
        "        self.epoch_list = []\n",
        "\n",
        "    #activation function ==> S(x) = e^/sum(e^x)\n",
        "    def softmax(self, x):\n",
        "      return np.exp(x)/np.sum(np.exp(x))\n",
        "\n",
        "    # data will flow through the neural network.\n",
        "    def feed_forward(self):\n",
        "        self.hidden = self.softmax(np.dot(self.input, self.weights))\n",
        "\n",
        "    # going backwards through the network to update weights\n",
        "    def backpropagation(self):\n",
        "        self.error  = self.output - self.hidden\n",
        "        delta = self.error * self.softmax(self.hidden)\n",
        "        self.weights += np.dot(self.input.T, delta)\n",
        "\n",
        "    # train the neural net for 68 iterations\n",
        "    def train(self, epochs=68):\n",
        "        for epoch in range(epochs):\n",
        "            # flow forward and produce an output\n",
        "            self.feed_forward()\n",
        "            # go back though the network to make corrections based on the output\n",
        "            self.backpropagation()    \n",
        "            # keep track of the error history over each epoch\n",
        "            self.error_history.append(np.average(np.abs(self.error)))\n",
        "            self.epoch_list.append(epoch)\n",
        "\n",
        "    # function to predict output on new and unseen input data                               \n",
        "    def predict(self, new_input):\n",
        "        probability = self.softmax(np.dot(new_input, self.weights))\n",
        "        if probability == 1.0:\n",
        "          prediction=new_input[0][0]\n",
        "        return prediction,probability\n",
        "\n",
        "# create neural network   \n",
        "NN = NeuralNetwork(input, output)\n",
        "# train neural network\n",
        "NN.train()\n",
        "\n",
        "# create two new examples to predict                                   \n",
        "example = np.array([[0, 0, 1]])\n",
        "example_2 = np.array([[1, 1, 1]])\n",
        "example_3 = np.array([[1, 0, 1]])\n",
        "example_4 = np.array([[1, 0, 0]])\n",
        "\n",
        "# print the predictions for both examples                                   \n",
        "print(NN.predict(example), ' - Correct: ', example[0][0])\n",
        "print(NN.predict(example_2), ' - Correct: ', example_2[0][0])\n",
        "print(NN.predict(example_3), ' - Correct: ', example_3[0][0])\n",
        "print(NN.predict(example_4), ' - Correct: ', example_4[0][0])\n",
        "\n",
        "# plot the error over the entire training duration\n",
        "plt.figure(figsize=(15,5))\n",
        "plt.plot(NN.epoch_list, NN.error_history)\n",
        "plt.xlabel('Epoch')\n",
        "plt.ylabel('Error')\n",
        "plt.show()"
      ]
    },
    {
      "cell_type": "code",
      "execution_count": 44,
      "metadata": {
        "colab": {
          "base_uri": "https://localhost:8080/",
          "height": 402
        },
        "id": "RNSnUsatei9N",
        "outputId": "dd54200e-2dd5-4862-fbf7-f6dc22c1844f"
      },
      "outputs": [
        {
          "name": "stdout",
          "output_type": "stream",
          "text": [
            "(0, array([[1.]]))  - Correct:  0\n",
            "(1, array([[1.]]))  - Correct:  1\n",
            "(1, array([[1.]]))  - Correct:  1\n",
            "(1, array([[1.]]))  - Correct:  1\n"
          ]
        },
        {
          "data": {
            "image/png": "[encoded data removed]",
            "text/plain": [
              "<Figure size 1080x360 with 1 Axes>"
            ]
          },
          "metadata": {
            "needs_background": "light"
          },
          "output_type": "display_data"
        }
      ],
      "source": [
        "# input data\n",
        "input = np.array(ColumnToArray_Input(df))\n",
        "\n",
        "# output data\n",
        "output = np.array(ColumnToArray_Output(df))\n",
        "\n",
        "# create NeuralNetwork class\n",
        "class NeuralNetwork:\n",
        "\n",
        "    # intialize variables in class\n",
        "    def __init__(self, input, output):\n",
        "        self.input  = input\n",
        "        self.output = output\n",
        "        \n",
        "        # initialize weights as .50 for simplicity\n",
        "        self.weights = np.array([[.50], [.50], [.50]])\n",
        "        self.error_history = []\n",
        "        self.epoch_list = []\n",
        "\n",
        "    #activation function ==> S(x) = e^/sum(e^x)\n",
        "    def softmax(self, x):\n",
        "      return np.exp(x)/np.sum(np.exp(x))\n",
        "\n",
        "    # data will flow through the neural network.\n",
        "    def feed_forward(self):\n",
        "        self.hidden = self.softmax(np.dot(self.input, self.weights))\n",
        "\n",
        "    # going backwards through the network to update weights\n",
        "    def backpropagation(self):\n",
        "        self.error  = self.output - self.hidden\n",
        "        delta = self.error * self.softmax(self.hidden)\n",
        "        self.weights += np.dot(self.input.T, delta)\n",
        "\n",
        "    # train the neural net for 78 iterations\n",
        "    def train(self, epochs=78):\n",
        "        for epoch in range(epochs):\n",
        "            # flow forward and produce an output\n",
        "            self.feed_forward()\n",
        "            # go back though the network to make corrections based on the output\n",
        "            self.backpropagation()    \n",
        "            # keep track of the error history over each epoch\n",
        "            self.error_history.append(np.average(np.abs(self.error)))\n",
        "            self.epoch_list.append(epoch)\n",
        "\n",
        "    # function to predict output on new and unseen input data                               \n",
        "    def predict(self, new_input):\n",
        "        probability = self.softmax(np.dot(new_input, self.weights))\n",
        "        if probability == 1.0:\n",
        "          prediction=new_input[0][0]\n",
        "        return prediction,probability\n",
        "\n",
        "# create neural network   \n",
        "NN = NeuralNetwork(input, output)\n",
        "# train neural network\n",
        "NN.train()\n",
        "\n",
        "# create two new examples to predict                                   \n",
        "example = np.array([[0, 0, 1]])\n",
        "example_2 = np.array([[1, 1, 1]])\n",
        "example_3 = np.array([[1, 0, 1]])\n",
        "example_4 = np.array([[1, 0, 0]])\n",
        "\n",
        "# print the predictions for both examples                                   \n",
        "print(NN.predict(example), ' - Correct: ', example[0][0])\n",
        "print(NN.predict(example_2), ' - Correct: ', example_2[0][0])\n",
        "print(NN.predict(example_3), ' - Correct: ', example_3[0][0])\n",
        "print(NN.predict(example_4), ' - Correct: ', example_4[0][0])\n",
        "\n",
        "# plot the error over the entire training duration\n",
        "plt.figure(figsize=(15,5))\n",
        "plt.plot(NN.epoch_list, NN.error_history)\n",
        "plt.xlabel('Epoch')\n",
        "plt.ylabel('Error')\n",
        "plt.show()"
      ]
    },
    {
      "cell_type": "code",
      "execution_count": 45,
      "metadata": {
        "colab": {
          "base_uri": "https://localhost:8080/",
          "height": 402
        },
        "id": "iG6MKCEbemw4",
        "outputId": "07e82b3b-44c5-4817-d4bd-acf310bb2e13"
      },
      "outputs": [
        {
          "name": "stdout",
          "output_type": "stream",
          "text": [
            "(0, array([[1.]]))  - Correct:  0\n",
            "(1, array([[1.]]))  - Correct:  1\n",
            "(1, array([[1.]]))  - Correct:  1\n",
            "(1, array([[1.]]))  - Correct:  1\n"
          ]
        },
        {
          "data": {
            "image/png": "[encoded data removed]",
            "text/plain": [
              "<Figure size 1080x360 with 1 Axes>"
            ]
          },
          "metadata": {
            "needs_background": "light"
          },
          "output_type": "display_data"
        }
      ],
      "source": [
        "# input data\n",
        "input = np.array(ColumnToArray_Input(df))\n",
        "\n",
        "# output data\n",
        "output = np.array(ColumnToArray_Output(df))\n",
        "\n",
        "# create NeuralNetwork class\n",
        "class NeuralNetwork:\n",
        "\n",
        "    # intialize variables in class\n",
        "    def __init__(self, input, output):\n",
        "        self.input  = input\n",
        "        self.output = output\n",
        "        \n",
        "        # initialize weights as .50 for simplicity\n",
        "        self.weights = np.array([[.50], [.50], [.50]])\n",
        "        self.error_history = []\n",
        "        self.epoch_list = []\n",
        "\n",
        "    #activation function ==> S(x) = e^/sum(e^x)\n",
        "    def softmax(self, x):\n",
        "      return np.exp(x)/np.sum(np.exp(x))\n",
        "\n",
        "    # data will flow through the neural network.\n",
        "    def feed_forward(self):\n",
        "        self.hidden = self.softmax(np.dot(self.input, self.weights))\n",
        "\n",
        "    # going backwards through the network to update weights\n",
        "    def backpropagation(self):\n",
        "        self.error  = self.output - self.hidden\n",
        "        delta = self.error * self.softmax(self.hidden)\n",
        "        self.weights += np.dot(self.input.T, delta)\n",
        "\n",
        "    # train the neural net for 90 iterations\n",
        "    def train(self, epochs=90):\n",
        "        for epoch in range(epochs):\n",
        "            # flow forward and produce an output\n",
        "            self.feed_forward()\n",
        "            # go back though the network to make corrections based on the output\n",
        "            self.backpropagation()    \n",
        "            # keep track of the error history over each epoch\n",
        "            self.error_history.append(np.average(np.abs(self.error)))\n",
        "            self.epoch_list.append(epoch)\n",
        "\n",
        "    # function to predict output on new and unseen input data                               \n",
        "    def predict(self, new_input):\n",
        "        probability = self.softmax(np.dot(new_input, self.weights))\n",
        "        if probability == 1.0:\n",
        "          prediction=new_input[0][0]\n",
        "        return prediction,probability\n",
        "\n",
        "# create neural network   \n",
        "NN = NeuralNetwork(input, output)\n",
        "# train neural network\n",
        "NN.train()\n",
        "\n",
        "# create two new examples to predict                                   \n",
        "example = np.array([[0, 0, 1]])\n",
        "example_2 = np.array([[1, 1, 1]])\n",
        "example_3 = np.array([[1, 0, 1]])\n",
        "example_4 = np.array([[1, 0, 0]])\n",
        "\n",
        "# print the predictions for both examples                                   \n",
        "print(NN.predict(example), ' - Correct: ', example[0][0])\n",
        "print(NN.predict(example_2), ' - Correct: ', example_2[0][0])\n",
        "print(NN.predict(example_3), ' - Correct: ', example_3[0][0])\n",
        "print(NN.predict(example_4), ' - Correct: ', example_4[0][0])\n",
        "\n",
        "# plot the error over the entire training duration\n",
        "plt.figure(figsize=(15,5))\n",
        "plt.plot(NN.epoch_list, NN.error_history)\n",
        "plt.xlabel('Epoch')\n",
        "plt.ylabel('Error')\n",
        "plt.show()"
      ]
    },
    {
      "cell_type": "code",
      "execution_count": 46,
      "metadata": {
        "colab": {
          "base_uri": "https://localhost:8080/",
          "height": 402
        },
        "id": "PdZv5-5DeprY",
        "outputId": "d57ac6ce-3147-418e-ac3e-ad1c64c3301f"
      },
      "outputs": [
        {
          "name": "stdout",
          "output_type": "stream",
          "text": [
            "(0, array([[1.]]))  - Correct:  0\n",
            "(1, array([[1.]]))  - Correct:  1\n",
            "(1, array([[1.]]))  - Correct:  1\n",
            "(1, array([[1.]]))  - Correct:  1\n"
          ]
        },
        {
          "data": {
            "image/png": "[encoded data removed]",
            "text/plain": [
              "<Figure size 1080x360 with 1 Axes>"
            ]
          },
          "metadata": {
            "needs_background": "light"
          },
          "output_type": "display_data"
        }
      ],
      "source": [
        "# input data\n",
        "input = np.array(ColumnToArray_Input(df))\n",
        "\n",
        "# output data\n",
        "output = np.array(ColumnToArray_Output(df))\n",
        "\n",
        "# create NeuralNetwork class\n",
        "class NeuralNetwork:\n",
        "\n",
        "    # intialize variables in class\n",
        "    def __init__(self, input, output):\n",
        "        self.input  = input\n",
        "        self.output = output\n",
        "        \n",
        "        # initialize weights as .50 for simplicity\n",
        "        self.weights = np.array([[.50], [.50], [.50]])\n",
        "        self.error_history = []\n",
        "        self.epoch_list = []\n",
        "\n",
        "    #activation function ==> S(x) = e^/sum(e^x)\n",
        "    def softmax(self, x):\n",
        "      return np.exp(x)/np.sum(np.exp(x))\n",
        "\n",
        "    # data will flow through the neural network.\n",
        "    def feed_forward(self):\n",
        "        self.hidden = self.softmax(np.dot(self.input, self.weights))\n",
        "\n",
        "    # going backwards through the network to update weights\n",
        "    def backpropagation(self):\n",
        "        self.error  = self.output - self.hidden\n",
        "        delta = self.error * self.softmax(self.hidden)\n",
        "        self.weights += np.dot(self.input.T, delta)\n",
        "\n",
        "    # train the neural net for 120 iterations\n",
        "    def train(self, epochs=120):\n",
        "        for epoch in range(epochs):\n",
        "            # flow forward and produce an output\n",
        "            self.feed_forward()\n",
        "            # go back though the network to make corrections based on the output\n",
        "            self.backpropagation()    \n",
        "            # keep track of the error history over each epoch\n",
        "            self.error_history.append(np.average(np.abs(self.error)))\n",
        "            self.epoch_list.append(epoch)\n",
        "\n",
        "    # function to predict output on new and unseen input data                               \n",
        "    def predict(self, new_input):\n",
        "        probability = self.softmax(np.dot(new_input, self.weights))\n",
        "        if probability == 1.0:\n",
        "          prediction=new_input[0][0]\n",
        "        return prediction,probability\n",
        "\n",
        "# create neural network   \n",
        "NN = NeuralNetwork(input, output)\n",
        "# train neural network\n",
        "NN.train()\n",
        "\n",
        "# create two new examples to predict                                   \n",
        "example = np.array([[0, 0, 1]])\n",
        "example_2 = np.array([[1, 1, 1]])\n",
        "example_3 = np.array([[1, 0, 1]])\n",
        "example_4 = np.array([[1, 0, 0]])\n",
        "\n",
        "# print the predictions for both examples                                   \n",
        "print(NN.predict(example), ' - Correct: ', example[0][0])\n",
        "print(NN.predict(example_2), ' - Correct: ', example_2[0][0])\n",
        "print(NN.predict(example_3), ' - Correct: ', example_3[0][0])\n",
        "print(NN.predict(example_4), ' - Correct: ', example_4[0][0])\n",
        "\n",
        "# plot the error over the entire training duration\n",
        "plt.figure(figsize=(15,5))\n",
        "plt.plot(NN.epoch_list, NN.error_history)\n",
        "plt.xlabel('Epoch')\n",
        "plt.ylabel('Error')\n",
        "plt.show()"
      ]
    },
    {
      "cell_type": "code",
      "execution_count": 47,
      "metadata": {
        "colab": {
          "base_uri": "https://localhost:8080/",
          "height": 402
        },
        "id": "51VVIOZaetU7",
        "outputId": "55fdf02d-8e3e-4328-ff1c-4ad6ea6941f5"
      },
      "outputs": [
        {
          "name": "stdout",
          "output_type": "stream",
          "text": [
            "(0, array([[1.]]))  - Correct:  0\n",
            "(1, array([[1.]]))  - Correct:  1\n",
            "(1, array([[1.]]))  - Correct:  1\n",
            "(1, array([[1.]]))  - Correct:  1\n"
          ]
        },
        {
          "data": {
            "image/png": "[encoded data removed]",
            "text/plain": [
              "<Figure size 1080x360 with 1 Axes>"
            ]
          },
          "metadata": {
            "needs_background": "light"
          },
          "output_type": "display_data"
        }
      ],
      "source": [
        "# input data\n",
        "input = np.array(ColumnToArray_Input(df))\n",
        "\n",
        "# output data\n",
        "output = np.array(ColumnToArray_Output(df))\n",
        "\n",
        "# create NeuralNetwork class\n",
        "class NeuralNetwork:\n",
        "\n",
        "    # intialize variables in class\n",
        "    def __init__(self, input, output):\n",
        "        self.input  = input\n",
        "        self.output = output\n",
        "        \n",
        "        # initialize weights as .50 for simplicity\n",
        "        self.weights = np.array([[.50], [.50], [.50]])\n",
        "        self.error_history = []\n",
        "        self.epoch_list = []\n",
        "\n",
        "    #activation function ==> S(x) = e^/sum(e^x)\n",
        "    def softmax(self, x):\n",
        "      return np.exp(x)/np.sum(np.exp(x))\n",
        "\n",
        "    # data will flow through the neural network.\n",
        "    def feed_forward(self):\n",
        "        self.hidden = self.softmax(np.dot(self.input, self.weights))\n",
        "\n",
        "    # going backwards through the network to update weights\n",
        "    def backpropagation(self):\n",
        "        self.error  = self.output - self.hidden\n",
        "        delta = self.error * self.softmax(self.hidden)\n",
        "        self.weights += np.dot(self.input.T, delta)\n",
        "\n",
        "    # train the neural net for 250 iterations\n",
        "    def train(self, epochs=250):\n",
        "        for epoch in range(epochs):\n",
        "            # flow forward and produce an output\n",
        "            self.feed_forward()\n",
        "            # go back though the network to make corrections based on the output\n",
        "            self.backpropagation()    \n",
        "            # keep track of the error history over each epoch\n",
        "            self.error_history.append(np.average(np.abs(self.error)))\n",
        "            self.epoch_list.append(epoch)\n",
        "\n",
        "    # function to predict output on new and unseen input data                               \n",
        "    def predict(self, new_input):\n",
        "        probability = self.softmax(np.dot(new_input, self.weights))\n",
        "        if probability == 1.0:\n",
        "          prediction=new_input[0][0]\n",
        "        return prediction,probability\n",
        "\n",
        "# create neural network   \n",
        "NN = NeuralNetwork(input, output)\n",
        "# train neural network\n",
        "NN.train()\n",
        "\n",
        "# create two new examples to predict                                   \n",
        "example = np.array([[0, 0, 1]])\n",
        "example_2 = np.array([[1, 1, 1]])\n",
        "example_3 = np.array([[1, 0, 1]])\n",
        "example_4 = np.array([[1, 0, 0]])\n",
        "\n",
        "# print the predictions for both examples                                   \n",
        "print(NN.predict(example), ' - Correct: ', example[0][0])\n",
        "print(NN.predict(example_2), ' - Correct: ', example_2[0][0])\n",
        "print(NN.predict(example_3), ' - Correct: ', example_3[0][0])\n",
        "print(NN.predict(example_4), ' - Correct: ', example_4[0][0])\n",
        "\n",
        "# plot the error over the entire training duration\n",
        "plt.figure(figsize=(15,5))\n",
        "plt.plot(NN.epoch_list, NN.error_history)\n",
        "plt.xlabel('Epoch')\n",
        "plt.ylabel('Error')\n",
        "plt.show()"
      ]
    },
    {
      "cell_type": "code",
      "execution_count": 49,
      "metadata": {
        "colab": {
          "base_uri": "https://localhost:8080/",
          "height": 402
        },
        "id": "tJi4IQ8BewSm",
        "outputId": "ae7e327d-7dca-4aee-b207-e6ed90046bcb"
      },
      "outputs": [
        {
          "name": "stdout",
          "output_type": "stream",
          "text": [
            "(0, array([[1.]]))  - Correct:  0\n",
            "(1, array([[1.]]))  - Correct:  1\n",
            "(1, array([[1.]]))  - Correct:  1\n",
            "(1, array([[1.]]))  - Correct:  1\n"
          ]
        },
        {
          "data": {
            "image/png": "[encoded data removed]",
            "text/plain": [
              "<Figure size 1080x360 with 1 Axes>"
            ]
          },
          "metadata": {
            "needs_background": "light"
          },
          "output_type": "display_data"
        }
      ],
      "source": [
        "# input data\n",
        "input = np.array(ColumnToArray_Input(df))\n",
        "\n",
        "# output data\n",
        "output = np.array(ColumnToArray_Output(df))\n",
        "\n",
        "# create NeuralNetwork class\n",
        "class NeuralNetwork:\n",
        "\n",
        "    # intialize variables in class\n",
        "    def __init__(self, input, output):\n",
        "        self.input  = input\n",
        "        self.output = output\n",
        "        \n",
        "        # initialize weights as .50 for simplicity\n",
        "        self.weights = np.array([[.50], [.50], [.50]])\n",
        "        self.error_history = []\n",
        "        self.epoch_list = []\n",
        "\n",
        "    #activation function ==> S(x) = e^/sum(e^x)\n",
        "    def softmax(self, x):\n",
        "      return np.exp(x)/np.sum(np.exp(x))\n",
        "\n",
        "    # data will flow through the neural network.\n",
        "    def feed_forward(self):\n",
        "        self.hidden = self.softmax(np.dot(self.input, self.weights))\n",
        "\n",
        "    # going backwards through the network to update weights\n",
        "    def backpropagation(self):\n",
        "        self.error  = self.output - self.hidden\n",
        "        delta = self.error * self.softmax(self.hidden)\n",
        "        self.weights += np.dot(self.input.T, delta)\n",
        "\n",
        "    # train the neural net for 1200 iterations\n",
        "    def train(self, epochs=1200):\n",
        "        for epoch in range(epochs):\n",
        "            # flow forward and produce an output\n",
        "            self.feed_forward()\n",
        "            # go back though the network to make corrections based on the output\n",
        "            self.backpropagation()    \n",
        "            # keep track of the error history over each epoch\n",
        "            self.error_history.append(np.average(np.abs(self.error)))\n",
        "            self.epoch_list.append(epoch)\n",
        "\n",
        "    # function to predict output on new and unseen input data                               \n",
        "    def predict(self, new_input):\n",
        "        probability = self.softmax(np.dot(new_input, self.weights))\n",
        "        if probability == 1.0:\n",
        "          prediction=new_input[0][0]\n",
        "        return prediction,probability\n",
        "\n",
        "# create neural network   \n",
        "NN = NeuralNetwork(input, output)\n",
        "# train neural network\n",
        "NN.train()\n",
        "\n",
        "# create two new examples to predict                                   \n",
        "example = np.array([[0, 0, 1]])\n",
        "example_2 = np.array([[1, 1, 1]])\n",
        "example_3 = np.array([[1, 0, 1]])\n",
        "example_4 = np.array([[1, 0, 0]])\n",
        "\n",
        "# print the predictions for both examples                                   \n",
        "print(NN.predict(example), ' - Correct: ', example[0][0])\n",
        "print(NN.predict(example_2), ' - Correct: ', example_2[0][0])\n",
        "print(NN.predict(example_3), ' - Correct: ', example_3[0][0])\n",
        "print(NN.predict(example_4), ' - Correct: ', example_4[0][0])\n",
        "\n",
        "# plot the error over the entire training duration\n",
        "plt.figure(figsize=(15,5))\n",
        "plt.plot(NN.epoch_list, NN.error_history)\n",
        "plt.xlabel('Epoch')\n",
        "plt.ylabel('Error')\n",
        "plt.show()"
      ]
    },
    {
      "cell_type": "code",
      "execution_count": 50,
      "metadata": {
        "colab": {
          "base_uri": "https://localhost:8080/",
          "height": 402
        },
        "id": "u0GUW6q_e5yJ",
        "outputId": "1e95936f-49b1-4b9e-d68d-2cb4f4e129fa"
      },
      "outputs": [
        {
          "name": "stdout",
          "output_type": "stream",
          "text": [
            "(0, array([[1.]]))  - Correct:  0\n",
            "(1, array([[1.]]))  - Correct:  1\n",
            "(1, array([[1.]]))  - Correct:  1\n",
            "(1, array([[1.]]))  - Correct:  1\n"
          ]
        },
        {
          "data": {
            "image/png": "[encoded data removed]",
            "text/plain": [
              "<Figure size 1080x360 with 1 Axes>"
            ]
          },
          "metadata": {
            "needs_background": "light"
          },
          "output_type": "display_data"
        }
      ],
      "source": [
        "# input data\n",
        "input = np.array(ColumnToArray_Input(df))\n",
        "\n",
        "# output data\n",
        "output = np.array(ColumnToArray_Output(df))\n",
        "\n",
        "# create NeuralNetwork class\n",
        "class NeuralNetwork:\n",
        "\n",
        "    # intialize variables in class\n",
        "    def __init__(self, input, output):\n",
        "        self.input  = input\n",
        "        self.output = output\n",
        "        \n",
        "        # initialize weights as .50 for simplicity\n",
        "        self.weights = np.array([[.50], [.50], [.50]])\n",
        "        self.error_history = []\n",
        "        self.epoch_list = []\n",
        "\n",
        "    #activation function ==> S(x) = e^/sum(e^x)\n",
        "    def softmax(self, x):\n",
        "      return np.exp(x)/np.sum(np.exp(x))\n",
        "\n",
        "    # data will flow through the neural network.\n",
        "    def feed_forward(self):\n",
        "        self.hidden = self.softmax(np.dot(self.input, self.weights))\n",
        "\n",
        "    # going backwards through the network to update weights\n",
        "    def backpropagation(self):\n",
        "        self.error  = self.output - self.hidden\n",
        "        delta = self.error * self.softmax(self.hidden)\n",
        "        self.weights += np.dot(self.input.T, delta)\n",
        "\n",
        "    # train the neural net for 1500 iterations\n",
        "    def train(self, epochs=1500):\n",
        "        for epoch in range(epochs):\n",
        "            # flow forward and produce an output\n",
        "            self.feed_forward()\n",
        "            # go back though the network to make corrections based on the output\n",
        "            self.backpropagation()    \n",
        "            # keep track of the error history over each epoch\n",
        "            self.error_history.append(np.average(np.abs(self.error)))\n",
        "            self.epoch_list.append(epoch)\n",
        "\n",
        "    # function to predict output on new and unseen input data                               \n",
        "    def predict(self, new_input):\n",
        "        probability = self.softmax(np.dot(new_input, self.weights))\n",
        "        if probability == 1.0:\n",
        "          prediction=new_input[0][0]\n",
        "        return prediction,probability\n",
        "\n",
        "# create neural network   \n",
        "NN = NeuralNetwork(input, output)\n",
        "# train neural network\n",
        "NN.train()\n",
        "\n",
        "# create two new examples to predict                                   \n",
        "example = np.array([[0, 0, 1]])\n",
        "example_2 = np.array([[1, 1, 1]])\n",
        "example_3 = np.array([[1, 0, 1]])\n",
        "example_4 = np.array([[1, 0, 0]])\n",
        "\n",
        "# print the predictions for both examples                                   \n",
        "print(NN.predict(example), ' - Correct: ', example[0][0])\n",
        "print(NN.predict(example_2), ' - Correct: ', example_2[0][0])\n",
        "print(NN.predict(example_3), ' - Correct: ', example_3[0][0])\n",
        "print(NN.predict(example_4), ' - Correct: ', example_4[0][0])\n",
        "\n",
        "# plot the error over the entire training duration\n",
        "plt.figure(figsize=(15,5))\n",
        "plt.plot(NN.epoch_list, NN.error_history)\n",
        "plt.xlabel('Epoch')\n",
        "plt.ylabel('Error')\n",
        "plt.show()"
      ]
    },
    {
      "cell_type": "code",
      "execution_count": 51,
      "metadata": {
        "colab": {
          "base_uri": "https://localhost:8080/",
          "height": 402
        },
        "id": "P5I1D8pYe9uc",
        "outputId": "f11142bc-14a0-4fa4-943a-8ba910873283"
      },
      "outputs": [
        {
          "name": "stdout",
          "output_type": "stream",
          "text": [
            "(0, array([[1.]]))  - Correct:  0\n",
            "(1, array([[1.]]))  - Correct:  1\n",
            "(1, array([[1.]]))  - Correct:  1\n",
            "(1, array([[1.]]))  - Correct:  1\n"
          ]
        },
        {
          "data": {
            "image/png": "[encoded data removed]",
            "text/plain": [
              "<Figure size 1080x360 with 1 Axes>"
            ]
          },
          "metadata": {
            "needs_background": "light"
          },
          "output_type": "display_data"
        }
      ],
      "source": [
        "# input data\n",
        "input = np.array(ColumnToArray_Input(df))\n",
        "\n",
        "# output data\n",
        "output = np.array(ColumnToArray_Output(df))\n",
        "\n",
        "# create NeuralNetwork class\n",
        "class NeuralNetwork:\n",
        "\n",
        "    # intialize variables in class\n",
        "    def __init__(self, input, output):\n",
        "        self.input  = input\n",
        "        self.output = output\n",
        "        \n",
        "        # initialize weights as .50 for simplicity\n",
        "        self.weights = np.array([[.50], [.50], [.50]])\n",
        "        self.error_history = []\n",
        "        self.epoch_list = []\n",
        "\n",
        "    #activation function ==> S(x) = e^/sum(e^x)\n",
        "    def softmax(self, x):\n",
        "      return np.exp(x)/np.sum(np.exp(x))\n",
        "\n",
        "    # data will flow through the neural network.\n",
        "    def feed_forward(self):\n",
        "        self.hidden = self.softmax(np.dot(self.input, self.weights))\n",
        "\n",
        "    # going backwards through the network to update weights\n",
        "    def backpropagation(self):\n",
        "        self.error  = self.output - self.hidden\n",
        "        delta = self.error * self.softmax(self.hidden)\n",
        "        self.weights += np.dot(self.input.T, delta)\n",
        "\n",
        "    # train the neural net for 1800 iterations\n",
        "    def train(self, epochs=1800):\n",
        "        for epoch in range(epochs):\n",
        "            # flow forward and produce an output\n",
        "            self.feed_forward()\n",
        "            # go back though the network to make corrections based on the output\n",
        "            self.backpropagation()    \n",
        "            # keep track of the error history over each epoch\n",
        "            self.error_history.append(np.average(np.abs(self.error)))\n",
        "            self.epoch_list.append(epoch)\n",
        "\n",
        "    # function to predict output on new and unseen input data                               \n",
        "    def predict(self, new_input):\n",
        "        probability = self.softmax(np.dot(new_input, self.weights))\n",
        "        if probability == 1.0:\n",
        "          prediction=new_input[0][0]\n",
        "        return prediction,probability\n",
        "\n",
        "# create neural network   \n",
        "NN = NeuralNetwork(input, output)\n",
        "# train neural network\n",
        "NN.train()\n",
        "\n",
        "# create two new examples to predict                                   \n",
        "example = np.array([[0, 0, 1]])\n",
        "example_2 = np.array([[1, 1, 1]])\n",
        "example_3 = np.array([[1, 0, 1]])\n",
        "example_4 = np.array([[1, 0, 0]])\n",
        "\n",
        "# print the predictions for both examples                                   \n",
        "print(NN.predict(example), ' - Correct: ', example[0][0])\n",
        "print(NN.predict(example_2), ' - Correct: ', example_2[0][0])\n",
        "print(NN.predict(example_3), ' - Correct: ', example_3[0][0])\n",
        "print(NN.predict(example_4), ' - Correct: ', example_4[0][0])\n",
        "\n",
        "# plot the error over the entire training duration\n",
        "plt.figure(figsize=(15,5))\n",
        "plt.plot(NN.epoch_list, NN.error_history)\n",
        "plt.xlabel('Epoch')\n",
        "plt.ylabel('Error')\n",
        "plt.show()"
      ]
    },
    {
      "cell_type": "code",
      "execution_count": 52,
      "metadata": {
        "colab": {
          "base_uri": "https://localhost:8080/",
          "height": 402
        },
        "id": "eITOQwABfBWE",
        "outputId": "12fd690e-406f-4af3-b932-f6c0dee8a2ad"
      },
      "outputs": [
        {
          "name": "stdout",
          "output_type": "stream",
          "text": [
            "(0, array([[1.]]))  - Correct:  0\n",
            "(1, array([[1.]]))  - Correct:  1\n",
            "(1, array([[1.]]))  - Correct:  1\n",
            "(1, array([[1.]]))  - Correct:  1\n"
          ]
        },
        {
          "data": {
            "image/png": "[encoded data removed]",
            "text/plain": [
              "<Figure size 1080x360 with 1 Axes>"
            ]
          },
          "metadata": {
            "needs_background": "light"
          },
          "output_type": "display_data"
        }
      ],
      "source": [
        "# input data\n",
        "input = np.array(ColumnToArray_Input(df))\n",
        "\n",
        "# output data\n",
        "output = np.array(ColumnToArray_Output(df))\n",
        "\n",
        "# create NeuralNetwork class\n",
        "class NeuralNetwork:\n",
        "\n",
        "    # intialize variables in class\n",
        "    def __init__(self, input, output):\n",
        "        self.input  = input\n",
        "        self.output = output\n",
        "        \n",
        "        # initialize weights as .50 for simplicity\n",
        "        self.weights = np.array([[.50], [.50], [.50]])\n",
        "        self.error_history = []\n",
        "        self.epoch_list = []\n",
        "\n",
        "    #activation function ==> S(x) = e^/sum(e^x)\n",
        "    def softmax(self, x):\n",
        "      return np.exp(x)/np.sum(np.exp(x))\n",
        "\n",
        "    # data will flow through the neural network.\n",
        "    def feed_forward(self):\n",
        "        self.hidden = self.softmax(np.dot(self.input, self.weights))\n",
        "\n",
        "    # going backwards through the network to update weights\n",
        "    def backpropagation(self):\n",
        "        self.error  = self.output - self.hidden\n",
        "        delta = self.error * self.softmax(self.hidden)\n",
        "        self.weights += np.dot(self.input.T, delta)\n",
        "\n",
        "    # train the neural net for 2200 iterations\n",
        "    def train(self, epochs=2200):\n",
        "        for epoch in range(epochs):\n",
        "            # flow forward and produce an output\n",
        "            self.feed_forward()\n",
        "            # go back though the network to make corrections based on the output\n",
        "            self.backpropagation()    \n",
        "            # keep track of the error history over each epoch\n",
        "            self.error_history.append(np.average(np.abs(self.error)))\n",
        "            self.epoch_list.append(epoch)\n",
        "\n",
        "    # function to predict output on new and unseen input data                               \n",
        "    def predict(self, new_input):\n",
        "        probability = self.softmax(np.dot(new_input, self.weights))\n",
        "        if probability == 1.0:\n",
        "          prediction=new_input[0][0]\n",
        "        return prediction,probability\n",
        "\n",
        "# create neural network   \n",
        "NN = NeuralNetwork(input, output)\n",
        "# train neural network\n",
        "NN.train()\n",
        "\n",
        "# create two new examples to predict                                   \n",
        "example = np.array([[0, 0, 1]])\n",
        "example_2 = np.array([[1, 1, 1]])\n",
        "example_3 = np.array([[1, 0, 1]])\n",
        "example_4 = np.array([[1, 0, 0]])\n",
        "\n",
        "# print the predictions for both examples                                   \n",
        "print(NN.predict(example), ' - Correct: ', example[0][0])\n",
        "print(NN.predict(example_2), ' - Correct: ', example_2[0][0])\n",
        "print(NN.predict(example_3), ' - Correct: ', example_3[0][0])\n",
        "print(NN.predict(example_4), ' - Correct: ', example_4[0][0])\n",
        "\n",
        "# plot the error over the entire training duration\n",
        "plt.figure(figsize=(15,5))\n",
        "plt.plot(NN.epoch_list, NN.error_history)\n",
        "plt.xlabel('Epoch')\n",
        "plt.ylabel('Error')\n",
        "plt.show()"
      ]
    },
    {
      "cell_type": "code",
      "execution_count": 53,
      "metadata": {
        "colab": {
          "base_uri": "https://localhost:8080/",
          "height": 402
        },
        "id": "HwWu0f_cfFKP",
        "outputId": "c329d0fd-8c0f-4d17-ce82-e46b17c29dce"
      },
      "outputs": [
        {
          "name": "stdout",
          "output_type": "stream",
          "text": [
            "(0, array([[1.]]))  - Correct:  0\n",
            "(1, array([[1.]]))  - Correct:  1\n",
            "(1, array([[1.]]))  - Correct:  1\n",
            "(1, array([[1.]]))  - Correct:  1\n"
          ]
        },
        {
          "data": {
            "image/png": "[encoded data removed]",
            "text/plain": [
              "<Figure size 1080x360 with 1 Axes>"
            ]
          },
          "metadata": {
            "needs_background": "light"
          },
          "output_type": "display_data"
        }
      ],
      "source": [
        "# input data\n",
        "input = np.array(ColumnToArray_Input(df))\n",
        "\n",
        "# output data\n",
        "output = np.array(ColumnToArray_Output(df))\n",
        "\n",
        "# create NeuralNetwork class\n",
        "class NeuralNetwork:\n",
        "\n",
        "    # intialize variables in class\n",
        "    def __init__(self, input, output):\n",
        "        self.input  = input\n",
        "        self.output = output\n",
        "        \n",
        "        # initialize weights as .50 for simplicity\n",
        "        self.weights = np.array([[.50], [.50], [.50]])\n",
        "        self.error_history = []\n",
        "        self.epoch_list = []\n",
        "\n",
        "    #activation function ==> S(x) = e^/sum(e^x)\n",
        "    def softmax(self, x):\n",
        "      return np.exp(x)/np.sum(np.exp(x))\n",
        "\n",
        "    # data will flow through the neural network.\n",
        "    def feed_forward(self):\n",
        "        self.hidden = self.softmax(np.dot(self.input, self.weights))\n",
        "\n",
        "    # going backwards through the network to update weights\n",
        "    def backpropagation(self):\n",
        "        self.error  = self.output - self.hidden\n",
        "        delta = self.error * self.softmax(self.hidden)\n",
        "        self.weights += np.dot(self.input.T, delta)\n",
        "\n",
        "    # train the neural net for 2500 iterations\n",
        "    def train(self, epochs=2500):\n",
        "        for epoch in range(epochs):\n",
        "            # flow forward and produce an output\n",
        "            self.feed_forward()\n",
        "            # go back though the network to make corrections based on the output\n",
        "            self.backpropagation()    \n",
        "            # keep track of the error history over each epoch\n",
        "            self.error_history.append(np.average(np.abs(self.error)))\n",
        "            self.epoch_list.append(epoch)\n",
        "\n",
        "    # function to predict output on new and unseen input data                               \n",
        "    def predict(self, new_input):\n",
        "        probability = self.softmax(np.dot(new_input, self.weights))\n",
        "        if probability == 1.0:\n",
        "          prediction=new_input[0][0]\n",
        "        return prediction,probability\n",
        "\n",
        "# create neural network   \n",
        "NN = NeuralNetwork(input, output)\n",
        "# train neural network\n",
        "NN.train()\n",
        "\n",
        "# create two new examples to predict                                   \n",
        "example = np.array([[0, 0, 1]])\n",
        "example_2 = np.array([[1, 1, 1]])\n",
        "example_3 = np.array([[1, 0, 1]])\n",
        "example_4 = np.array([[1, 0, 0]])\n",
        "\n",
        "# print the predictions for both examples                                   \n",
        "print(NN.predict(example), ' - Correct: ', example[0][0])\n",
        "print(NN.predict(example_2), ' - Correct: ', example_2[0][0])\n",
        "print(NN.predict(example_3), ' - Correct: ', example_3[0][0])\n",
        "print(NN.predict(example_4), ' - Correct: ', example_4[0][0])\n",
        "\n",
        "# plot the error over the entire training duration\n",
        "plt.figure(figsize=(15,5))\n",
        "plt.plot(NN.epoch_list, NN.error_history)\n",
        "plt.xlabel('Epoch')\n",
        "plt.ylabel('Error')\n",
        "plt.show()"
      ]
    },
    {
      "cell_type": "code",
      "execution_count": 54,
      "metadata": {
        "colab": {
          "base_uri": "https://localhost:8080/",
          "height": 402
        },
        "id": "s-U0N9rZf2Tp",
        "outputId": "3da74f7f-e15f-46a7-b821-bd06144d93d1"
      },
      "outputs": [
        {
          "name": "stdout",
          "output_type": "stream",
          "text": [
            "(0, array([[1.]]))  - Correct:  0\n",
            "(1, array([[1.]]))  - Correct:  1\n",
            "(1, array([[1.]]))  - Correct:  1\n",
            "(1, array([[1.]]))  - Correct:  1\n"
          ]
        },
        {
          "data": {
            "image/png": "[encoded data removed]",
            "text/plain": [
              "<Figure size 1080x360 with 1 Axes>"
            ]
          },
          "metadata": {
            "needs_background": "light"
          },
          "output_type": "display_data"
        }
      ],
      "source": [
        "# input data\n",
        "input = np.array(ColumnToArray_Input(df))\n",
        "\n",
        "# output data\n",
        "output = np.array(ColumnToArray_Output(df))\n",
        "\n",
        "# create NeuralNetwork class\n",
        "class NeuralNetwork:\n",
        "\n",
        "    # intialize variables in class\n",
        "    def __init__(self, input, output):\n",
        "        self.input  = input\n",
        "        self.output = output\n",
        "        \n",
        "        # initialize weights as .50 for simplicity\n",
        "        self.weights = np.array([[.50], [.50], [.50]])\n",
        "        self.error_history = []\n",
        "        self.epoch_list = []\n",
        "\n",
        "    #activation function ==> S(x) = e^/sum(e^x)\n",
        "    def softmax(self, x):\n",
        "      return np.exp(x)/np.sum(np.exp(x))\n",
        "\n",
        "    # data will flow through the neural network.\n",
        "    def feed_forward(self):\n",
        "        self.hidden = self.softmax(np.dot(self.input, self.weights))\n",
        "\n",
        "    # going backwards through the network to update weights\n",
        "    def backpropagation(self):\n",
        "        self.error  = self.output - self.hidden\n",
        "        delta = self.error * self.softmax(self.hidden)\n",
        "        self.weights += np.dot(self.input.T, delta)\n",
        "\n",
        "    # train the neural net for 2800 iterations\n",
        "    def train(self, epochs=2800):\n",
        "        for epoch in range(epochs):\n",
        "            # flow forward and produce an output\n",
        "            self.feed_forward()\n",
        "            # go back though the network to make corrections based on the output\n",
        "            self.backpropagation()    \n",
        "            # keep track of the error history over each epoch\n",
        "            self.error_history.append(np.average(np.abs(self.error)))\n",
        "            self.epoch_list.append(epoch)\n",
        "\n",
        "    # function to predict output on new and unseen input data                               \n",
        "    def predict(self, new_input):\n",
        "        probability = self.softmax(np.dot(new_input, self.weights))\n",
        "        if probability == 1.0:\n",
        "          prediction=new_input[0][0]\n",
        "        return prediction,probability\n",
        "\n",
        "# create neural network   \n",
        "NN = NeuralNetwork(input, output)\n",
        "# train neural network\n",
        "NN.train()\n",
        "\n",
        "# create two new examples to predict                                   \n",
        "example = np.array([[0, 0, 1]])\n",
        "example_2 = np.array([[1, 1, 1]])\n",
        "example_3 = np.array([[1, 0, 1]])\n",
        "example_4 = np.array([[1, 0, 0]])\n",
        "\n",
        "# print the predictions for both examples                                   \n",
        "print(NN.predict(example), ' - Correct: ', example[0][0])\n",
        "print(NN.predict(example_2), ' - Correct: ', example_2[0][0])\n",
        "print(NN.predict(example_3), ' - Correct: ', example_3[0][0])\n",
        "print(NN.predict(example_4), ' - Correct: ', example_4[0][0])\n",
        "\n",
        "# plot the error over the entire training duration\n",
        "plt.figure(figsize=(15,5))\n",
        "plt.plot(NN.epoch_list, NN.error_history)\n",
        "plt.xlabel('Epoch')\n",
        "plt.ylabel('Error')\n",
        "plt.show()"
      ]
    },
    {
      "cell_type": "code",
      "execution_count": 55,
      "metadata": {
        "colab": {
          "base_uri": "https://localhost:8080/",
          "height": 402
        },
        "id": "FeUJpkUTf-2A",
        "outputId": "587bdad1-e161-4986-8685-e42480687f34"
      },
      "outputs": [
        {
          "name": "stdout",
          "output_type": "stream",
          "text": [
            "(0, array([[1.]]))  - Correct:  0\n",
            "(1, array([[1.]]))  - Correct:  1\n",
            "(1, array([[1.]]))  - Correct:  1\n",
            "(1, array([[1.]]))  - Correct:  1\n"
          ]
        },
        {
          "data": {
            "image/png": "[encoded data removed]",
            "text/plain": [
              "<Figure size 1080x360 with 1 Axes>"
            ]
          },
          "metadata": {
            "needs_background": "light"
          },
          "output_type": "display_data"
        }
      ],
      "source": [
        "# input data\n",
        "input = np.array(ColumnToArray_Input(df))\n",
        "\n",
        "# output data\n",
        "output = np.array(ColumnToArray_Output(df))\n",
        "\n",
        "# create NeuralNetwork class\n",
        "class NeuralNetwork:\n",
        "\n",
        "    # intialize variables in class\n",
        "    def __init__(self, input, output):\n",
        "        self.input  = input\n",
        "        self.output = output\n",
        "        \n",
        "        # initialize weights as .50 for simplicity\n",
        "        self.weights = np.array([[.50], [.50], [.50]])\n",
        "        self.error_history = []\n",
        "        self.epoch_list = []\n",
        "\n",
        "    #activation function ==> S(x) = e^/sum(e^x)\n",
        "    def softmax(self, x):\n",
        "      return np.exp(x)/np.sum(np.exp(x))\n",
        "\n",
        "    # data will flow through the neural network.\n",
        "    def feed_forward(self):\n",
        "        self.hidden = self.softmax(np.dot(self.input, self.weights))\n",
        "\n",
        "    # going backwards through the network to update weights\n",
        "    def backpropagation(self):\n",
        "        self.error  = self.output - self.hidden\n",
        "        delta = self.error * self.softmax(self.hidden)\n",
        "        self.weights += np.dot(self.input.T, delta)\n",
        "\n",
        "    # train the neural net for 3200 iterations\n",
        "    def train(self, epochs=3200):\n",
        "        for epoch in range(epochs):\n",
        "            # flow forward and produce an output\n",
        "            self.feed_forward()\n",
        "            # go back though the network to make corrections based on the output\n",
        "            self.backpropagation()    \n",
        "            # keep track of the error history over each epoch\n",
        "            self.error_history.append(np.average(np.abs(self.error)))\n",
        "            self.epoch_list.append(epoch)\n",
        "\n",
        "    # function to predict output on new and unseen input data                               \n",
        "    def predict(self, new_input):\n",
        "        probability = self.softmax(np.dot(new_input, self.weights))\n",
        "        if probability == 1.0:\n",
        "          prediction=new_input[0][0]\n",
        "        return prediction,probability\n",
        "\n",
        "# create neural network   \n",
        "NN = NeuralNetwork(input, output)\n",
        "# train neural network\n",
        "NN.train()\n",
        "\n",
        "# create two new examples to predict                                   \n",
        "example = np.array([[0, 0, 1]])\n",
        "example_2 = np.array([[1, 1, 1]])\n",
        "example_3 = np.array([[1, 0, 1]])\n",
        "example_4 = np.array([[1, 0, 0]])\n",
        "\n",
        "# print the predictions for both examples                                   \n",
        "print(NN.predict(example), ' - Correct: ', example[0][0])\n",
        "print(NN.predict(example_2), ' - Correct: ', example_2[0][0])\n",
        "print(NN.predict(example_3), ' - Correct: ', example_3[0][0])\n",
        "print(NN.predict(example_4), ' - Correct: ', example_4[0][0])\n",
        "\n",
        "# plot the error over the entire training duration\n",
        "plt.figure(figsize=(15,5))\n",
        "plt.plot(NN.epoch_list, NN.error_history)\n",
        "plt.xlabel('Epoch')\n",
        "plt.ylabel('Error')\n",
        "plt.show()"
      ]
    },
    {
      "cell_type": "code",
      "execution_count": 56,
      "metadata": {
        "colab": {
          "base_uri": "https://localhost:8080/",
          "height": 402
        },
        "id": "meAFAQyqgDJg",
        "outputId": "4f8d8e5d-6a69-4521-a6ec-4bf2a304f3bd"
      },
      "outputs": [
        {
          "name": "stdout",
          "output_type": "stream",
          "text": [
            "(0, array([[1.]]))  - Correct:  0\n",
            "(1, array([[1.]]))  - Correct:  1\n",
            "(1, array([[1.]]))  - Correct:  1\n",
            "(1, array([[1.]]))  - Correct:  1\n"
          ]
        },
        {
          "data": {
            "image/png": "[encoded data removed]",
            "text/plain": [
              "<Figure size 1080x360 with 1 Axes>"
            ]
          },
          "metadata": {
            "needs_background": "light"
          },
          "output_type": "display_data"
        }
      ],
      "source": [
        "# input data\n",
        "input = np.array(ColumnToArray_Input(df))\n",
        "\n",
        "# output data\n",
        "output = np.array(ColumnToArray_Output(df))\n",
        "\n",
        "# create NeuralNetwork class\n",
        "class NeuralNetwork:\n",
        "\n",
        "    # intialize variables in class\n",
        "    def __init__(self, input, output):\n",
        "        self.input  = input\n",
        "        self.output = output\n",
        "        \n",
        "        # initialize weights as .50 for simplicity\n",
        "        self.weights = np.array([[.50], [.50], [.50]])\n",
        "        self.error_history = []\n",
        "        self.epoch_list = []\n",
        "\n",
        "    #activation function ==> S(x) = e^/sum(e^x)\n",
        "    def softmax(self, x):\n",
        "      return np.exp(x)/np.sum(np.exp(x))\n",
        "\n",
        "    # data will flow through the neural network.\n",
        "    def feed_forward(self):\n",
        "        self.hidden = self.softmax(np.dot(self.input, self.weights))\n",
        "\n",
        "    # going backwards through the network to update weights\n",
        "    def backpropagation(self):\n",
        "        self.error  = self.output - self.hidden\n",
        "        delta = self.error * self.softmax(self.hidden)\n",
        "        self.weights += np.dot(self.input.T, delta)\n",
        "\n",
        "    # train the neural net for 3800 iterations\n",
        "    def train(self, epochs=3800):\n",
        "        for epoch in range(epochs):\n",
        "            # flow forward and produce an output\n",
        "            self.feed_forward()\n",
        "            # go back though the network to make corrections based on the output\n",
        "            self.backpropagation()    \n",
        "            # keep track of the error history over each epoch\n",
        "            self.error_history.append(np.average(np.abs(self.error)))\n",
        "            self.epoch_list.append(epoch)\n",
        "\n",
        "    # function to predict output on new and unseen input data                               \n",
        "    def predict(self, new_input):\n",
        "        probability = self.softmax(np.dot(new_input, self.weights))\n",
        "        if probability == 1.0:\n",
        "          prediction=new_input[0][0]\n",
        "        return prediction,probability\n",
        "\n",
        "# create neural network   \n",
        "NN = NeuralNetwork(input, output)\n",
        "# train neural network\n",
        "NN.train()\n",
        "\n",
        "# create two new examples to predict                                   \n",
        "example = np.array([[0, 0, 1]])\n",
        "example_2 = np.array([[1, 1, 1]])\n",
        "example_3 = np.array([[1, 0, 1]])\n",
        "example_4 = np.array([[1, 0, 0]])\n",
        "\n",
        "# print the predictions for both examples                                   \n",
        "print(NN.predict(example), ' - Correct: ', example[0][0])\n",
        "print(NN.predict(example_2), ' - Correct: ', example_2[0][0])\n",
        "print(NN.predict(example_3), ' - Correct: ', example_3[0][0])\n",
        "print(NN.predict(example_4), ' - Correct: ', example_4[0][0])\n",
        "\n",
        "# plot the error over the entire training duration\n",
        "plt.figure(figsize=(15,5))\n",
        "plt.plot(NN.epoch_list, NN.error_history)\n",
        "plt.xlabel('Epoch')\n",
        "plt.ylabel('Error')\n",
        "plt.show()"
      ]
    },
    {
      "cell_type": "code",
      "execution_count": 59,
      "metadata": {
        "colab": {
          "base_uri": "https://localhost:8080/",
          "height": 402
        },
        "id": "MgQ-KX7ggH0D",
        "outputId": "56eb6d5a-af0c-4837-cdbc-57b05afd8eb2"
      },
      "outputs": [
        {
          "name": "stdout",
          "output_type": "stream",
          "text": [
            "(0, array([[1.]]))  - Correct:  0\n",
            "(1, array([[1.]]))  - Correct:  1\n",
            "(1, array([[1.]]))  - Correct:  1\n",
            "(1, array([[1.]]))  - Correct:  1\n"
          ]
        },
        {
          "data": {
            "image/png": "[encoded data removed]",
            "text/plain": [
              "<Figure size 1080x360 with 1 Axes>"
            ]
          },
          "metadata": {
            "needs_background": "light"
          },
          "output_type": "display_data"
        }
      ],
      "source": [
        "# input data\n",
        "input = np.array(ColumnToArray_Input(df))\n",
        "\n",
        "# output data\n",
        "output = np.array(ColumnToArray_Output(df))\n",
        "\n",
        "# create NeuralNetwork class\n",
        "class NeuralNetwork:\n",
        "\n",
        "    # intialize variables in class\n",
        "    def __init__(self, input, output):\n",
        "        self.input  = input\n",
        "        self.output = output\n",
        "        \n",
        "        # initialize weights as .50 for simplicity\n",
        "        self.weights = np.array([[.50], [.50], [.50]])\n",
        "        self.error_history = []\n",
        "        self.epoch_list = []\n",
        "\n",
        "    #activation function ==> S(x) = e^/sum(e^x)\n",
        "    def softmax(self, x):\n",
        "      return np.exp(x)/np.sum(np.exp(x))\n",
        "\n",
        "    # data will flow through the neural network.\n",
        "    def feed_forward(self):\n",
        "        self.hidden = self.softmax(np.dot(self.input, self.weights))\n",
        "\n",
        "    # going backwards through the network to update weights\n",
        "    def backpropagation(self):\n",
        "        self.error  = self.output - self.hidden\n",
        "        delta = self.error * self.softmax(self.hidden)\n",
        "        self.weights += np.dot(self.input.T, delta)\n",
        "\n",
        "    # train the neural net for 3900 iterations\n",
        "    def train(self, epochs=3900):\n",
        "        for epoch in range(epochs):\n",
        "            # flow forward and produce an output\n",
        "            self.feed_forward()\n",
        "            # go back though the network to make corrections based on the output\n",
        "            self.backpropagation()    \n",
        "            # keep track of the error history over each epoch\n",
        "            self.error_history.append(np.average(np.abs(self.error)))\n",
        "            self.epoch_list.append(epoch)\n",
        "\n",
        "    # function to predict output on new and unseen input data                               \n",
        "    def predict(self, new_input):\n",
        "        probability = self.softmax(np.dot(new_input, self.weights))\n",
        "        if probability == 1.0:\n",
        "          prediction=new_input[0][0]\n",
        "        return prediction,probability\n",
        "\n",
        "# create neural network   \n",
        "NN = NeuralNetwork(input, output)\n",
        "# train neural network\n",
        "NN.train()\n",
        "\n",
        "# create two new examples to predict                                   \n",
        "example = np.array([[0, 0, 1]])\n",
        "example_2 = np.array([[1, 1, 1]])\n",
        "example_3 = np.array([[1, 0, 1]])\n",
        "example_4 = np.array([[1, 0, 0]])\n",
        "\n",
        "# print the predictions for both examples                                   \n",
        "print(NN.predict(example), ' - Correct: ', example[0][0])\n",
        "print(NN.predict(example_2), ' - Correct: ', example_2[0][0])\n",
        "print(NN.predict(example_3), ' - Correct: ', example_3[0][0])\n",
        "print(NN.predict(example_4), ' - Correct: ', example_4[0][0])\n",
        "\n",
        "# plot the error over the entire training duration\n",
        "plt.figure(figsize=(15,5))\n",
        "plt.plot(NN.epoch_list, NN.error_history)\n",
        "plt.xlabel('Epoch')\n",
        "plt.ylabel('Error')\n",
        "plt.show()"
      ]
    },
    {
      "cell_type": "markdown",
      "metadata": {},
      "source": [
        "# Feedback from Professor Sanchez\n",
        "\n",
        "PLEASE (and specially with Capstone part 3 coming up) make sure you work in those visualizations, covered in lecture:\n",
        "- Add title\n",
        "- Improve scales, specially when working in something where you are being asked for 95% or greater performance and if you use 10% increments, then it's harder to determine your results visually. \n",
        "- This submission was so unnecesarily long and with practically no documentation. The whole purpose of using notebooks is to combine code, tests, results and documenation, leverage this for clarity !"
      ]
    },
    {
      "cell_type": "markdown",
      "metadata": {},
      "source": []
    }
  ],
  "metadata": {
    "colab": {
      "collapsed_sections": [],
      "name": "sharma_week5.ipynb",
      "provenance": []
    },
    "kernelspec": {
      "display_name": "Python 3",
      "name": "python3"
    },
    "language_info": {
      "name": "python"
    }
  },
  "nbformat": 4,
  "nbformat_minor": 0
}
