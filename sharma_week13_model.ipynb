{
  "nbformat": 4,
  "nbformat_minor": 0,
  "metadata": {
    "colab": {
      "name": "sharma_week13_model.ipynb",
      "provenance": [],
      "collapsed_sections": []
    },
    "kernelspec": {
      "name": "python3",
      "display_name": "Python 3"
    },
    "language_info": {
      "name": "python"
    }
  },
  "cells": [
    {
      "cell_type": "markdown",
      "metadata": {
        "id": "XsiYBcPWUsEZ"
      },
      "source": [
        "Show the code and architecture of your ML\n"
      ]
    },
    {
      "cell_type": "code",
      "metadata": {
        "id": "2NFD52icr4hz"
      },
      "source": [
        "# Vectorizing training data. \n",
        "tfidf = TfidfVectorizer() \n",
        "X = tfidf.fit_transform(df['Text'])\n",
        "Y = df['Target']\n",
        "## Applying Tf-Idf vectorizer on the Text column."
      ],
      "execution_count": null,
      "outputs": []
    },
    {
      "cell_type": "code",
      "metadata": {
        "colab": {
          "base_uri": "https://localhost:8080/"
        },
        "id": "RvLxZ-AJr7U2",
        "outputId": "252e657a-aa42-4669-b0ab-f30d0b771253"
      },
      "source": [
        "X_train,X_test,Y_train,Y_test=train_test_split(X,Y,test_size=0.2,random_state=40)\n",
        "print(X_train.shape,X_test.shape,Y_train.shape,Y_test.shape)\n",
        "### Splitting the dataset."
      ],
      "execution_count": null,
      "outputs": [
        {
          "output_type": "stream",
          "name": "stdout",
          "text": [
            "(3346, 17617) (837, 17617) (3346,) (837,)\n"
          ]
        }
      ]
    },
    {
      "cell_type": "markdown",
      "metadata": {
        "id": "u0LaAfDSVTos"
      },
      "source": [
        "Logistic Regression is used when the dependent variable(target) is categorical."
      ]
    },
    {
      "cell_type": "code",
      "metadata": {
        "colab": {
          "base_uri": "https://localhost:8080/"
        },
        "id": "7J6QF87Vr-CF",
        "outputId": "982b543a-af43-4820-b890-cb8aa2d2104b"
      },
      "source": [
        "log_reg = LogisticRegression().fit(X_train, Y_train)\n",
        "\n",
        "#predict on train \n",
        "train_preds = log_reg.predict(X_train)\n",
        "#accuracy on train\n",
        "print(\"Model accuracy on train is: \", accuracy_score(Y_train, train_preds))\n",
        "\n",
        "#predict on test\n",
        "test_preds = log_reg.predict(X_test)\n",
        "#accuracy on test\n",
        "print(\"Model accuracy on test is: \", accuracy_score(Y_test, test_preds))"
      ],
      "execution_count": null,
      "outputs": [
        {
          "output_type": "stream",
          "name": "stdout",
          "text": [
            "Model accuracy on train is:  0.9485953377166766\n",
            "Model accuracy on test is:  0.929510155316607\n"
          ]
        }
      ]
    },
    {
      "cell_type": "code",
      "metadata": {
        "id": "GR6eDdBPsAMg"
      },
      "source": [
        "from sklearn.tree import DecisionTreeClassifier\n",
        "from sklearn.ensemble import RandomForestClassifier\n",
        "from sklearn.neighbors import KNeighborsClassifier\n",
        "from sklearn.svm import SVC\n",
        "from sklearn import metrics\n",
        "from sklearn.metrics import accuracy_score, auc, confusion_matrix, roc_auc_score, roc_curve, recall_score"
      ],
      "execution_count": null,
      "outputs": []
    },
    {
      "cell_type": "markdown",
      "metadata": {
        "id": "cHgMzdR8WAgR"
      },
      "source": [
        "A Decision Tree is a Supervised Machine Learning Algorithm that uses a set of rules to make decisions, similar to how humans make decisions."
      ]
    },
    {
      "cell_type": "code",
      "metadata": {
        "id": "H8vLlMZasDAJ"
      },
      "source": [
        "DT = DecisionTreeClassifier().fit(X,Y)"
      ],
      "execution_count": null,
      "outputs": []
    },
    {
      "cell_type": "code",
      "metadata": {
        "colab": {
          "base_uri": "https://localhost:8080/"
        },
        "id": "itV6Yp0GsEny",
        "outputId": "de48d188-6604-4e1f-f9e8-763a82929245"
      },
      "source": [
        "#predict on train \n",
        "train_preds2 = DT.predict(X_train)\n",
        "#accuracy on train\n",
        "print(\"Model accuracy on train is: \", accuracy_score(Y_train, train_preds2))\n",
        "\n",
        "#predict on test\n",
        "test_preds2 = DT.predict(X_test)\n",
        "#accuracy on test\n",
        "print(\"Model accuracy on test is: \", accuracy_score(Y_test, test_preds2))\n",
        "print('-'*50)\n",
        "\n",
        "#Confusion matrix\n",
        "print(\"confusion_matrix train is: \", confusion_matrix(Y_train, train_preds2))\n",
        "print(\"confusion_matrix test is: \", confusion_matrix(Y_test, test_preds2))\n",
        "print('Wrong predictions out of total')\n",
        "print('-'*50)\n",
        "\n",
        "# Wrong Predictions made.\n",
        "print((Y_test !=test_preds2).sum(),'/',((Y_test == test_preds2).sum()+(Y_test != test_preds2).sum()))\n",
        "print('-'*50)\n",
        "\n",
        "# Kappa Score\n",
        "print('KappaScore is: ', metrics.cohen_kappa_score(Y_test,test_preds2))"
      ],
      "execution_count": null,
      "outputs": [
        {
          "output_type": "stream",
          "name": "stdout",
          "text": [
            "Model accuracy on train is:  1.0\n",
            "Model accuracy on test is:  1.0\n",
            "--------------------------------------------------\n",
            "confusion_matrix train is:  [[1813    0    0]\n",
            " [   0  407    0]\n",
            " [   0    0 1126]]\n",
            "confusion_matrix test is:  [[504   0   0]\n",
            " [  0  84   0]\n",
            " [  0   0 249]]\n",
            "Wrong predictions out of total\n",
            "--------------------------------------------------\n",
            "0 / 837\n",
            "--------------------------------------------------\n",
            "KappaScore is:  1.0\n"
          ]
        }
      ]
    },
    {
      "cell_type": "markdown",
      "metadata": {
        "id": "n6xFnOjqWYOh"
      },
      "source": [
        "Random forests are supervised learning algorithms. It can be used both for classification and regression. It is also the most flexible and easy-to-use algorithm. A forest is comprised of trees. It is said that the more trees it has, the more robust a forest is. Random forests create decision trees on randomly selected data samples, get a prediction from each tree, and set the best solution using voting. It also provides a pretty good indicator of the feature importance."
      ]
    },
    {
      "cell_type": "code",
      "metadata": {
        "colab": {
          "base_uri": "https://localhost:8080/"
        },
        "id": "0yT0bxZ8sIQ0",
        "outputId": "86857746-6770-465e-a4b0-c344ebe6e15e"
      },
      "source": [
        "#fit the model on train data \n",
        "RF=RandomForestClassifier().fit(X_train,Y_train)\n",
        "#predict on train \n",
        "train_preds3 = RF.predict(X_train)\n",
        "#accuracy on train\n",
        "print(\"Model accuracy on train is: \", accuracy_score(Y_train, train_preds3))\n",
        "\n",
        "#predict on test\n",
        "test_preds3 = RF.predict(X_test)\n",
        "#accuracy on test\n",
        "print(\"Model accuracy on test is: \", accuracy_score(Y_test, test_preds3))\n",
        "print('-'*50)\n",
        "\n",
        "#Confusion matrix\n",
        "print(\"confusion_matrix train is: \", confusion_matrix(Y_train, train_preds3))\n",
        "print(\"confusion_matrix test is: \", confusion_matrix(Y_test, test_preds3))\n",
        "print('Wrong predictions out of total')\n",
        "print('-'*50)\n",
        "\n",
        "# Wrong Predictions made.\n",
        "print((Y_test !=test_preds3).sum(),'/',((Y_test == test_preds3).sum()+(Y_test != test_preds3).sum()))\n",
        "print('-'*50)"
      ],
      "execution_count": null,
      "outputs": [
        {
          "output_type": "stream",
          "name": "stdout",
          "text": [
            "Model accuracy on train is:  1.0\n",
            "Model accuracy on test is:  0.9366786140979689\n",
            "--------------------------------------------------\n",
            "confusion_matrix train is:  [[1813    0    0]\n",
            " [   0  407    0]\n",
            " [   0    0 1126]]\n",
            "confusion_matrix test is:  [[468   0  36]\n",
            " [  2  72  10]\n",
            " [  5   0 244]]\n",
            "Wrong predictions out of total\n",
            "--------------------------------------------------\n",
            "53 / 837\n",
            "--------------------------------------------------\n"
          ]
        }
      ]
    },
    {
      "cell_type": "markdown",
      "metadata": {
        "id": "tFeKES_AW5gY"
      },
      "source": [
        "The k-nearest neighbors (KNN) algorithm is a simple, easy-to-implement supervised machine learning algorithm that can be used to solve both classification and regression problems."
      ]
    },
    {
      "cell_type": "code",
      "metadata": {
        "colab": {
          "base_uri": "https://localhost:8080/"
        },
        "id": "7BSmFJcfsKcz",
        "outputId": "12a863b5-6257-45ab-9819-d88256b6679b"
      },
      "source": [
        "#fit the model on train data \n",
        "KNN = KNeighborsClassifier().fit(X_train,Y_train)\n",
        "#predict on train \n",
        "train_preds4 = KNN.predict(X_train)\n",
        "#accuracy on train\n",
        "print(\"Model accuracy on train is: \", accuracy_score(Y_train, train_preds4))\n",
        "\n",
        "#predict on test\n",
        "test_preds4 = KNN.predict(X_test)\n",
        "#accuracy on test\n",
        "print(\"Model accuracy on test is: \", accuracy_score(Y_test, test_preds4))\n",
        "print('-'*50)\n",
        "\n",
        "#Confusion matrix\n",
        "print(\"confusion_matrix train is: \", confusion_matrix(Y_train, train_preds4))\n",
        "print(\"confusion_matrix test is: \", confusion_matrix(Y_test, test_preds4))\n",
        "print('Wrong predictions out of total')\n",
        "print('-'*50)\n",
        "\n",
        "# Wrong Predictions made.\n",
        "print((Y_test !=test_preds4).sum(),'/',((Y_test == test_preds4).sum()+(Y_test != test_preds4).sum()))\n",
        "print('-'*50)"
      ],
      "execution_count": null,
      "outputs": [
        {
          "output_type": "stream",
          "name": "stdout",
          "text": [
            "Model accuracy on train is:  0.8544530783024507\n",
            "Model accuracy on test is:  0.8590203106332138\n",
            "--------------------------------------------------\n",
            "confusion_matrix train is:  [[1775    0   38]\n",
            " [  56  340   11]\n",
            " [ 382    0  744]]\n",
            "confusion_matrix test is:  [[490   0  14]\n",
            " [  9  71   4]\n",
            " [ 91   0 158]]\n",
            "Wrong predictions out of total\n",
            "--------------------------------------------------\n",
            "118 / 837\n",
            "--------------------------------------------------\n"
          ]
        }
      ]
    },
    {
      "cell_type": "markdown",
      "metadata": {
        "id": "tVetfcH5XOXq"
      },
      "source": [
        "The objective of the support vector machine algorithm is to find a hyperplane in N-dimensional space(N — the number of features) that distinctly classifies the data points."
      ]
    },
    {
      "cell_type": "code",
      "metadata": {
        "colab": {
          "base_uri": "https://localhost:8080/"
        },
        "id": "lOwIikWgsMnD",
        "outputId": "184098c9-1698-4175-8311-aafac3e84338"
      },
      "source": [
        "#fit the model on train data \n",
        "SVM = SVC(kernel='linear')\n",
        "SVM.fit(X_train, Y_train)\n",
        "\n",
        "#predict on train \n",
        "train_preds5 = SVM.predict(X_train)\n",
        "#accuracy on train\n",
        "print(\"Model accuracy on train is: \", accuracy_score(Y_train, train_preds5))\n",
        "\n",
        "#predict on test\n",
        "test_preds5 = SVM.predict(X_test)\n",
        "#accuracy on test\n",
        "print(\"Model accuracy on test is: \", accuracy_score(Y_test, test_preds5))\n",
        "print('-'*50)\n",
        "\n",
        "#Confusion matrix\n",
        "print(\"confusion_matrix train is: \", confusion_matrix(Y_train, train_preds5))\n",
        "print(\"confusion_matrix test is: \", confusion_matrix(Y_test, test_preds5))\n",
        "print('Wrong predictions out of total')\n",
        "print('-'*50)\n",
        "\n",
        "# Wrong Predictions made.\n",
        "print((Y_test !=test_preds5).sum(),'/',((Y_test == test_preds5).sum()+(Y_test != test_preds5).sum()))\n",
        "print('-'*50)"
      ],
      "execution_count": null,
      "outputs": [
        {
          "output_type": "stream",
          "name": "stdout",
          "text": [
            "Model accuracy on train is:  0.9668260609683204\n",
            "Model accuracy on test is:  0.9414575866188769\n",
            "--------------------------------------------------\n",
            "confusion_matrix train is:  [[1757    0   56]\n",
            " [  15  353   39]\n",
            " [   1    0 1125]]\n",
            "confusion_matrix test is:  [[479   0  25]\n",
            " [  2  71  11]\n",
            " [ 11   0 238]]\n",
            "Wrong predictions out of total\n",
            "--------------------------------------------------\n",
            "49 / 837\n",
            "--------------------------------------------------\n"
          ]
        }
      ]
    }
  ]
}