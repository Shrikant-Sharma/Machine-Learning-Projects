{
  "nbformat": 4,
  "nbformat_minor": 0,
  "metadata": {
    "colab": {
      "name": "sharma_week7.ipynb",
      "provenance": []
    },
    "kernelspec": {
      "name": "python3",
      "display_name": "Python 3"
    },
    "language_info": {
      "name": "python"
    }
  },
  "cells": [
    {
      "cell_type": "markdown",
      "metadata": {
        "id": "vCxnSVWNH7Oq"
      },
      "source": [
        "Section 1"
      ]
    },
    {
      "cell_type": "code",
      "metadata": {
        "id": "hRY7vxJpFhuv"
      },
      "source": [
        "from keras.datasets import mnist\n",
        "\n",
        "from keras import models\n",
        "\n",
        "from keras import layers\n",
        "\n",
        "from tensorflow.keras.utils import to_categorical"
      ],
      "execution_count": 52,
      "outputs": []
    },
    {
      "cell_type": "markdown",
      "metadata": {
        "id": "6b_JgQNbIvQq"
      },
      "source": [
        "I am simply splitting my data in traing and test sets"
      ]
    },
    {
      "cell_type": "code",
      "metadata": {
        "id": "tghk2vkNIv7a"
      },
      "source": [
        "(train_images,train_labels),(test_images,test_labels) = mnist.load_data()"
      ],
      "execution_count": 53,
      "outputs": []
    },
    {
      "cell_type": "markdown",
      "metadata": {
        "id": "g7aiXLQDI4FY"
      },
      "source": [
        "I am architecting my Neural Network"
      ]
    },
    {
      "cell_type": "code",
      "metadata": {
        "id": "mxnlMgz-I45g"
      },
      "source": [
        "myNetwork = models.Sequential()"
      ],
      "execution_count": 54,
      "outputs": []
    },
    {
      "cell_type": "code",
      "metadata": {
        "id": "B5GDWm9XI7bw"
      },
      "source": [
        "myNetwork.add(layers.Dense(784,activation='relu',input_shape=(28*28,)))"
      ],
      "execution_count": 55,
      "outputs": []
    },
    {
      "cell_type": "code",
      "metadata": {
        "id": "Au3MM1bdI--I"
      },
      "source": [
        "myNetwork.add(layers.Dense(784,activation='relu',input_shape=(28*28,)))"
      ],
      "execution_count": 56,
      "outputs": []
    },
    {
      "cell_type": "code",
      "metadata": {
        "id": "feocARhEJB4n"
      },
      "source": [
        "myNetwork.add(layers.Dense(10,activation='softmax'))"
      ],
      "execution_count": 57,
      "outputs": []
    },
    {
      "cell_type": "code",
      "metadata": {
        "id": "1Fhy4brbJDwQ"
      },
      "source": [
        "\n",
        "myNetwork.compile(optimizer='adam',loss='categorical_crossentropy',metrics=['accuracy'])"
      ],
      "execution_count": 58,
      "outputs": []
    },
    {
      "cell_type": "markdown",
      "metadata": {
        "id": "ZayoajaVJOkW"
      },
      "source": [
        "I am simply going to prepare data"
      ]
    },
    {
      "cell_type": "code",
      "metadata": {
        "id": "Qhv6QMk6JOTe"
      },
      "source": [
        "train_images = train_images.reshape((60000,28*28))"
      ],
      "execution_count": 59,
      "outputs": []
    },
    {
      "cell_type": "code",
      "metadata": {
        "id": "IMOYQ0VrJSX9"
      },
      "source": [
        "train_images = train_images.astype('float32') / 255"
      ],
      "execution_count": 60,
      "outputs": []
    },
    {
      "cell_type": "code",
      "metadata": {
        "id": "s1EYhuZ6JUO4"
      },
      "source": [
        "\n",
        "test_images = test_images.reshape((10000,28*28))"
      ],
      "execution_count": 61,
      "outputs": []
    },
    {
      "cell_type": "code",
      "metadata": {
        "id": "BMPs2dwQJWOG"
      },
      "source": [
        "test_images = test_images.astype('float32')/255"
      ],
      "execution_count": 62,
      "outputs": []
    },
    {
      "cell_type": "code",
      "metadata": {
        "id": "y4dbgqPBJY20"
      },
      "source": [
        "train_labels = to_categorical(train_labels)"
      ],
      "execution_count": 63,
      "outputs": []
    },
    {
      "cell_type": "code",
      "metadata": {
        "id": "ERYsayMrJa6O"
      },
      "source": [
        "test_labels = to_categorical(test_labels)"
      ],
      "execution_count": 64,
      "outputs": []
    },
    {
      "cell_type": "markdown",
      "metadata": {
        "id": "JqWD-CdoJeLU"
      },
      "source": [
        "We are going to train the model"
      ]
    },
    {
      "cell_type": "code",
      "metadata": {
        "colab": {
          "base_uri": "https://localhost:8080/"
        },
        "id": "pHac-8DzJdtV",
        "outputId": "b847b7b3-8b61-4f0c-a4ab-bc96370decfa"
      },
      "source": [
        "myNetwork.fit(train_images,train_labels,epochs=5,batch_size=128)"
      ],
      "execution_count": 65,
      "outputs": [
        {
          "output_type": "stream",
          "name": "stdout",
          "text": [
            "Epoch 1/5\n",
            "469/469 [==============================] - 9s 18ms/step - loss: 0.2014 - accuracy: 0.9394\n",
            "Epoch 2/5\n",
            "469/469 [==============================] - 8s 18ms/step - loss: 0.0740 - accuracy: 0.9770\n",
            "Epoch 3/5\n",
            "469/469 [==============================] - 8s 18ms/step - loss: 0.0478 - accuracy: 0.9851\n",
            "Epoch 4/5\n",
            "469/469 [==============================] - 8s 18ms/step - loss: 0.0354 - accuracy: 0.9884\n",
            "Epoch 5/5\n",
            "469/469 [==============================] - 8s 18ms/step - loss: 0.0272 - accuracy: 0.9912\n"
          ]
        },
        {
          "output_type": "execute_result",
          "data": {
            "text/plain": [
              "<keras.callbacks.History at 0x7fe67baa70d0>"
            ]
          },
          "metadata": {},
          "execution_count": 65
        }
      ]
    },
    {
      "cell_type": "code",
      "metadata": {
        "colab": {
          "base_uri": "https://localhost:8080/"
        },
        "id": "DoveXOCfJyhZ",
        "outputId": "d8ec5a6f-aeb5-4d78-db53-23e89f1fd914"
      },
      "source": [
        "\n",
        "test_loss,test_acc = myNetwork.evaluate(test_images,test_labels)"
      ],
      "execution_count": 66,
      "outputs": [
        {
          "output_type": "stream",
          "name": "stdout",
          "text": [
            "313/313 [==============================] - 1s 3ms/step - loss: 0.0729 - accuracy: 0.9778\n"
          ]
        }
      ]
    },
    {
      "cell_type": "code",
      "metadata": {
        "colab": {
          "base_uri": "https://localhost:8080/"
        },
        "id": "rqWHIefhJ1m6",
        "outputId": "c390ed2e-f78d-4e7f-bea4-ba03e66a846c"
      },
      "source": [
        "print('Test accuracy: ', test_acc, 'test_loss', test_loss)"
      ],
      "execution_count": 67,
      "outputs": [
        {
          "output_type": "stream",
          "name": "stdout",
          "text": [
            "Test accuracy:  0.9778000116348267 test_loss 0.07291446626186371\n"
          ]
        }
      ]
    },
    {
      "cell_type": "markdown",
      "metadata": {
        "id": "C2FeauC2J5AS"
      },
      "source": [
        "Section 2:"
      ]
    },
    {
      "cell_type": "markdown",
      "metadata": {
        "id": "f8xqPeWRKmKV"
      },
      "source": [
        "Save the model and upload with your assignment. When I run your code from your upload it will reference your model name so it should work. I run the code for each student in isolation, so truly the name you use is irrelevant. If it works for you, it should work for me."
      ]
    },
    {
      "cell_type": "code",
      "metadata": {
        "id": "22CG4t1gJ4US",
        "colab": {
          "base_uri": "https://localhost:8080/"
        },
        "outputId": "d93daf50-0416-401f-d976-e694332cfa07"
      },
      "source": [
        "# Create and train a new model instance.\n",
        "model = models.Sequential()\n",
        "model.compile(optimizer='adam')\n",
        "model.fit(test_images, test_labels, epochs=5)"
      ],
      "execution_count": 68,
      "outputs": [
        {
          "output_type": "stream",
          "name": "stdout",
          "text": [
            "Epoch 1/5\n",
            "313/313 [==============================] - 0s 731us/step - loss: 0.0000e+00\n",
            "Epoch 2/5\n",
            "313/313 [==============================] - 0s 745us/step - loss: 0.0000e+00\n",
            "Epoch 3/5\n",
            "313/313 [==============================] - 0s 696us/step - loss: 0.0000e+00\n",
            "Epoch 4/5\n",
            "313/313 [==============================] - 0s 602us/step - loss: 0.0000e+00\n",
            "Epoch 5/5\n",
            "313/313 [==============================] - 0s 615us/step - loss: 0.0000e+00\n"
          ]
        },
        {
          "output_type": "execute_result",
          "data": {
            "text/plain": [
              "<keras.callbacks.History at 0x7fe67b99d090>"
            ]
          },
          "metadata": {},
          "execution_count": 68
        }
      ]
    },
    {
      "cell_type": "code",
      "metadata": {
        "colab": {
          "base_uri": "https://localhost:8080/"
        },
        "id": "fXT1cfqLPPXD",
        "outputId": "dba93cc7-a372-4329-91a1-ce63f3a9a098"
      },
      "source": [
        "# Save the entire model as a SavedModel.\n",
        "!mkdir -p saved_model\n",
        "model.save('saved_model/my_model') "
      ],
      "execution_count": 69,
      "outputs": [
        {
          "output_type": "stream",
          "name": "stdout",
          "text": [
            "INFO:tensorflow:Assets written to: saved_model/my_model/assets\n"
          ]
        }
      ]
    },
    {
      "cell_type": "markdown",
      "metadata": {
        "id": "SojfWJfPQMRD"
      },
      "source": [
        "The SavedModel format is a directory containing a protobuf binary and a TensorFlow checkpoint. Inspect the saved model directory:"
      ]
    },
    {
      "cell_type": "code",
      "metadata": {
        "colab": {
          "base_uri": "https://localhost:8080/"
        },
        "id": "a2UG-ZZXPYmZ",
        "outputId": "2b46fa08-82c6-4d78-93d5-1f8ac4ff5a49"
      },
      "source": [
        "# my_model directory\n",
        "!ls saved_model\n",
        "\n",
        "# Contains an assets folder, saved_model.pb, and variables folder.\n",
        "!ls saved_model/my_model"
      ],
      "execution_count": 70,
      "outputs": [
        {
          "output_type": "stream",
          "name": "stdout",
          "text": [
            "my_model\n",
            "assets\tkeras_metadata.pb  saved_model.pb  variables\n"
          ]
        }
      ]
    },
    {
      "cell_type": "markdown",
      "metadata": {
        "id": "_knmySGmQkpK"
      },
      "source": [
        "Show in the rest of the jupyter notebook how you coded a function that went and downloaded an image of a digit from Google Images, and how you did treatment of that image and run it through your CNN classifier. I don't even have to execute this, I will be able to see your code and see how you implemented your download function, how you treated the image and how you submitted it to your classifier to obtain a result."
      ]
    },
    {
      "cell_type": "code",
      "metadata": {
        "colab": {
          "base_uri": "https://localhost:8080/"
        },
        "id": "iuRpZLInRBGf",
        "outputId": "cd610e26-ec2e-4995-fa3b-7cdd5c08ce49"
      },
      "source": [
        "import numpy as np\n",
        "import urllib\n",
        "import cv2\n",
        "def url_to_image(url):\n",
        "  resp = urllib.request.urlopen(url)\n",
        "  image = np.asarray(bytearray(resp.read()), dtype=\"uint8\")\n",
        "  image1 = cv2.imdecode(image, cv2.IMREAD_COLOR)\n",
        "  return image1\n",
        "\n",
        "image1 = url_to_image(url = input('Enter the url:'))"
      ],
      "execution_count": 71,
      "outputs": [
        {
          "name": "stdout",
          "output_type": "stream",
          "text": [
            "Enter the url:https://blog.otoro.net/assets/20160401/png/mnist_dream_10.png\n"
          ]
        }
      ]
    },
    {
      "cell_type": "code",
      "metadata": {
        "colab": {
          "base_uri": "https://localhost:8080/",
          "height": 1000
        },
        "id": "gOrcE0_iFsAv",
        "outputId": "ac54790b-2010-4c22-a009-26026ea86219"
      },
      "source": [
        "import cv2\n",
        "import numpy as np\n",
        "img_array = np.asarray(image1)\n",
        "resized = cv2.resize(img_array, (28, 28 ))\n",
        "gray_scale = cv2.cvtColor(resized, cv2.COLOR_BGR2GRAY) #(28, 28)\n",
        "image = cv2.bitwise_not(gray_scale)\n",
        "plt.imshow(image, cmap=plt.get_cmap('gray'))\n",
        "print(image)"
      ],
      "execution_count": 72,
      "outputs": [
        {
          "output_type": "stream",
          "name": "stdout",
          "text": [
            "[[  1   1   1   1   1   1   1   1   1   1   1   1   1   1   1   1   1   1\n",
            "    1   1   1   1   1   1   1   1   1   1]\n",
            " [  1   1   1   1   1   1   1   1   1   1   1   1   1   1   1   1   1   1\n",
            "    1   1   1   1   1   1   1   1   1   1]\n",
            " [  1   1   1   1   1   1   1   1   1   1   1   1   1   1   1   1   1   1\n",
            "    1   1   1   1   1   1   1   1   1   1]\n",
            " [  1   1   1   1   1   1   1   1   1   1   1   1   1   1   1   1   1   1\n",
            "    1   1   1   1   1   1   1   1   1   1]\n",
            " [  1   1   1   1   1   1   1   6  66 111  41  15  11  10   9  11  21  63\n",
            "  148 176 185 170  42   6   1   1   1   1]\n",
            " [  1   1   1   1   1   1  20 223 234 239 223 188 154 173 211 235 245 243\n",
            "  240 248 247 242 220  12   2   1   1   1]\n",
            " [  1   1   1   1   1   2 188 241 250 252 252 253 253 252 251 250 251 252\n",
            "  252 250 245 146  41   9   1   1   1   1]\n",
            " [  1   1   1   1   1  41 234 250 252 252 252 251 249 243 235 237 236 232\n",
            "  210 127   5   1   1   1   1   1   1   1]\n",
            " [  1   1   1   1   2 166 247 252 252 250 241 212 193 164 112  46  23  16\n",
            "    6   2   1   1   1   1   1   1   1   1]\n",
            " [  1   1   1   1   5 189 248 251 246 196  33  13  11   1   2   3   1   1\n",
            "    1   1   1   1   1   1   1   1   1   1]\n",
            " [  1   1   1   1  13 222 249 249 240 173  23   6  10  12   7   2   1   1\n",
            "    1   1   1   1   1   1   1   1   1   1]\n",
            " [  1   1   1   1  11 241 251 244 247 243 235 232 197 210 115  36   6   3\n",
            "    1   1   1   1   1   1   1   1   1   1]\n",
            " [  1   1   1   1   6 234 249 251 253 253 253 253 250 252 247 251 238 128\n",
            "    4   2   1   1   1   1   1   1   1   1]\n",
            " [  1   1   1   1   1 135 252 253 253 249 246 246 247 241 250 250 249 249\n",
            "  244   7   1   1   1   1   1   1   1   1]\n",
            " [  1   1   1   1   1   6 189 238 247 241 170  49  16  10  36 218 246 249\n",
            "  251 233  14   1   1   1   1   1   1   1]\n",
            " [  1   1   1   1   1   2  19  79  95  17   6   3   1   1   3  16 170 244\n",
            "  248 248 104   3   1   1   1   1   1   1]\n",
            " [  1   1   1   1   1   1   3   4   1   1   2   1   1   1   1   2  12 138\n",
            "  244 249 175  10   1   1   1   1   1   1]\n",
            " [  1   1   1   1   1   1   1   1   1   1   1   1   1   1   1   1   2  32\n",
            "  243 251 240   7   1   1   1   1   1   1]\n",
            " [  1   1   1   1   1   1   1   1   1   1   1   1   1   1   1   1   1  11\n",
            "  241 250 249   6   1   1   1   1   1   1]\n",
            " [  1   1   1   1   2   2   1   1   1   1   1   1   1   1   1   1   3 161\n",
            "  245 252 252   9   1   1   1   1   1   1]\n",
            " [  1   1   1   1   4   9  19  17   6   3   1   1   1   2   3  22 219 247\n",
            "  253 254 226   4   1   1   1   1   1   1]\n",
            " [  1   1   1   1   3 147 230 239 202  36   5   6  29 139 221 236 245 252\n",
            "  254 242  33   1   1   1   1   1   1   1]\n",
            " [  1   1   1   1   2 127 248 250 248 233 185 179 207 229 244 248 252 253\n",
            "  243  54   3   1   1   1   1   1   1   1]\n",
            " [  1   1   1   1   1  19 217 247 251 250 245 238 239 248 251 252 251 240\n",
            "  160   6   1   1   1   1   1   1   1   1]\n",
            " [  1   1   1   1   1   2  27 211 237 247 250 250 251 251 251 243 229 177\n",
            "   19   2   1   1   1   1   1   1   1   1]\n",
            " [  1   1   1   1   1   1   2   8  54 215 231 238 249 242 216 159  21   4\n",
            "    1   1   1   1   1   1   1   1   1   1]\n",
            " [  1   1   1   1   1   1   1   1   1   1   1   1   1   1   1   1   1   1\n",
            "    1   1   1   1   1   1   1   1   1   1]\n",
            " [  1   1   1   1   1   1   1   1   1   1   1   1   1   1   1   1   1   1\n",
            "    1   1   1   1   1   1   1   1   1   1]]\n"
          ]
        },
        {
          "output_type": "display_data",
          "data": {
            "image/png": "[encoded data removed]",
            "text/plain": [
              "<Figure size 432x288 with 1 Axes>"
            ]
          },
          "metadata": {
            "needs_background": "light"
          }
        }
      ]
    },
    {
      "cell_type": "code",
      "metadata": {
        "colab": {
          "base_uri": "https://localhost:8080/"
        },
        "id": "fWZZUkNtTr73",
        "outputId": "125f273a-bd3e-42ce-9082-85d9e05692b1"
      },
      "source": [
        "image = image / 255\n",
        "image = image.reshape(1, 784)\n",
        "image = image.astype('float32')\n",
        "\n",
        "prediction = np.argmax(myNetwork.predict(image), axis= -1)\n",
        "print(\"predicted digit:\", str(prediction))\n"
      ],
      "execution_count": 73,
      "outputs": [
        {
          "output_type": "stream",
          "name": "stdout",
          "text": [
            "predicted digit: [5]\n"
          ]
        }
      ]
    },
    {
      "cell_type": "code",
      "metadata": {
        "id": "wuTT2N2hbUs7"
      },
      "source": [
        ""
      ],
      "execution_count": 73,
      "outputs": []
    }
  ]
}